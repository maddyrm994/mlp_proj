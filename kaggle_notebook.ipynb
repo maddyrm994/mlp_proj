{
 "cells": [
  {
   "cell_type": "markdown",
   "id": "340f4315",
   "metadata": {
    "papermill": {
     "duration": 0.023943,
     "end_time": "2024-12-09T16:06:59.039820",
     "exception": false,
     "start_time": "2024-12-09T16:06:59.015877",
     "status": "completed"
    },
    "tags": []
   },
   "source": [
    "# Predicting the Success of Bank Telemarketing"
   ]
  },
  {
   "cell_type": "markdown",
   "id": "8371a3d8",
   "metadata": {
    "papermill": {
     "duration": 0.021933,
     "end_time": "2024-12-09T16:06:59.085913",
     "exception": false,
     "start_time": "2024-12-09T16:06:59.063980",
     "status": "completed"
    },
    "tags": []
   },
   "source": [
    "## Goal\n",
    "\n",
    "To predict the success of bank telemarketing, specifically determining whether a client has subscribed to a term deposit."
   ]
  },
  {
   "cell_type": "markdown",
   "id": "d689aee0",
   "metadata": {
    "papermill": {
     "duration": 0.022519,
     "end_time": "2024-12-09T16:06:59.130622",
     "exception": false,
     "start_time": "2024-12-09T16:06:59.108103",
     "status": "completed"
    },
    "tags": []
   },
   "source": [
    "## Metadata\n",
    "\n",
    "- **last contact date**: last contact date\r\n",
    "- **age**: age of the client (numeric)\r\n",
    "- **job**: type of job\r\n",
    "- **marital**: marital status (categorical: \"married\", \"divorced\", \"single\"; note: \"divorced\" means divorced or widowed)\r\n",
    "- **education** (categorical: \"unknown\", \"secondary\", \"primary\", \"tertiary\")\r\n",
    "- **default**: has credit in default? (binary: \"yes\", \"no\")\r\n",
    "- **balance**: average yearly balance, in euros (numeric)\r\n",
    "- **housing**: has housing loan? (binary: \"yes\", \"no\")\r\n",
    "- **loan**: has personal loan? (binary: \"yes\", \"no\")\r\n",
    "- **contact**: contact communication type (categorical: \"unknown\", \"telephone\", \"cellular\")\r\n",
    "- **duration**: last contact duration, in seconds (numeric)\r\n",
    "- **campaign**: number of contacts performed during this campaign and for this client (numeric, includes last contact)\r\n",
    "- **pdays**: number of days that passed by after the client was last contacted from a previous campaign (numeric, -1 means client was not previously contacted)\r\n",
    "- **previous**: number of contacts performed before this campaign and for this client (numeric)\r\n",
    "- **poutcome**: outcome of the previous marketing campaign (categorical: \"unknown\", \"other\", \"failure\", \"success\")\r\n",
    "- **target**: has the client subscribed a term deposit? (binary: \"yes\", \"no\")"
   ]
  },
  {
   "cell_type": "markdown",
   "id": "fa81ddec",
   "metadata": {
    "papermill": {
     "duration": 0.022085,
     "end_time": "2024-12-09T16:06:59.176613",
     "exception": false,
     "start_time": "2024-12-09T16:06:59.154528",
     "status": "completed"
    },
    "tags": []
   },
   "source": [
    "---"
   ]
  },
  {
   "cell_type": "markdown",
   "id": "85f20bfa",
   "metadata": {
    "papermill": {
     "duration": 0.022433,
     "end_time": "2024-12-09T16:06:59.223289",
     "exception": false,
     "start_time": "2024-12-09T16:06:59.200856",
     "status": "completed"
    },
    "tags": []
   },
   "source": [
    "**Pandas** is a popular Python library used for data manipulation and analysis. It provides powerful tools for working with structured data, such as tables or spreadsheets, making it an essential library in data science and machine learning workflows. It is intuitive, versatile, and seamlessly integrates with other Python libraries like **NumPy**, **Matplotlib**, and **Scikit-learn**, making it a cornerstone for data processing in Python."
   ]
  },
  {
   "cell_type": "code",
   "execution_count": 1,
   "id": "ce2c8eed",
   "metadata": {
    "execution": {
     "iopub.execute_input": "2024-12-09T16:06:59.270590Z",
     "iopub.status.busy": "2024-12-09T16:06:59.270208Z",
     "iopub.status.idle": "2024-12-09T16:07:00.073067Z",
     "shell.execute_reply": "2024-12-09T16:07:00.071946Z"
    },
    "papermill": {
     "duration": 0.829459,
     "end_time": "2024-12-09T16:07:00.075712",
     "exception": false,
     "start_time": "2024-12-09T16:06:59.246253",
     "status": "completed"
    },
    "tags": []
   },
   "outputs": [],
   "source": [
    "import pandas as pd"
   ]
  },
  {
   "cell_type": "markdown",
   "id": "f077be7c",
   "metadata": {
    "papermill": {
     "duration": 0.021864,
     "end_time": "2024-12-09T16:07:00.120343",
     "exception": false,
     "start_time": "2024-12-09T16:07:00.098479",
     "status": "completed"
    },
    "tags": []
   },
   "source": [
    "## Submission File Generation"
   ]
  },
  {
   "cell_type": "code",
   "execution_count": 2,
   "id": "2118a748",
   "metadata": {
    "execution": {
     "iopub.execute_input": "2024-12-09T16:07:00.167018Z",
     "iopub.status.busy": "2024-12-09T16:07:00.166473Z",
     "iopub.status.idle": "2024-12-09T16:07:00.172460Z",
     "shell.execute_reply": "2024-12-09T16:07:00.171472Z"
    },
    "papermill": {
     "duration": 0.031784,
     "end_time": "2024-12-09T16:07:00.174333",
     "exception": false,
     "start_time": "2024-12-09T16:07:00.142549",
     "status": "completed"
    },
    "tags": []
   },
   "outputs": [],
   "source": [
    "def submission_file_generator(model):\n",
    "    test_set = pd.read_csv(\"/kaggle/input/predict-the-success-of-bank-telemarketing/test.csv\")\n",
    "    pred = model.predict(test_set)\n",
    "\n",
    "    submission = pd.DataFrame({\"id\": range(0,test_set.shape[0]), \"target\": pred}) \n",
    "\n",
    "    submission.to_csv('submission.csv',index=False)\n",
    "    print(submission.head(5))"
   ]
  },
  {
   "cell_type": "markdown",
   "id": "13822ed4",
   "metadata": {
    "papermill": {
     "duration": 0.022244,
     "end_time": "2024-12-09T16:07:00.220778",
     "exception": false,
     "start_time": "2024-12-09T16:07:00.198534",
     "status": "completed"
    },
    "tags": []
   },
   "source": [
    "## Trial Submission (Dummy Classifier)"
   ]
  },
  {
   "cell_type": "code",
   "execution_count": 3,
   "id": "e437ab6b",
   "metadata": {
    "execution": {
     "iopub.execute_input": "2024-12-09T16:07:00.266519Z",
     "iopub.status.busy": "2024-12-09T16:07:00.266153Z",
     "iopub.status.idle": "2024-12-09T16:07:02.026624Z",
     "shell.execute_reply": "2024-12-09T16:07:02.025394Z"
    },
    "papermill": {
     "duration": 1.785864,
     "end_time": "2024-12-09T16:07:02.028860",
     "exception": false,
     "start_time": "2024-12-09T16:07:00.242996",
     "status": "completed"
    },
    "tags": []
   },
   "outputs": [
    {
     "data": {
      "text/plain": [
       "0.4598663819822301"
      ]
     },
     "execution_count": 3,
     "metadata": {},
     "output_type": "execute_result"
    }
   ],
   "source": [
    "from sklearn.dummy import DummyClassifier\n",
    "from sklearn.metrics import f1_score\n",
    "\n",
    "df = pd.read_csv(\"/kaggle/input/predict-the-success-of-bank-telemarketing/train.csv\")\n",
    "\n",
    "X = df.drop(\"target\", axis=1)\n",
    "y = df['target']\n",
    "\n",
    "model = DummyClassifier().fit(X,y)\n",
    "\n",
    "y_pred=model.predict(X)\n",
    "\n",
    "f1_score(y, y_pred, average='macro')"
   ]
  },
  {
   "cell_type": "markdown",
   "id": "0ba64d05",
   "metadata": {
    "papermill": {
     "duration": 0.022171,
     "end_time": "2024-12-09T16:07:02.073519",
     "exception": false,
     "start_time": "2024-12-09T16:07:02.051348",
     "status": "completed"
    },
    "tags": []
   },
   "source": [
    "F1 Score: `0.4598663819822301`"
   ]
  },
  {
   "cell_type": "code",
   "execution_count": 4,
   "id": "d43a105a",
   "metadata": {
    "execution": {
     "iopub.execute_input": "2024-12-09T16:07:02.171902Z",
     "iopub.status.busy": "2024-12-09T16:07:02.171503Z",
     "iopub.status.idle": "2024-12-09T16:07:02.176088Z",
     "shell.execute_reply": "2024-12-09T16:07:02.175036Z"
    },
    "papermill": {
     "duration": 0.081887,
     "end_time": "2024-12-09T16:07:02.178050",
     "exception": false,
     "start_time": "2024-12-09T16:07:02.096163",
     "status": "completed"
    },
    "tags": []
   },
   "outputs": [],
   "source": [
    "# commented out\n",
    "\n",
    "# submission_file_generator(model)"
   ]
  },
  {
   "cell_type": "markdown",
   "id": "8d3327c1",
   "metadata": {
    "papermill": {
     "duration": 0.022439,
     "end_time": "2024-12-09T16:07:02.224561",
     "exception": false,
     "start_time": "2024-12-09T16:07:02.202122",
     "status": "completed"
    },
    "tags": []
   },
   "source": [
    "## Train Dataset"
   ]
  },
  {
   "cell_type": "code",
   "execution_count": 5,
   "id": "b9604bfb",
   "metadata": {
    "execution": {
     "iopub.execute_input": "2024-12-09T16:07:02.271748Z",
     "iopub.status.busy": "2024-12-09T16:07:02.270689Z",
     "iopub.status.idle": "2024-12-09T16:07:02.362886Z",
     "shell.execute_reply": "2024-12-09T16:07:02.361822Z"
    },
    "papermill": {
     "duration": 0.118374,
     "end_time": "2024-12-09T16:07:02.365336",
     "exception": false,
     "start_time": "2024-12-09T16:07:02.246962",
     "status": "completed"
    },
    "tags": []
   },
   "outputs": [],
   "source": [
    "train_df = pd.read_csv(\"/kaggle/input/predict-the-success-of-bank-telemarketing/train.csv\")\n",
    "train_df_copy = train_df"
   ]
  },
  {
   "cell_type": "markdown",
   "id": "101c05f3",
   "metadata": {
    "papermill": {
     "duration": 0.022224,
     "end_time": "2024-12-09T16:07:02.409864",
     "exception": false,
     "start_time": "2024-12-09T16:07:02.387640",
     "status": "completed"
    },
    "tags": []
   },
   "source": [
    "## Exploratory Data Analysis"
   ]
  },
  {
   "cell_type": "markdown",
   "id": "96f9a8d6",
   "metadata": {
    "papermill": {
     "duration": 0.02212,
     "end_time": "2024-12-09T16:07:02.454315",
     "exception": false,
     "start_time": "2024-12-09T16:07:02.432195",
     "status": "completed"
    },
    "tags": []
   },
   "source": [
    "Exploratory Data Analysis (EDA) is a process to understand and summarize the main characteristics of a dataset before diving into modeling.\n",
    "- **Overview of Data** involves looking at the dataset's structure, shape, and basic statistics to get a sense of its size and content.\n",
    "- **Handling Missing Values** ensures data quality by identifying and appropriately managing gaps, either by filling them (imputation) or removing them.\n",
    "- **Categorical Data** focuses on understanding patterns and distributions in non-numeric columns, such as using frequency tables or encoding for analysis.\n",
    "- **Numerical Data** explores numerical columns through measures like mean, median, and variance, often visualized with histograms or boxplots.\n",
    "- **Correlation** checks relationships between variables, often using heatmaps, to identify potential dependencies.\n",
    "- **Unique** and **Duplicates** analysis ensures data integrity by finding redundant or repeated entries.\n",
    "- **Bootstrap Plots** use resampling techniques to estimate the stability of statistics, helping to understand variability in the dataset. Together, these steps help uncover insights and prepare the data for modeling."
   ]
  },
  {
   "cell_type": "markdown",
   "id": "908febeb",
   "metadata": {
    "papermill": {
     "duration": 0.021992,
     "end_time": "2024-12-09T16:07:02.498524",
     "exception": false,
     "start_time": "2024-12-09T16:07:02.476532",
     "status": "completed"
    },
    "tags": []
   },
   "source": [
    "### Overview of Data"
   ]
  },
  {
   "cell_type": "code",
   "execution_count": 6,
   "id": "9f639be2",
   "metadata": {
    "execution": {
     "iopub.execute_input": "2024-12-09T16:07:02.544753Z",
     "iopub.status.busy": "2024-12-09T16:07:02.544341Z",
     "iopub.status.idle": "2024-12-09T16:07:02.550730Z",
     "shell.execute_reply": "2024-12-09T16:07:02.549783Z"
    },
    "papermill": {
     "duration": 0.031751,
     "end_time": "2024-12-09T16:07:02.552623",
     "exception": false,
     "start_time": "2024-12-09T16:07:02.520872",
     "status": "completed"
    },
    "tags": []
   },
   "outputs": [
    {
     "data": {
      "text/plain": [
       "(39211, 16)"
      ]
     },
     "execution_count": 6,
     "metadata": {},
     "output_type": "execute_result"
    }
   ],
   "source": [
    "train_df_copy.shape"
   ]
  },
  {
   "cell_type": "code",
   "execution_count": 7,
   "id": "d1508820",
   "metadata": {
    "execution": {
     "iopub.execute_input": "2024-12-09T16:07:02.599875Z",
     "iopub.status.busy": "2024-12-09T16:07:02.599128Z",
     "iopub.status.idle": "2024-12-09T16:07:02.616955Z",
     "shell.execute_reply": "2024-12-09T16:07:02.615954Z"
    },
    "papermill": {
     "duration": 0.04411,
     "end_time": "2024-12-09T16:07:02.619174",
     "exception": false,
     "start_time": "2024-12-09T16:07:02.575064",
     "status": "completed"
    },
    "tags": []
   },
   "outputs": [
    {
     "data": {
      "text/html": [
       "<div>\n",
       "<style scoped>\n",
       "    .dataframe tbody tr th:only-of-type {\n",
       "        vertical-align: middle;\n",
       "    }\n",
       "\n",
       "    .dataframe tbody tr th {\n",
       "        vertical-align: top;\n",
       "    }\n",
       "\n",
       "    .dataframe thead th {\n",
       "        text-align: right;\n",
       "    }\n",
       "</style>\n",
       "<table border=\"1\" class=\"dataframe\">\n",
       "  <thead>\n",
       "    <tr style=\"text-align: right;\">\n",
       "      <th></th>\n",
       "      <th>last contact date</th>\n",
       "      <th>age</th>\n",
       "      <th>job</th>\n",
       "      <th>marital</th>\n",
       "      <th>education</th>\n",
       "      <th>default</th>\n",
       "      <th>balance</th>\n",
       "      <th>housing</th>\n",
       "      <th>loan</th>\n",
       "      <th>contact</th>\n",
       "      <th>duration</th>\n",
       "      <th>campaign</th>\n",
       "      <th>pdays</th>\n",
       "      <th>previous</th>\n",
       "      <th>poutcome</th>\n",
       "      <th>target</th>\n",
       "    </tr>\n",
       "  </thead>\n",
       "  <tbody>\n",
       "    <tr>\n",
       "      <th>0</th>\n",
       "      <td>2009-04-17</td>\n",
       "      <td>26</td>\n",
       "      <td>blue-collar</td>\n",
       "      <td>married</td>\n",
       "      <td>secondary</td>\n",
       "      <td>no</td>\n",
       "      <td>647</td>\n",
       "      <td>yes</td>\n",
       "      <td>no</td>\n",
       "      <td>cellular</td>\n",
       "      <td>357</td>\n",
       "      <td>2</td>\n",
       "      <td>331</td>\n",
       "      <td>1</td>\n",
       "      <td>other</td>\n",
       "      <td>no</td>\n",
       "    </tr>\n",
       "    <tr>\n",
       "      <th>1</th>\n",
       "      <td>2009-10-11</td>\n",
       "      <td>52</td>\n",
       "      <td>technician</td>\n",
       "      <td>married</td>\n",
       "      <td>secondary</td>\n",
       "      <td>no</td>\n",
       "      <td>553</td>\n",
       "      <td>yes</td>\n",
       "      <td>no</td>\n",
       "      <td>telephone</td>\n",
       "      <td>160</td>\n",
       "      <td>1</td>\n",
       "      <td>-1</td>\n",
       "      <td>0</td>\n",
       "      <td>NaN</td>\n",
       "      <td>no</td>\n",
       "    </tr>\n",
       "    <tr>\n",
       "      <th>2</th>\n",
       "      <td>2010-11-20</td>\n",
       "      <td>44</td>\n",
       "      <td>blue-collar</td>\n",
       "      <td>married</td>\n",
       "      <td>secondary</td>\n",
       "      <td>no</td>\n",
       "      <td>1397</td>\n",
       "      <td>no</td>\n",
       "      <td>no</td>\n",
       "      <td>cellular</td>\n",
       "      <td>326</td>\n",
       "      <td>1</td>\n",
       "      <td>-1</td>\n",
       "      <td>0</td>\n",
       "      <td>NaN</td>\n",
       "      <td>no</td>\n",
       "    </tr>\n",
       "    <tr>\n",
       "      <th>3</th>\n",
       "      <td>2009-09-01</td>\n",
       "      <td>33</td>\n",
       "      <td>admin.</td>\n",
       "      <td>married</td>\n",
       "      <td>secondary</td>\n",
       "      <td>no</td>\n",
       "      <td>394</td>\n",
       "      <td>yes</td>\n",
       "      <td>no</td>\n",
       "      <td>telephone</td>\n",
       "      <td>104</td>\n",
       "      <td>3</td>\n",
       "      <td>-1</td>\n",
       "      <td>0</td>\n",
       "      <td>NaN</td>\n",
       "      <td>no</td>\n",
       "    </tr>\n",
       "    <tr>\n",
       "      <th>4</th>\n",
       "      <td>2008-01-29</td>\n",
       "      <td>31</td>\n",
       "      <td>entrepreneur</td>\n",
       "      <td>single</td>\n",
       "      <td>tertiary</td>\n",
       "      <td>no</td>\n",
       "      <td>137</td>\n",
       "      <td>no</td>\n",
       "      <td>no</td>\n",
       "      <td>cellular</td>\n",
       "      <td>445</td>\n",
       "      <td>2</td>\n",
       "      <td>-1</td>\n",
       "      <td>0</td>\n",
       "      <td>NaN</td>\n",
       "      <td>no</td>\n",
       "    </tr>\n",
       "  </tbody>\n",
       "</table>\n",
       "</div>"
      ],
      "text/plain": [
       "  last contact date  age           job  marital  education default  balance  \\\n",
       "0        2009-04-17   26   blue-collar  married  secondary      no      647   \n",
       "1        2009-10-11   52    technician  married  secondary      no      553   \n",
       "2        2010-11-20   44   blue-collar  married  secondary      no     1397   \n",
       "3        2009-09-01   33        admin.  married  secondary      no      394   \n",
       "4        2008-01-29   31  entrepreneur   single   tertiary      no      137   \n",
       "\n",
       "  housing loan    contact  duration  campaign  pdays  previous poutcome target  \n",
       "0     yes   no   cellular       357         2    331         1    other     no  \n",
       "1     yes   no  telephone       160         1     -1         0      NaN     no  \n",
       "2      no   no   cellular       326         1     -1         0      NaN     no  \n",
       "3     yes   no  telephone       104         3     -1         0      NaN     no  \n",
       "4      no   no   cellular       445         2     -1         0      NaN     no  "
      ]
     },
     "execution_count": 7,
     "metadata": {},
     "output_type": "execute_result"
    }
   ],
   "source": [
    "train_df_copy.head()"
   ]
  },
  {
   "cell_type": "code",
   "execution_count": 8,
   "id": "7e46deba",
   "metadata": {
    "execution": {
     "iopub.execute_input": "2024-12-09T16:07:02.666482Z",
     "iopub.status.busy": "2024-12-09T16:07:02.665753Z",
     "iopub.status.idle": "2024-12-09T16:07:02.702166Z",
     "shell.execute_reply": "2024-12-09T16:07:02.701082Z"
    },
    "papermill": {
     "duration": 0.063112,
     "end_time": "2024-12-09T16:07:02.705024",
     "exception": false,
     "start_time": "2024-12-09T16:07:02.641912",
     "status": "completed"
    },
    "tags": []
   },
   "outputs": [
    {
     "name": "stdout",
     "output_type": "stream",
     "text": [
      "<class 'pandas.core.frame.DataFrame'>\n",
      "RangeIndex: 39211 entries, 0 to 39210\n",
      "Data columns (total 16 columns):\n",
      " #   Column             Non-Null Count  Dtype \n",
      "---  ------             --------------  ----- \n",
      " 0   last contact date  39211 non-null  object\n",
      " 1   age                39211 non-null  int64 \n",
      " 2   job                38982 non-null  object\n",
      " 3   marital            39211 non-null  object\n",
      " 4   education          37744 non-null  object\n",
      " 5   default            39211 non-null  object\n",
      " 6   balance            39211 non-null  int64 \n",
      " 7   housing            39211 non-null  object\n",
      " 8   loan               39211 non-null  object\n",
      " 9   contact            28875 non-null  object\n",
      " 10  duration           39211 non-null  int64 \n",
      " 11  campaign           39211 non-null  int64 \n",
      " 12  pdays              39211 non-null  int64 \n",
      " 13  previous           39211 non-null  int64 \n",
      " 14  poutcome           9760 non-null   object\n",
      " 15  target             39211 non-null  object\n",
      "dtypes: int64(6), object(10)\n",
      "memory usage: 4.8+ MB\n"
     ]
    }
   ],
   "source": [
    "train_df_copy.info()"
   ]
  },
  {
   "cell_type": "code",
   "execution_count": 9,
   "id": "3d79e39d",
   "metadata": {
    "execution": {
     "iopub.execute_input": "2024-12-09T16:07:02.752861Z",
     "iopub.status.busy": "2024-12-09T16:07:02.751915Z",
     "iopub.status.idle": "2024-12-09T16:07:02.762275Z",
     "shell.execute_reply": "2024-12-09T16:07:02.761297Z"
    },
    "papermill": {
     "duration": 0.036205,
     "end_time": "2024-12-09T16:07:02.764264",
     "exception": false,
     "start_time": "2024-12-09T16:07:02.728059",
     "status": "completed"
    },
    "tags": []
   },
   "outputs": [
    {
     "data": {
      "text/plain": [
       "target\n",
       "no     33384\n",
       "yes     5827\n",
       "Name: count, dtype: int64"
      ]
     },
     "execution_count": 9,
     "metadata": {},
     "output_type": "execute_result"
    }
   ],
   "source": [
    "train_df_copy['target'].value_counts()"
   ]
  },
  {
   "cell_type": "code",
   "execution_count": 10,
   "id": "f0c8f2ec",
   "metadata": {
    "execution": {
     "iopub.execute_input": "2024-12-09T16:07:02.812260Z",
     "iopub.status.busy": "2024-12-09T16:07:02.811331Z",
     "iopub.status.idle": "2024-12-09T16:07:02.843230Z",
     "shell.execute_reply": "2024-12-09T16:07:02.842217Z"
    },
    "papermill": {
     "duration": 0.058024,
     "end_time": "2024-12-09T16:07:02.845347",
     "exception": false,
     "start_time": "2024-12-09T16:07:02.787323",
     "status": "completed"
    },
    "tags": []
   },
   "outputs": [
    {
     "data": {
      "text/html": [
       "<div>\n",
       "<style scoped>\n",
       "    .dataframe tbody tr th:only-of-type {\n",
       "        vertical-align: middle;\n",
       "    }\n",
       "\n",
       "    .dataframe tbody tr th {\n",
       "        vertical-align: top;\n",
       "    }\n",
       "\n",
       "    .dataframe thead th {\n",
       "        text-align: right;\n",
       "    }\n",
       "</style>\n",
       "<table border=\"1\" class=\"dataframe\">\n",
       "  <thead>\n",
       "    <tr style=\"text-align: right;\">\n",
       "      <th></th>\n",
       "      <th>age</th>\n",
       "      <th>balance</th>\n",
       "      <th>duration</th>\n",
       "      <th>campaign</th>\n",
       "      <th>pdays</th>\n",
       "      <th>previous</th>\n",
       "    </tr>\n",
       "  </thead>\n",
       "  <tbody>\n",
       "    <tr>\n",
       "      <th>count</th>\n",
       "      <td>39211.000000</td>\n",
       "      <td>39211.000000</td>\n",
       "      <td>39211.000000</td>\n",
       "      <td>39211.000000</td>\n",
       "      <td>39211.000000</td>\n",
       "      <td>39211.000000</td>\n",
       "    </tr>\n",
       "    <tr>\n",
       "      <th>mean</th>\n",
       "      <td>42.120247</td>\n",
       "      <td>5441.781719</td>\n",
       "      <td>439.062789</td>\n",
       "      <td>5.108770</td>\n",
       "      <td>72.256051</td>\n",
       "      <td>11.826171</td>\n",
       "    </tr>\n",
       "    <tr>\n",
       "      <th>std</th>\n",
       "      <td>12.709352</td>\n",
       "      <td>16365.292065</td>\n",
       "      <td>769.096291</td>\n",
       "      <td>9.890153</td>\n",
       "      <td>160.942593</td>\n",
       "      <td>44.140259</td>\n",
       "    </tr>\n",
       "    <tr>\n",
       "      <th>min</th>\n",
       "      <td>18.000000</td>\n",
       "      <td>-8019.000000</td>\n",
       "      <td>0.000000</td>\n",
       "      <td>1.000000</td>\n",
       "      <td>-1.000000</td>\n",
       "      <td>0.000000</td>\n",
       "    </tr>\n",
       "    <tr>\n",
       "      <th>25%</th>\n",
       "      <td>33.000000</td>\n",
       "      <td>98.000000</td>\n",
       "      <td>109.000000</td>\n",
       "      <td>1.000000</td>\n",
       "      <td>-1.000000</td>\n",
       "      <td>0.000000</td>\n",
       "    </tr>\n",
       "    <tr>\n",
       "      <th>50%</th>\n",
       "      <td>40.000000</td>\n",
       "      <td>549.000000</td>\n",
       "      <td>197.000000</td>\n",
       "      <td>2.000000</td>\n",
       "      <td>-1.000000</td>\n",
       "      <td>0.000000</td>\n",
       "    </tr>\n",
       "    <tr>\n",
       "      <th>75%</th>\n",
       "      <td>50.000000</td>\n",
       "      <td>2030.000000</td>\n",
       "      <td>380.000000</td>\n",
       "      <td>4.000000</td>\n",
       "      <td>-1.000000</td>\n",
       "      <td>0.000000</td>\n",
       "    </tr>\n",
       "    <tr>\n",
       "      <th>max</th>\n",
       "      <td>95.000000</td>\n",
       "      <td>102127.000000</td>\n",
       "      <td>4918.000000</td>\n",
       "      <td>63.000000</td>\n",
       "      <td>871.000000</td>\n",
       "      <td>275.000000</td>\n",
       "    </tr>\n",
       "  </tbody>\n",
       "</table>\n",
       "</div>"
      ],
      "text/plain": [
       "                age        balance      duration      campaign         pdays  \\\n",
       "count  39211.000000   39211.000000  39211.000000  39211.000000  39211.000000   \n",
       "mean      42.120247    5441.781719    439.062789      5.108770     72.256051   \n",
       "std       12.709352   16365.292065    769.096291      9.890153    160.942593   \n",
       "min       18.000000   -8019.000000      0.000000      1.000000     -1.000000   \n",
       "25%       33.000000      98.000000    109.000000      1.000000     -1.000000   \n",
       "50%       40.000000     549.000000    197.000000      2.000000     -1.000000   \n",
       "75%       50.000000    2030.000000    380.000000      4.000000     -1.000000   \n",
       "max       95.000000  102127.000000   4918.000000     63.000000    871.000000   \n",
       "\n",
       "           previous  \n",
       "count  39211.000000  \n",
       "mean      11.826171  \n",
       "std       44.140259  \n",
       "min        0.000000  \n",
       "25%        0.000000  \n",
       "50%        0.000000  \n",
       "75%        0.000000  \n",
       "max      275.000000  "
      ]
     },
     "execution_count": 10,
     "metadata": {},
     "output_type": "execute_result"
    }
   ],
   "source": [
    "train_df_copy.describe()"
   ]
  },
  {
   "cell_type": "markdown",
   "id": "0b6fc4f3",
   "metadata": {
    "papermill": {
     "duration": 0.022602,
     "end_time": "2024-12-09T16:07:02.891102",
     "exception": false,
     "start_time": "2024-12-09T16:07:02.868500",
     "status": "completed"
    },
    "tags": []
   },
   "source": [
    "### Handling Missing Values"
   ]
  },
  {
   "cell_type": "code",
   "execution_count": 11,
   "id": "f52c9b3b",
   "metadata": {
    "execution": {
     "iopub.execute_input": "2024-12-09T16:07:02.939513Z",
     "iopub.status.busy": "2024-12-09T16:07:02.938632Z",
     "iopub.status.idle": "2024-12-09T16:07:02.964162Z",
     "shell.execute_reply": "2024-12-09T16:07:02.963154Z"
    },
    "papermill": {
     "duration": 0.051723,
     "end_time": "2024-12-09T16:07:02.966038",
     "exception": false,
     "start_time": "2024-12-09T16:07:02.914315",
     "status": "completed"
    },
    "tags": []
   },
   "outputs": [
    {
     "data": {
      "text/plain": [
       "last contact date        0\n",
       "age                      0\n",
       "job                    229\n",
       "marital                  0\n",
       "education             1467\n",
       "default                  0\n",
       "balance                  0\n",
       "housing                  0\n",
       "loan                     0\n",
       "contact              10336\n",
       "duration                 0\n",
       "campaign                 0\n",
       "pdays                    0\n",
       "previous                 0\n",
       "poutcome             29451\n",
       "target                   0\n",
       "dtype: int64"
      ]
     },
     "execution_count": 11,
     "metadata": {},
     "output_type": "execute_result"
    }
   ],
   "source": [
    "train_df_copy.isna().sum()"
   ]
  },
  {
   "cell_type": "code",
   "execution_count": 12,
   "id": "9696483f",
   "metadata": {
    "execution": {
     "iopub.execute_input": "2024-12-09T16:07:03.015095Z",
     "iopub.status.busy": "2024-12-09T16:07:03.014339Z",
     "iopub.status.idle": "2024-12-09T16:07:03.040924Z",
     "shell.execute_reply": "2024-12-09T16:07:03.039969Z"
    },
    "papermill": {
     "duration": 0.053201,
     "end_time": "2024-12-09T16:07:03.043037",
     "exception": false,
     "start_time": "2024-12-09T16:07:02.989836",
     "status": "completed"
    },
    "tags": []
   },
   "outputs": [
    {
     "data": {
      "text/plain": [
       "last contact date     0.000000\n",
       "age                   0.000000\n",
       "job                   0.584020\n",
       "marital               0.000000\n",
       "education             3.741297\n",
       "default               0.000000\n",
       "balance               0.000000\n",
       "housing               0.000000\n",
       "loan                  0.000000\n",
       "contact              26.359950\n",
       "duration              0.000000\n",
       "campaign              0.000000\n",
       "pdays                 0.000000\n",
       "previous              0.000000\n",
       "poutcome             75.109026\n",
       "target                0.000000\n",
       "dtype: float64"
      ]
     },
     "execution_count": 12,
     "metadata": {},
     "output_type": "execute_result"
    }
   ],
   "source": [
    "train_df_copy.isna().sum() *100 / len(train_df_copy)"
   ]
  },
  {
   "cell_type": "code",
   "execution_count": 13,
   "id": "61e60db1",
   "metadata": {
    "execution": {
     "iopub.execute_input": "2024-12-09T16:07:03.091604Z",
     "iopub.status.busy": "2024-12-09T16:07:03.091220Z",
     "iopub.status.idle": "2024-12-09T16:07:04.064359Z",
     "shell.execute_reply": "2024-12-09T16:07:04.063392Z"
    },
    "papermill": {
     "duration": 1.000553,
     "end_time": "2024-12-09T16:07:04.067077",
     "exception": false,
     "start_time": "2024-12-09T16:07:03.066524",
     "status": "completed"
    },
    "tags": []
   },
   "outputs": [
    {
     "data": {
      "text/plain": [
       "<Axes: >"
      ]
     },
     "execution_count": 13,
     "metadata": {},
     "output_type": "execute_result"
    },
    {
     "data": {
      "image/png": "[encoded data removed]",
      "text/plain": [
       "<Figure size 2000x1200 with 2 Axes>"
      ]
     },
     "metadata": {},
     "output_type": "display_data"
    }
   ],
   "source": [
    "import missingno as msno\n",
    "\n",
    "msno.heatmap(train_df_copy)"
   ]
  },
  {
   "cell_type": "markdown",
   "id": "efe1e6a1",
   "metadata": {
    "papermill": {
     "duration": 0.024436,
     "end_time": "2024-12-09T16:07:04.116844",
     "exception": false,
     "start_time": "2024-12-09T16:07:04.092408",
     "status": "completed"
    },
    "tags": []
   },
   "source": [
    "#### Observations\n",
    "\n",
    "- **No Missing Values for Most Columns:** The majority of the values in the heatmap are blank or white, indicating that most columns in the dataset have little to no missing data.\n",
    "\n",
    "- **Correlation Between Missing Values:** The numbers `0.2` and `0.3` indicate a correlation between missing values for the columns. For instance, there is a `30%` correlation between missing data in the `contact` and `poutcome` columns, suggesting that if one is missing, the other might also be missing.\n",
    "\n",
    "- **Isolated Missingness:** Columns like `job` and others do not seem to have any notable correlation with missing data in other columns, indicating their missingness is likely independent.\n",
    "\n",
    "- **Partial Data Completeness:** The low correlations (`0.2` and `0.3`) show that the dataset has some missing values, but the overall magnitude of missingness isn't extensive or highly structured.\n",
    "\n",
    "- **Columns with Potential Imputation Needs:** The heatmap suggests that we may need to focus on handling missing data specifically in `education`, `contact`, and `poutcome`, given their non-zero correlations."
   ]
  },
  {
   "cell_type": "markdown",
   "id": "05278b85",
   "metadata": {
    "papermill": {
     "duration": 0.024371,
     "end_time": "2024-12-09T16:07:04.167173",
     "exception": false,
     "start_time": "2024-12-09T16:07:04.142802",
     "status": "completed"
    },
    "tags": []
   },
   "source": [
    "### Categorical Data"
   ]
  },
  {
   "cell_type": "code",
   "execution_count": 14,
   "id": "093d8057",
   "metadata": {
    "execution": {
     "iopub.execute_input": "2024-12-09T16:07:04.220098Z",
     "iopub.status.busy": "2024-12-09T16:07:04.219548Z",
     "iopub.status.idle": "2024-12-09T16:07:04.237492Z",
     "shell.execute_reply": "2024-12-09T16:07:04.236407Z"
    },
    "papermill": {
     "duration": 0.047371,
     "end_time": "2024-12-09T16:07:04.239455",
     "exception": false,
     "start_time": "2024-12-09T16:07:04.192084",
     "status": "completed"
    },
    "tags": []
   },
   "outputs": [
    {
     "data": {
      "text/html": [
       "<div>\n",
       "<style scoped>\n",
       "    .dataframe tbody tr th:only-of-type {\n",
       "        vertical-align: middle;\n",
       "    }\n",
       "\n",
       "    .dataframe tbody tr th {\n",
       "        vertical-align: top;\n",
       "    }\n",
       "\n",
       "    .dataframe thead th {\n",
       "        text-align: right;\n",
       "    }\n",
       "</style>\n",
       "<table border=\"1\" class=\"dataframe\">\n",
       "  <thead>\n",
       "    <tr style=\"text-align: right;\">\n",
       "      <th></th>\n",
       "      <th>last contact date</th>\n",
       "      <th>job</th>\n",
       "      <th>marital</th>\n",
       "      <th>education</th>\n",
       "      <th>default</th>\n",
       "      <th>housing</th>\n",
       "      <th>loan</th>\n",
       "      <th>contact</th>\n",
       "      <th>poutcome</th>\n",
       "      <th>target</th>\n",
       "    </tr>\n",
       "  </thead>\n",
       "  <tbody>\n",
       "    <tr>\n",
       "      <th>0</th>\n",
       "      <td>2009-04-17</td>\n",
       "      <td>blue-collar</td>\n",
       "      <td>married</td>\n",
       "      <td>secondary</td>\n",
       "      <td>no</td>\n",
       "      <td>yes</td>\n",
       "      <td>no</td>\n",
       "      <td>cellular</td>\n",
       "      <td>other</td>\n",
       "      <td>no</td>\n",
       "    </tr>\n",
       "    <tr>\n",
       "      <th>1</th>\n",
       "      <td>2009-10-11</td>\n",
       "      <td>technician</td>\n",
       "      <td>married</td>\n",
       "      <td>secondary</td>\n",
       "      <td>no</td>\n",
       "      <td>yes</td>\n",
       "      <td>no</td>\n",
       "      <td>telephone</td>\n",
       "      <td>NaN</td>\n",
       "      <td>no</td>\n",
       "    </tr>\n",
       "    <tr>\n",
       "      <th>2</th>\n",
       "      <td>2010-11-20</td>\n",
       "      <td>blue-collar</td>\n",
       "      <td>married</td>\n",
       "      <td>secondary</td>\n",
       "      <td>no</td>\n",
       "      <td>no</td>\n",
       "      <td>no</td>\n",
       "      <td>cellular</td>\n",
       "      <td>NaN</td>\n",
       "      <td>no</td>\n",
       "    </tr>\n",
       "    <tr>\n",
       "      <th>3</th>\n",
       "      <td>2009-09-01</td>\n",
       "      <td>admin.</td>\n",
       "      <td>married</td>\n",
       "      <td>secondary</td>\n",
       "      <td>no</td>\n",
       "      <td>yes</td>\n",
       "      <td>no</td>\n",
       "      <td>telephone</td>\n",
       "      <td>NaN</td>\n",
       "      <td>no</td>\n",
       "    </tr>\n",
       "    <tr>\n",
       "      <th>4</th>\n",
       "      <td>2008-01-29</td>\n",
       "      <td>entrepreneur</td>\n",
       "      <td>single</td>\n",
       "      <td>tertiary</td>\n",
       "      <td>no</td>\n",
       "      <td>no</td>\n",
       "      <td>no</td>\n",
       "      <td>cellular</td>\n",
       "      <td>NaN</td>\n",
       "      <td>no</td>\n",
       "    </tr>\n",
       "  </tbody>\n",
       "</table>\n",
       "</div>"
      ],
      "text/plain": [
       "  last contact date           job  marital  education default housing loan  \\\n",
       "0        2009-04-17   blue-collar  married  secondary      no     yes   no   \n",
       "1        2009-10-11    technician  married  secondary      no     yes   no   \n",
       "2        2010-11-20   blue-collar  married  secondary      no      no   no   \n",
       "3        2009-09-01        admin.  married  secondary      no     yes   no   \n",
       "4        2008-01-29  entrepreneur   single   tertiary      no      no   no   \n",
       "\n",
       "     contact poutcome target  \n",
       "0   cellular    other     no  \n",
       "1  telephone      NaN     no  \n",
       "2   cellular      NaN     no  \n",
       "3  telephone      NaN     no  \n",
       "4   cellular      NaN     no  "
      ]
     },
     "execution_count": 14,
     "metadata": {},
     "output_type": "execute_result"
    }
   ],
   "source": [
    "categorical_data_df = train_df_copy.select_dtypes(include=['object'])\n",
    "categorical_data_df.head()"
   ]
  },
  {
   "cell_type": "code",
   "execution_count": 15,
   "id": "86c19aeb",
   "metadata": {
    "execution": {
     "iopub.execute_input": "2024-12-09T16:07:04.290023Z",
     "iopub.status.busy": "2024-12-09T16:07:04.289249Z",
     "iopub.status.idle": "2024-12-09T16:07:04.352296Z",
     "shell.execute_reply": "2024-12-09T16:07:04.351287Z"
    },
    "papermill": {
     "duration": 0.090459,
     "end_time": "2024-12-09T16:07:04.354315",
     "exception": false,
     "start_time": "2024-12-09T16:07:04.263856",
     "status": "completed"
    },
    "tags": []
   },
   "outputs": [
    {
     "data": {
      "text/html": [
       "<div>\n",
       "<style scoped>\n",
       "    .dataframe tbody tr th:only-of-type {\n",
       "        vertical-align: middle;\n",
       "    }\n",
       "\n",
       "    .dataframe tbody tr th {\n",
       "        vertical-align: top;\n",
       "    }\n",
       "\n",
       "    .dataframe thead th {\n",
       "        text-align: right;\n",
       "    }\n",
       "</style>\n",
       "<table border=\"1\" class=\"dataframe\">\n",
       "  <thead>\n",
       "    <tr style=\"text-align: right;\">\n",
       "      <th></th>\n",
       "      <th>last contact date</th>\n",
       "      <th>job</th>\n",
       "      <th>marital</th>\n",
       "      <th>education</th>\n",
       "      <th>default</th>\n",
       "      <th>housing</th>\n",
       "      <th>loan</th>\n",
       "      <th>contact</th>\n",
       "      <th>poutcome</th>\n",
       "      <th>target</th>\n",
       "    </tr>\n",
       "  </thead>\n",
       "  <tbody>\n",
       "    <tr>\n",
       "      <th>count</th>\n",
       "      <td>39211</td>\n",
       "      <td>38982</td>\n",
       "      <td>39211</td>\n",
       "      <td>37744</td>\n",
       "      <td>39211</td>\n",
       "      <td>39211</td>\n",
       "      <td>39211</td>\n",
       "      <td>28875</td>\n",
       "      <td>9760</td>\n",
       "      <td>39211</td>\n",
       "    </tr>\n",
       "    <tr>\n",
       "      <th>unique</th>\n",
       "      <td>1013</td>\n",
       "      <td>11</td>\n",
       "      <td>3</td>\n",
       "      <td>3</td>\n",
       "      <td>2</td>\n",
       "      <td>2</td>\n",
       "      <td>2</td>\n",
       "      <td>2</td>\n",
       "      <td>3</td>\n",
       "      <td>2</td>\n",
       "    </tr>\n",
       "    <tr>\n",
       "      <th>top</th>\n",
       "      <td>2009-05-15</td>\n",
       "      <td>blue-collar</td>\n",
       "      <td>married</td>\n",
       "      <td>secondary</td>\n",
       "      <td>no</td>\n",
       "      <td>yes</td>\n",
       "      <td>no</td>\n",
       "      <td>cellular</td>\n",
       "      <td>failure</td>\n",
       "      <td>no</td>\n",
       "    </tr>\n",
       "    <tr>\n",
       "      <th>freq</th>\n",
       "      <td>313</td>\n",
       "      <td>7776</td>\n",
       "      <td>22691</td>\n",
       "      <td>19584</td>\n",
       "      <td>36954</td>\n",
       "      <td>21657</td>\n",
       "      <td>31820</td>\n",
       "      <td>25030</td>\n",
       "      <td>4949</td>\n",
       "      <td>33384</td>\n",
       "    </tr>\n",
       "  </tbody>\n",
       "</table>\n",
       "</div>"
      ],
      "text/plain": [
       "       last contact date          job  marital  education default housing  \\\n",
       "count              39211        38982    39211      37744   39211   39211   \n",
       "unique              1013           11        3          3       2       2   \n",
       "top           2009-05-15  blue-collar  married  secondary      no     yes   \n",
       "freq                 313         7776    22691      19584   36954   21657   \n",
       "\n",
       "         loan   contact poutcome target  \n",
       "count   39211     28875     9760  39211  \n",
       "unique      2         2        3      2  \n",
       "top        no  cellular  failure     no  \n",
       "freq    31820     25030     4949  33384  "
      ]
     },
     "execution_count": 15,
     "metadata": {},
     "output_type": "execute_result"
    }
   ],
   "source": [
    "categorical_data_df.describe()"
   ]
  },
  {
   "cell_type": "code",
   "execution_count": 16,
   "id": "8ec53633",
   "metadata": {
    "execution": {
     "iopub.execute_input": "2024-12-09T16:07:04.406068Z",
     "iopub.status.busy": "2024-12-09T16:07:04.405075Z",
     "iopub.status.idle": "2024-12-09T16:07:04.414486Z",
     "shell.execute_reply": "2024-12-09T16:07:04.413476Z"
    },
    "papermill": {
     "duration": 0.037452,
     "end_time": "2024-12-09T16:07:04.416558",
     "exception": false,
     "start_time": "2024-12-09T16:07:04.379106",
     "status": "completed"
    },
    "tags": []
   },
   "outputs": [
    {
     "data": {
      "text/plain": [
       "poutcome\n",
       "failure    4949\n",
       "other      2560\n",
       "success    2251\n",
       "Name: count, dtype: int64"
      ]
     },
     "execution_count": 16,
     "metadata": {},
     "output_type": "execute_result"
    }
   ],
   "source": [
    "train_df_copy[categorical_data_df.columns[8]].value_counts() "
   ]
  },
  {
   "cell_type": "code",
   "execution_count": 17,
   "id": "2cf4a906",
   "metadata": {
    "execution": {
     "iopub.execute_input": "2024-12-09T16:07:04.467741Z",
     "iopub.status.busy": "2024-12-09T16:07:04.467389Z",
     "iopub.status.idle": "2024-12-09T16:07:04.739711Z",
     "shell.execute_reply": "2024-12-09T16:07:04.738717Z"
    },
    "papermill": {
     "duration": 0.300632,
     "end_time": "2024-12-09T16:07:04.742061",
     "exception": false,
     "start_time": "2024-12-09T16:07:04.441429",
     "status": "completed"
    },
    "tags": []
   },
   "outputs": [
    {
     "data": {
      "text/plain": [
       "<Axes: xlabel='job'>"
      ]
     },
     "execution_count": 17,
     "metadata": {},
     "output_type": "execute_result"
    },
    {
     "data": {
      "image/png": "[encoded data removed]",
      "text/plain": [
       "<Figure size 1200x600 with 1 Axes>"
      ]
     },
     "metadata": {},
     "output_type": "display_data"
    }
   ],
   "source": [
    "categorical_data_df[categorical_data_df.columns[1]].value_counts().plot(kind='bar', figsize=(12, 6))"
   ]
  },
  {
   "cell_type": "markdown",
   "id": "8ae46e64",
   "metadata": {
    "papermill": {
     "duration": 0.024809,
     "end_time": "2024-12-09T16:07:04.792183",
     "exception": false,
     "start_time": "2024-12-09T16:07:04.767374",
     "status": "completed"
    },
    "tags": []
   },
   "source": [
    "#### Observations\n",
    "\n",
    "- **Dominance of \"Blue-Collar\" Jobs:** The majority of individuals belong to the `blue-collar` job category, with the highest count of nearly `8000`, indicating this group constitutes a significant portion of the dataset.\n",
    "\n",
    "- **\"Management\" and \"Technician\" Categories are Prominent:** Following `blue-collar`, the `management` and `technician` categories also have high counts, suggesting these are common job types in the dataset.\n",
    "\n",
    "- **Low Representation for Certain Jobs:** Categories like `student`, `housemaid`, `unemployed`, and `entrepreneur` have significantly lower counts, indicating that these groups are underrepresented.\n",
    "\n",
    "- **Potential Skew in Job Distribution:** The job distribution is highly imbalanced, with a few categories like `blue-collar` dominating, which could affect modeling, especially if the target variable depends heavily on job types.\n",
    "\n",
    "- **Insights for Grouping:** Low-frequency job categories, such as `student` and `housemaid` could potentially be grouped together during preprocessing (if meaningful) to address the imbalance."
   ]
  },
  {
   "cell_type": "markdown",
   "id": "29f434a1",
   "metadata": {
    "papermill": {
     "duration": 0.02479,
     "end_time": "2024-12-09T16:07:04.842178",
     "exception": false,
     "start_time": "2024-12-09T16:07:04.817388",
     "status": "completed"
    },
    "tags": []
   },
   "source": [
    "### Numerical Data"
   ]
  },
  {
   "cell_type": "code",
   "execution_count": 18,
   "id": "9e8a64de",
   "metadata": {
    "execution": {
     "iopub.execute_input": "2024-12-09T16:07:04.894616Z",
     "iopub.status.busy": "2024-12-09T16:07:04.893671Z",
     "iopub.status.idle": "2024-12-09T16:07:04.904967Z",
     "shell.execute_reply": "2024-12-09T16:07:04.903993Z"
    },
    "papermill": {
     "duration": 0.03973,
     "end_time": "2024-12-09T16:07:04.907003",
     "exception": false,
     "start_time": "2024-12-09T16:07:04.867273",
     "status": "completed"
    },
    "tags": []
   },
   "outputs": [
    {
     "data": {
      "text/html": [
       "<div>\n",
       "<style scoped>\n",
       "    .dataframe tbody tr th:only-of-type {\n",
       "        vertical-align: middle;\n",
       "    }\n",
       "\n",
       "    .dataframe tbody tr th {\n",
       "        vertical-align: top;\n",
       "    }\n",
       "\n",
       "    .dataframe thead th {\n",
       "        text-align: right;\n",
       "    }\n",
       "</style>\n",
       "<table border=\"1\" class=\"dataframe\">\n",
       "  <thead>\n",
       "    <tr style=\"text-align: right;\">\n",
       "      <th></th>\n",
       "      <th>age</th>\n",
       "      <th>balance</th>\n",
       "      <th>duration</th>\n",
       "      <th>campaign</th>\n",
       "      <th>pdays</th>\n",
       "      <th>previous</th>\n",
       "    </tr>\n",
       "  </thead>\n",
       "  <tbody>\n",
       "    <tr>\n",
       "      <th>0</th>\n",
       "      <td>26</td>\n",
       "      <td>647</td>\n",
       "      <td>357</td>\n",
       "      <td>2</td>\n",
       "      <td>331</td>\n",
       "      <td>1</td>\n",
       "    </tr>\n",
       "    <tr>\n",
       "      <th>1</th>\n",
       "      <td>52</td>\n",
       "      <td>553</td>\n",
       "      <td>160</td>\n",
       "      <td>1</td>\n",
       "      <td>-1</td>\n",
       "      <td>0</td>\n",
       "    </tr>\n",
       "    <tr>\n",
       "      <th>2</th>\n",
       "      <td>44</td>\n",
       "      <td>1397</td>\n",
       "      <td>326</td>\n",
       "      <td>1</td>\n",
       "      <td>-1</td>\n",
       "      <td>0</td>\n",
       "    </tr>\n",
       "    <tr>\n",
       "      <th>3</th>\n",
       "      <td>33</td>\n",
       "      <td>394</td>\n",
       "      <td>104</td>\n",
       "      <td>3</td>\n",
       "      <td>-1</td>\n",
       "      <td>0</td>\n",
       "    </tr>\n",
       "    <tr>\n",
       "      <th>4</th>\n",
       "      <td>31</td>\n",
       "      <td>137</td>\n",
       "      <td>445</td>\n",
       "      <td>2</td>\n",
       "      <td>-1</td>\n",
       "      <td>0</td>\n",
       "    </tr>\n",
       "  </tbody>\n",
       "</table>\n",
       "</div>"
      ],
      "text/plain": [
       "   age  balance  duration  campaign  pdays  previous\n",
       "0   26      647       357         2    331         1\n",
       "1   52      553       160         1     -1         0\n",
       "2   44     1397       326         1     -1         0\n",
       "3   33      394       104         3     -1         0\n",
       "4   31      137       445         2     -1         0"
      ]
     },
     "execution_count": 18,
     "metadata": {},
     "output_type": "execute_result"
    }
   ],
   "source": [
    "numerical_data_df = train_df_copy.select_dtypes(include=['int64'])\n",
    "numerical_attributes_list = numerical_data_df.columns\n",
    "numerical_data_df.head()"
   ]
  },
  {
   "cell_type": "code",
   "execution_count": 19,
   "id": "24d7d9d3",
   "metadata": {
    "execution": {
     "iopub.execute_input": "2024-12-09T16:07:04.961044Z",
     "iopub.status.busy": "2024-12-09T16:07:04.960485Z",
     "iopub.status.idle": "2024-12-09T16:07:04.990560Z",
     "shell.execute_reply": "2024-12-09T16:07:04.989486Z"
    },
    "papermill": {
     "duration": 0.059639,
     "end_time": "2024-12-09T16:07:04.992820",
     "exception": false,
     "start_time": "2024-12-09T16:07:04.933181",
     "status": "completed"
    },
    "tags": []
   },
   "outputs": [
    {
     "data": {
      "text/html": [
       "<div>\n",
       "<style scoped>\n",
       "    .dataframe tbody tr th:only-of-type {\n",
       "        vertical-align: middle;\n",
       "    }\n",
       "\n",
       "    .dataframe tbody tr th {\n",
       "        vertical-align: top;\n",
       "    }\n",
       "\n",
       "    .dataframe thead th {\n",
       "        text-align: right;\n",
       "    }\n",
       "</style>\n",
       "<table border=\"1\" class=\"dataframe\">\n",
       "  <thead>\n",
       "    <tr style=\"text-align: right;\">\n",
       "      <th></th>\n",
       "      <th>age</th>\n",
       "      <th>balance</th>\n",
       "      <th>duration</th>\n",
       "      <th>campaign</th>\n",
       "      <th>pdays</th>\n",
       "      <th>previous</th>\n",
       "    </tr>\n",
       "  </thead>\n",
       "  <tbody>\n",
       "    <tr>\n",
       "      <th>count</th>\n",
       "      <td>39211.000000</td>\n",
       "      <td>39211.000000</td>\n",
       "      <td>39211.000000</td>\n",
       "      <td>39211.000000</td>\n",
       "      <td>39211.000000</td>\n",
       "      <td>39211.000000</td>\n",
       "    </tr>\n",
       "    <tr>\n",
       "      <th>mean</th>\n",
       "      <td>42.120247</td>\n",
       "      <td>5441.781719</td>\n",
       "      <td>439.062789</td>\n",
       "      <td>5.108770</td>\n",
       "      <td>72.256051</td>\n",
       "      <td>11.826171</td>\n",
       "    </tr>\n",
       "    <tr>\n",
       "      <th>std</th>\n",
       "      <td>12.709352</td>\n",
       "      <td>16365.292065</td>\n",
       "      <td>769.096291</td>\n",
       "      <td>9.890153</td>\n",
       "      <td>160.942593</td>\n",
       "      <td>44.140259</td>\n",
       "    </tr>\n",
       "    <tr>\n",
       "      <th>min</th>\n",
       "      <td>18.000000</td>\n",
       "      <td>-8019.000000</td>\n",
       "      <td>0.000000</td>\n",
       "      <td>1.000000</td>\n",
       "      <td>-1.000000</td>\n",
       "      <td>0.000000</td>\n",
       "    </tr>\n",
       "    <tr>\n",
       "      <th>25%</th>\n",
       "      <td>33.000000</td>\n",
       "      <td>98.000000</td>\n",
       "      <td>109.000000</td>\n",
       "      <td>1.000000</td>\n",
       "      <td>-1.000000</td>\n",
       "      <td>0.000000</td>\n",
       "    </tr>\n",
       "    <tr>\n",
       "      <th>50%</th>\n",
       "      <td>40.000000</td>\n",
       "      <td>549.000000</td>\n",
       "      <td>197.000000</td>\n",
       "      <td>2.000000</td>\n",
       "      <td>-1.000000</td>\n",
       "      <td>0.000000</td>\n",
       "    </tr>\n",
       "    <tr>\n",
       "      <th>75%</th>\n",
       "      <td>50.000000</td>\n",
       "      <td>2030.000000</td>\n",
       "      <td>380.000000</td>\n",
       "      <td>4.000000</td>\n",
       "      <td>-1.000000</td>\n",
       "      <td>0.000000</td>\n",
       "    </tr>\n",
       "    <tr>\n",
       "      <th>max</th>\n",
       "      <td>95.000000</td>\n",
       "      <td>102127.000000</td>\n",
       "      <td>4918.000000</td>\n",
       "      <td>63.000000</td>\n",
       "      <td>871.000000</td>\n",
       "      <td>275.000000</td>\n",
       "    </tr>\n",
       "  </tbody>\n",
       "</table>\n",
       "</div>"
      ],
      "text/plain": [
       "                age        balance      duration      campaign         pdays  \\\n",
       "count  39211.000000   39211.000000  39211.000000  39211.000000  39211.000000   \n",
       "mean      42.120247    5441.781719    439.062789      5.108770     72.256051   \n",
       "std       12.709352   16365.292065    769.096291      9.890153    160.942593   \n",
       "min       18.000000   -8019.000000      0.000000      1.000000     -1.000000   \n",
       "25%       33.000000      98.000000    109.000000      1.000000     -1.000000   \n",
       "50%       40.000000     549.000000    197.000000      2.000000     -1.000000   \n",
       "75%       50.000000    2030.000000    380.000000      4.000000     -1.000000   \n",
       "max       95.000000  102127.000000   4918.000000     63.000000    871.000000   \n",
       "\n",
       "           previous  \n",
       "count  39211.000000  \n",
       "mean      11.826171  \n",
       "std       44.140259  \n",
       "min        0.000000  \n",
       "25%        0.000000  \n",
       "50%        0.000000  \n",
       "75%        0.000000  \n",
       "max      275.000000  "
      ]
     },
     "execution_count": 19,
     "metadata": {},
     "output_type": "execute_result"
    }
   ],
   "source": [
    "numerical_data_df.describe()"
   ]
  },
  {
   "cell_type": "code",
   "execution_count": 20,
   "id": "b329ebc2",
   "metadata": {
    "execution": {
     "iopub.execute_input": "2024-12-09T16:07:05.047336Z",
     "iopub.status.busy": "2024-12-09T16:07:05.046614Z",
     "iopub.status.idle": "2024-12-09T16:07:06.236558Z",
     "shell.execute_reply": "2024-12-09T16:07:06.235473Z"
    },
    "papermill": {
     "duration": 1.219394,
     "end_time": "2024-12-09T16:07:06.238665",
     "exception": false,
     "start_time": "2024-12-09T16:07:05.019271",
     "status": "completed"
    },
    "tags": []
   },
   "outputs": [
    {
     "data": {
      "text/plain": [
       "array([[<Axes: title={'center': 'age'}>,\n",
       "        <Axes: title={'center': 'balance'}>],\n",
       "       [<Axes: title={'center': 'duration'}>,\n",
       "        <Axes: title={'center': 'campaign'}>],\n",
       "       [<Axes: title={'center': 'pdays'}>,\n",
       "        <Axes: title={'center': 'previous'}>]], dtype=object)"
      ]
     },
     "execution_count": 20,
     "metadata": {},
     "output_type": "execute_result"
    },
    {
     "data": {
      "image/png": "[encoded data removed]",
      "text/plain": [
       "<Figure size 1400x700 with 6 Axes>"
      ]
     },
     "metadata": {},
     "output_type": "display_data"
    }
   ],
   "source": [
    "train_df_copy[numerical_attributes_list].hist(bins=15, figsize=(14, 7))"
   ]
  },
  {
   "cell_type": "markdown",
   "id": "49bf0b74",
   "metadata": {
    "papermill": {
     "duration": 0.026523,
     "end_time": "2024-12-09T16:07:06.292156",
     "exception": false,
     "start_time": "2024-12-09T16:07:06.265633",
     "status": "completed"
    },
    "tags": []
   },
   "source": [
    "#### Observations\n",
    "\n",
    "- **Age:** The distribution of `age` is skewed to the right, with most individuals aged between 20 and 60 years. There are fewer individuals in the dataset above 60 years, and very few under 20.\n",
    "\n",
    "- **Duration:** The distribution of `duration` is highly right-skewed, with most durations concentrated at the lower end (close to 0). A small number of cases have significantly higher values, suggesting potential outliers.\n",
    "\n",
    "- **Balance:** The `balance` attribute is heavily skewed to the right, with the majority of values concentrated near 0. A few extreme values suggest the presence of outliers or rare high balances.\n",
    "\n",
    "- **Campaign:** Most `campaigns` involve very few contacts (close to 1 or 2), as seen by the steep drop-off. A small number of observations have high contact counts, which might indicate exceptional cases.\n",
    "\n",
    "- **Pdays:** The majority of values of `pdays` are clustered around 0, possibly indicating that most individuals were not contacted in the past campaign. There are a few cases where pdays are significantly larger, indicating infrequent contacts for some.\n",
    "\n",
    "- **Previous:** Similar to `pdays`, most values of `previous` are concentrated around 0, suggesting limited or no prior contact for most individuals. A small number of cases with higher values could represent clients with repeated interactions.\n",
    "\n",
    "- **General Insights:** Most variables are highly skewed, with extreme outliers for attributes like `balance`, `duration` and `campaign`. The presence of outliers and imbalances in distributions could affect model performance and may require preprocessing techniques such as scaling, transformation, or capping extreme values. The patterns indicate the need for normalization or robust scalers for machine learning models."
   ]
  },
  {
   "cell_type": "code",
   "execution_count": 21,
   "id": "df90fb48",
   "metadata": {
    "execution": {
     "iopub.execute_input": "2024-12-09T16:07:06.347904Z",
     "iopub.status.busy": "2024-12-09T16:07:06.347491Z",
     "iopub.status.idle": "2024-12-09T16:07:06.354399Z",
     "shell.execute_reply": "2024-12-09T16:07:06.353300Z"
    },
    "papermill": {
     "duration": 0.037265,
     "end_time": "2024-12-09T16:07:06.356493",
     "exception": false,
     "start_time": "2024-12-09T16:07:06.319228",
     "status": "completed"
    },
    "tags": []
   },
   "outputs": [
    {
     "data": {
      "text/plain": [
       "Index(['age', 'balance', 'duration', 'campaign', 'pdays', 'previous'], dtype='object')"
      ]
     },
     "execution_count": 21,
     "metadata": {},
     "output_type": "execute_result"
    }
   ],
   "source": [
    "numerical_attributes_list"
   ]
  },
  {
   "cell_type": "code",
   "execution_count": 22,
   "id": "1eb4f101",
   "metadata": {
    "execution": {
     "iopub.execute_input": "2024-12-09T16:07:06.413086Z",
     "iopub.status.busy": "2024-12-09T16:07:06.412292Z",
     "iopub.status.idle": "2024-12-09T16:07:06.911467Z",
     "shell.execute_reply": "2024-12-09T16:07:06.910572Z"
    },
    "papermill": {
     "duration": 0.529893,
     "end_time": "2024-12-09T16:07:06.913718",
     "exception": false,
     "start_time": "2024-12-09T16:07:06.383825",
     "status": "completed"
    },
    "tags": []
   },
   "outputs": [
    {
     "data": {
      "text/plain": [
       "<Axes: >"
      ]
     },
     "execution_count": 22,
     "metadata": {},
     "output_type": "execute_result"
    },
    {
     "data": {
      "image/png": "[encoded data removed]",
      "text/plain": [
       "<Figure size 640x480 with 1 Axes>"
      ]
     },
     "metadata": {},
     "output_type": "display_data"
    }
   ],
   "source": [
    "from pandas.plotting import boxplot\n",
    "\n",
    "train_df_copy.boxplot(column=list(numerical_attributes_list))"
   ]
  },
  {
   "cell_type": "markdown",
   "id": "bbe558fe",
   "metadata": {
    "papermill": {
     "duration": 0.026862,
     "end_time": "2024-12-09T16:07:06.968662",
     "exception": false,
     "start_time": "2024-12-09T16:07:06.941800",
     "status": "completed"
    },
    "tags": []
   },
   "source": [
    "#### Observations\n",
    "\n",
    "- **Age:** The `age` attribute has a compact distribution with minimal outliers. Most values lie close to the central range, indicating a relatively uniform spread.\n",
    "- **Balance:** The `balance` attribute shows extreme skewness with numerous outliers above the upper whisker. A small number of cases have negative balances (outliers below the lower whisker), but the extreme positive balances dominate.\n",
    "- **Duration:** Similar to `balance`, the `duration` attribute has a significant number of outliers on the upper side, indicating that some individuals have unusually high durations. The main body of the data is concentrated near lower values.\n",
    "- **Campaign:** The `campaign` attribute has outliers on the upper side, showing a few individuals contacted significantly more times than most. The majority of the data is tightly grouped near the lower whisker.\n",
    "- **Pdays:** The `pdays` attribute displays a compact range for most data, but there are a few outliers above the upper whisker. This indicates infrequent past contacts for most individuals but very high values for some.\n",
    "- **Previous:** The `previous` attribute is heavily skewed, with very few outliers on the upper end. Most values are near the lower whisker, suggesting limited prior interactions for the majority.\n",
    "- **General Insights:** The attributes `balance`, `duration` and `campaign` have a large number of outliers, which can influence model training. These outliers may require handling strategies such as capping, removing, or transforming to improve model robustness. Attributes like `age` and `pdays` are more stable with fewer extreme values."
   ]
  },
  {
   "cell_type": "code",
   "execution_count": 23,
   "id": "4d75e8bd",
   "metadata": {
    "execution": {
     "iopub.execute_input": "2024-12-09T16:07:07.025257Z",
     "iopub.status.busy": "2024-12-09T16:07:07.024816Z",
     "iopub.status.idle": "2024-12-09T16:07:07.349720Z",
     "shell.execute_reply": "2024-12-09T16:07:07.348677Z"
    },
    "papermill": {
     "duration": 0.356301,
     "end_time": "2024-12-09T16:07:07.352053",
     "exception": false,
     "start_time": "2024-12-09T16:07:06.995752",
     "status": "completed"
    },
    "tags": []
   },
   "outputs": [
    {
     "data": {
      "text/plain": [
       "<Axes: >"
      ]
     },
     "execution_count": 23,
     "metadata": {},
     "output_type": "execute_result"
    },
    {
     "data": {
      "image/png": "[encoded data removed]",
      "text/plain": [
       "<Figure size 640x480 with 1 Axes>"
      ]
     },
     "metadata": {},
     "output_type": "display_data"
    }
   ],
   "source": [
    "train_df_copy.boxplot(column='age')"
   ]
  },
  {
   "cell_type": "markdown",
   "id": "3676b253",
   "metadata": {
    "papermill": {
     "duration": 0.027563,
     "end_time": "2024-12-09T16:07:07.407424",
     "exception": false,
     "start_time": "2024-12-09T16:07:07.379861",
     "status": "completed"
    },
    "tags": []
   },
   "source": [
    "#### Observations\n",
    "\n",
    "- **Median Age:** The green line within the box indicates the median (50th percentile) age of the data. It is approximately `40` years.\n",
    "\n",
    "- **Interquartile Range (IQR):** The box spans from the 25th percentile (Q1) to the 75th percentile (Q3), suggesting that most individuals fall between the ages of around `30` and `50`.\n",
    "\n",
    "- **Outliers:** There are several outliers above the upper whisker (beyond the 75th percentile + 1.5 × IQR). These outliers represent individuals aged above approximately `70` years, which could be older participants in the dataset.\n",
    "\n",
    "- **Age Distribution:** The age values are concentrated around the IQR (`30–50`), while the whiskers extend further down to around `20` (minimum) and up to around `70` (maximum, excluding outliers).\n",
    "\n",
    "- **Skewness:** The presence of numerous outliers on the higher end suggests that the age distribution is slightly right-skewed (a longer tail on the higher end).\n",
    "\n",
    "- **General Insights:** The majority of individuals in this dataset are between the ages of `30` and `50`, with a few older participants as outliers. The dataset may require special consideration for these outliers depending on the analysis or modeling goals."
   ]
  },
  {
   "cell_type": "code",
   "execution_count": 24,
   "id": "62ac7a8b",
   "metadata": {
    "execution": {
     "iopub.execute_input": "2024-12-09T16:07:07.465524Z",
     "iopub.status.busy": "2024-12-09T16:07:07.464570Z",
     "iopub.status.idle": "2024-12-09T16:07:07.647200Z",
     "shell.execute_reply": "2024-12-09T16:07:07.646165Z"
    },
    "papermill": {
     "duration": 0.214775,
     "end_time": "2024-12-09T16:07:07.650250",
     "exception": false,
     "start_time": "2024-12-09T16:07:07.435475",
     "status": "completed"
    },
    "tags": []
   },
   "outputs": [
    {
     "data": {
      "text/plain": [
       "<Axes: >"
      ]
     },
     "execution_count": 24,
     "metadata": {},
     "output_type": "execute_result"
    },
    {
     "data": {
      "image/png": "[encoded data removed]",
      "text/plain": [
       "<Figure size 640x480 with 1 Axes>"
      ]
     },
     "metadata": {},
     "output_type": "display_data"
    }
   ],
   "source": [
    "train_df_copy.boxplot(column='balance')"
   ]
  },
  {
   "cell_type": "markdown",
   "id": "d862d95d",
   "metadata": {
    "papermill": {
     "duration": 0.029033,
     "end_time": "2024-12-09T16:07:07.711169",
     "exception": false,
     "start_time": "2024-12-09T16:07:07.682136",
     "status": "completed"
    },
    "tags": []
   },
   "source": [
    "#### Observations\n",
    "\n",
    "- **Median Balance:** The green line within the box represents the median (50th percentile) balance, which appears to be close to `0`.\n",
    "\n",
    "- **Interquartile Range (IQR):** The box indicates the range between the 25th percentile (Q1) and 75th percentile (Q3). Most of the data is concentrated within this range, and it is relatively narrow, suggesting that balances for the majority of individuals are small.\n",
    "\n",
    "- **Outliers:** There are a significant number of outliers above the upper whisker, extending up to `100,000`. These represent individuals with exceptionally high balances, which are far from the majority.\n",
    "\n",
    "- **Negative Balances:** A few outliers are present below the lower whisker, indicating negative balances for some individuals, though these are rare.\n",
    "\n",
    "- **Skewness:** The data is heavily right-skewed due to the numerous extreme positive outliers, while the main distribution is centered near zero.\n",
    "\n",
    "- **Conclusion:** The majority of individuals have balances close to `0`, but there are extreme outliers on the higher end that may need to be handled during preprocessing (e.g., capping or scaling). Negative balances are rare and might also require special consideration depending on the analysis.g on the analysis."
   ]
  },
  {
   "cell_type": "code",
   "execution_count": 25,
   "id": "a2614de1",
   "metadata": {
    "execution": {
     "iopub.execute_input": "2024-12-09T16:07:07.770330Z",
     "iopub.status.busy": "2024-12-09T16:07:07.769584Z",
     "iopub.status.idle": "2024-12-09T16:07:07.992015Z",
     "shell.execute_reply": "2024-12-09T16:07:07.990995Z"
    },
    "papermill": {
     "duration": 0.25449,
     "end_time": "2024-12-09T16:07:07.994142",
     "exception": false,
     "start_time": "2024-12-09T16:07:07.739652",
     "status": "completed"
    },
    "tags": []
   },
   "outputs": [
    {
     "data": {
      "text/plain": [
       "<Axes: >"
      ]
     },
     "execution_count": 25,
     "metadata": {},
     "output_type": "execute_result"
    },
    {
     "data": {
      "image/png": "[encoded data removed]",
      "text/plain": [
       "<Figure size 640x480 with 1 Axes>"
      ]
     },
     "metadata": {},
     "output_type": "display_data"
    }
   ],
   "source": [
    "train_df_copy.boxplot(column='duration')"
   ]
  },
  {
   "cell_type": "markdown",
   "id": "3290eb90",
   "metadata": {
    "papermill": {
     "duration": 0.027999,
     "end_time": "2024-12-09T16:07:08.050609",
     "exception": false,
     "start_time": "2024-12-09T16:07:08.022610",
     "status": "completed"
    },
    "tags": []
   },
   "source": [
    "#### Observations\n",
    "\n",
    "- **Median Duration:** The line within the box represents the median (50th percentile) duration, which is located closer to the lower part of the box. This indicates that the majority of the values are concentrated below the median.\n",
    "\n",
    "- **Interquartile Range (IQR):** The box spans the range between the 25th percentile (Q1) and the 75th percentile (Q3), representing the middle 50% of the data. The IQR is relatively narrow, suggesting that most durations fall within a small range.\n",
    "\n",
    "- **Outliers:** There are numerous outliers above the upper whisker, extending up to a maximum value close to `5000`. These represent durations that are exceptionally high compared to the bulk of the data.\n",
    "\n",
    "- **Skewness:** The data is heavily right-skewed due to the presence of extreme positive outliers. The whisker on the upper side extends much farther than the lower whisker, highlighting the impact of the outliers.\n",
    "\n",
    "- **General Insights:** The majority of durations are relatively low and tightly clustered, as indicated by the narrow IQR and the median's position. However, extreme outliers on the higher end dominate the distribution, potentially impacting analysis. These high-duration values may require investigation or preprocessing (e.g., scaling, capping, or transformation) to handle the skewness and ensure robust modeling."
   ]
  },
  {
   "cell_type": "code",
   "execution_count": 26,
   "id": "72c9cd60",
   "metadata": {
    "execution": {
     "iopub.execute_input": "2024-12-09T16:07:08.109547Z",
     "iopub.status.busy": "2024-12-09T16:07:08.108826Z",
     "iopub.status.idle": "2024-12-09T16:07:08.304436Z",
     "shell.execute_reply": "2024-12-09T16:07:08.303430Z"
    },
    "papermill": {
     "duration": 0.227651,
     "end_time": "2024-12-09T16:07:08.306732",
     "exception": false,
     "start_time": "2024-12-09T16:07:08.079081",
     "status": "completed"
    },
    "tags": []
   },
   "outputs": [
    {
     "data": {
      "text/plain": [
       "<Axes: >"
      ]
     },
     "execution_count": 26,
     "metadata": {},
     "output_type": "execute_result"
    },
    {
     "data": {
      "image/png": "[encoded data removed]",
      "text/plain": [
       "<Figure size 640x480 with 1 Axes>"
      ]
     },
     "metadata": {},
     "output_type": "display_data"
    }
   ],
   "source": [
    "train_df_copy.boxplot(column='campaign')"
   ]
  },
  {
   "cell_type": "markdown",
   "id": "e104590a",
   "metadata": {
    "papermill": {
     "duration": 0.029464,
     "end_time": "2024-12-09T16:07:08.365168",
     "exception": false,
     "start_time": "2024-12-09T16:07:08.335704",
     "status": "completed"
    },
    "tags": []
   },
   "source": [
    "#### Observations\n",
    "\n",
    "- **Median Campaign:** The green line within the box represents the median (50th percentile) number of campaign contacts. It seems to be near `2`, indicating that most individuals received around two campaign calls.\n",
    "\n",
    "- **Interquartile Range (IQR):** The box spans the 25th percentile (Q1) to the 75th percentile (Q3). The IQR is quite narrow, showing that the majority of campaign contact counts fall within a small range (approximately between `1` and `3`).\n",
    "\n",
    "- **Outliers:** There is a significant number of outliers extending far above the upper whisker, reaching up to `60`. These outliers represent individuals who received an unusually high number of campaign calls.\n",
    "\n",
    "- **Skewness:** The data is heavily right-skewed, with most of the values clustered near the lower end (around `1-3` contacts), but a long tail of high values caused by the outliers.\n",
    "\n",
    "- **Whisker Limits:** The upper whisker ends around `5` or `6` contacts, indicating that beyond this, values are considered outliers. The lower whisker appears to begin at `1`.\n",
    "\n",
    "- **General Insights:** The majority of individuals received a small number of campaign calls (around `1` to `3`). However, there are extreme outliers who were contacted as many as `60` times. These outliers might require special consideration, such as capping or further investigation, to prevent them from disproportionately influencing analyses."
   ]
  },
  {
   "cell_type": "code",
   "execution_count": 27,
   "id": "8be8b818",
   "metadata": {
    "execution": {
     "iopub.execute_input": "2024-12-09T16:07:08.424919Z",
     "iopub.status.busy": "2024-12-09T16:07:08.424271Z",
     "iopub.status.idle": "2024-12-09T16:07:08.603443Z",
     "shell.execute_reply": "2024-12-09T16:07:08.602479Z"
    },
    "papermill": {
     "duration": 0.211718,
     "end_time": "2024-12-09T16:07:08.605731",
     "exception": false,
     "start_time": "2024-12-09T16:07:08.394013",
     "status": "completed"
    },
    "tags": []
   },
   "outputs": [
    {
     "data": {
      "text/plain": [
       "<Axes: >"
      ]
     },
     "execution_count": 27,
     "metadata": {},
     "output_type": "execute_result"
    },
    {
     "data": {
      "image/png": "[encoded data removed]",
      "text/plain": [
       "<Figure size 640x480 with 1 Axes>"
      ]
     },
     "metadata": {},
     "output_type": "display_data"
    }
   ],
   "source": [
    "train_df_copy.boxplot(column='pdays')"
   ]
  },
  {
   "cell_type": "markdown",
   "id": "f90d5f8f",
   "metadata": {
    "papermill": {
     "duration": 0.029493,
     "end_time": "2024-12-09T16:07:08.664356",
     "exception": false,
     "start_time": "2024-12-09T16:07:08.634863",
     "status": "completed"
    },
    "tags": []
   },
   "source": [
    "#### Observations\n",
    "\n",
    "- **Median pdays:** The green line within the box represents the median (50th percentile), which appears to be at `-1`. This suggests that more than half of the clients were not contacted in previous campaigns.\n",
    "\n",
    "- **Interquartile Range (IQR):** The box is extremely narrow and close to `-1`, indicating that the 25th percentile (Q1) and 75th percentile (Q3) are also around `-1`. This means the majority of the data values are concentrated at `-1`, confirming that most clients were not previously contacted.\n",
    "\n",
    "- **Outliers:** A significant number of extreme values are visible as outliers above the upper whisker, extending to values well above `800`. These outliers correspond to clients who were contacted a long time ago, indicating a heavy-tailed distribution for this variable.\n",
    "\n",
    "- **Skewness:** The data is highly right-skewed because the majority of values are clustered at `-1`, and there are extreme positive outliers.\n",
    "\n",
    "- **General Insights:** The pdays column is dominated by `-1`, indicating that most clients were not contacted in previous campaigns. However, there is a small subset of clients with high pdays values, representing outliers. These outliers might need special handling, such as normalization or imputation, during preprocessing, depending on the analysis context. Additionally, the concentration at `-1` may warrant separate analysis or encoding to highlight its significance."
   ]
  },
  {
   "cell_type": "code",
   "execution_count": 28,
   "id": "40c591e9",
   "metadata": {
    "execution": {
     "iopub.execute_input": "2024-12-09T16:07:08.725241Z",
     "iopub.status.busy": "2024-12-09T16:07:08.724258Z",
     "iopub.status.idle": "2024-12-09T16:07:08.958809Z",
     "shell.execute_reply": "2024-12-09T16:07:08.957799Z"
    },
    "papermill": {
     "duration": 0.267596,
     "end_time": "2024-12-09T16:07:08.961129",
     "exception": false,
     "start_time": "2024-12-09T16:07:08.693533",
     "status": "completed"
    },
    "tags": []
   },
   "outputs": [
    {
     "data": {
      "text/plain": [
       "<Axes: >"
      ]
     },
     "execution_count": 28,
     "metadata": {},
     "output_type": "execute_result"
    },
    {
     "data": {
      "image/png": "[encoded data removed]",
      "text/plain": [
       "<Figure size 640x480 with 1 Axes>"
      ]
     },
     "metadata": {},
     "output_type": "display_data"
    }
   ],
   "source": [
    "train_df_copy.boxplot(column='previous')"
   ]
  },
  {
   "cell_type": "markdown",
   "id": "5912f7a1",
   "metadata": {
    "papermill": {
     "duration": 0.030032,
     "end_time": "2024-12-09T16:07:09.021253",
     "exception": false,
     "start_time": "2024-12-09T16:07:08.991221",
     "status": "completed"
    },
    "tags": []
   },
   "source": [
    "#### Observations\n",
    "\n",
    "- **Median previous:** The green line within the box represents the median (50th percentile), which appears to be at or near `0`. This indicates that for more than half of the clients, no prior contacts were made before the current campaign.\n",
    "\n",
    "- **Interquartile Range (IQR):** The box is very narrow and close to `0`, showing that the majority of the data falls between 0 (25th percentile, Q1) and a slightly higher value (75th percentile, Q3). Most clients had very few (if any) prior contacts.\n",
    "\n",
    "- **Outliers:** A large number of extreme values are visible as outliers above the upper whisker, extending up to values exceeding `250`. These represent clients who were contacted multiple times in previous campaigns, far exceeding the majority.\n",
    "\n",
    "- **Skewness:** The data is highly right-skewed, as most clients have `0` or very few previous contacts, with only a small proportion having a significantly higher number of contacts.\n",
    "\n",
    "- **General Insights:** The previous column is dominated by clients who had no or very few prior contacts, as shown by the median and IQR being close to `0`. However, there are numerous outliers with high values for the number of previous contacts. These outliers may require special attention during preprocessing, such as normalization or capping, to reduce their impact on the analysis or model."
   ]
  },
  {
   "cell_type": "markdown",
   "id": "f50cc9bb",
   "metadata": {
    "papermill": {
     "duration": 0.030106,
     "end_time": "2024-12-09T16:07:09.081252",
     "exception": false,
     "start_time": "2024-12-09T16:07:09.051146",
     "status": "completed"
    },
    "tags": []
   },
   "source": [
    "### Correlation"
   ]
  },
  {
   "cell_type": "code",
   "execution_count": 29,
   "id": "857bdfdb",
   "metadata": {
    "execution": {
     "iopub.execute_input": "2024-12-09T16:07:09.146049Z",
     "iopub.status.busy": "2024-12-09T16:07:09.145144Z",
     "iopub.status.idle": "2024-12-09T16:07:09.166869Z",
     "shell.execute_reply": "2024-12-09T16:07:09.165852Z"
    },
    "papermill": {
     "duration": 0.056374,
     "end_time": "2024-12-09T16:07:09.169154",
     "exception": false,
     "start_time": "2024-12-09T16:07:09.112780",
     "status": "completed"
    },
    "tags": []
   },
   "outputs": [
    {
     "data": {
      "text/html": [
       "<div>\n",
       "<style scoped>\n",
       "    .dataframe tbody tr th:only-of-type {\n",
       "        vertical-align: middle;\n",
       "    }\n",
       "\n",
       "    .dataframe tbody tr th {\n",
       "        vertical-align: top;\n",
       "    }\n",
       "\n",
       "    .dataframe thead th {\n",
       "        text-align: right;\n",
       "    }\n",
       "</style>\n",
       "<table border=\"1\" class=\"dataframe\">\n",
       "  <thead>\n",
       "    <tr style=\"text-align: right;\">\n",
       "      <th></th>\n",
       "      <th>age</th>\n",
       "      <th>balance</th>\n",
       "      <th>duration</th>\n",
       "      <th>campaign</th>\n",
       "      <th>pdays</th>\n",
       "      <th>previous</th>\n",
       "    </tr>\n",
       "  </thead>\n",
       "  <tbody>\n",
       "    <tr>\n",
       "      <th>age</th>\n",
       "      <td>1.000000</td>\n",
       "      <td>0.289150</td>\n",
       "      <td>0.255573</td>\n",
       "      <td>0.269439</td>\n",
       "      <td>0.199507</td>\n",
       "      <td>0.277487</td>\n",
       "    </tr>\n",
       "    <tr>\n",
       "      <th>balance</th>\n",
       "      <td>0.289150</td>\n",
       "      <td>1.000000</td>\n",
       "      <td>0.669737</td>\n",
       "      <td>0.674339</td>\n",
       "      <td>0.562097</td>\n",
       "      <td>0.716816</td>\n",
       "    </tr>\n",
       "    <tr>\n",
       "      <th>duration</th>\n",
       "      <td>0.255573</td>\n",
       "      <td>0.669737</td>\n",
       "      <td>1.000000</td>\n",
       "      <td>0.630944</td>\n",
       "      <td>0.527020</td>\n",
       "      <td>0.683951</td>\n",
       "    </tr>\n",
       "    <tr>\n",
       "      <th>campaign</th>\n",
       "      <td>0.269439</td>\n",
       "      <td>0.674339</td>\n",
       "      <td>0.630944</td>\n",
       "      <td>1.000000</td>\n",
       "      <td>0.519469</td>\n",
       "      <td>0.689211</td>\n",
       "    </tr>\n",
       "    <tr>\n",
       "      <th>pdays</th>\n",
       "      <td>0.199507</td>\n",
       "      <td>0.562097</td>\n",
       "      <td>0.527020</td>\n",
       "      <td>0.519469</td>\n",
       "      <td>1.000000</td>\n",
       "      <td>0.586175</td>\n",
       "    </tr>\n",
       "    <tr>\n",
       "      <th>previous</th>\n",
       "      <td>0.277487</td>\n",
       "      <td>0.716816</td>\n",
       "      <td>0.683951</td>\n",
       "      <td>0.689211</td>\n",
       "      <td>0.586175</td>\n",
       "      <td>1.000000</td>\n",
       "    </tr>\n",
       "  </tbody>\n",
       "</table>\n",
       "</div>"
      ],
      "text/plain": [
       "               age   balance  duration  campaign     pdays  previous\n",
       "age       1.000000  0.289150  0.255573  0.269439  0.199507  0.277487\n",
       "balance   0.289150  1.000000  0.669737  0.674339  0.562097  0.716816\n",
       "duration  0.255573  0.669737  1.000000  0.630944  0.527020  0.683951\n",
       "campaign  0.269439  0.674339  0.630944  1.000000  0.519469  0.689211\n",
       "pdays     0.199507  0.562097  0.527020  0.519469  1.000000  0.586175\n",
       "previous  0.277487  0.716816  0.683951  0.689211  0.586175  1.000000"
      ]
     },
     "execution_count": 29,
     "metadata": {},
     "output_type": "execute_result"
    }
   ],
   "source": [
    "correlation = train_df_copy[numerical_data_df.columns].corr()\n",
    "correlation"
   ]
  },
  {
   "cell_type": "code",
   "execution_count": 30,
   "id": "f5413bd5",
   "metadata": {
    "execution": {
     "iopub.execute_input": "2024-12-09T16:07:09.232555Z",
     "iopub.status.busy": "2024-12-09T16:07:09.231570Z",
     "iopub.status.idle": "2024-12-09T16:07:09.623196Z",
     "shell.execute_reply": "2024-12-09T16:07:09.622154Z"
    },
    "papermill": {
     "duration": 0.426182,
     "end_time": "2024-12-09T16:07:09.625463",
     "exception": false,
     "start_time": "2024-12-09T16:07:09.199281",
     "status": "completed"
    },
    "tags": []
   },
   "outputs": [
    {
     "data": {
      "text/plain": [
       "<Axes: >"
      ]
     },
     "execution_count": 30,
     "metadata": {},
     "output_type": "execute_result"
    },
    {
     "data": {
      "image/png": "[encoded data removed]",
      "text/plain": [
       "<Figure size 1400x700 with 2 Axes>"
      ]
     },
     "metadata": {},
     "output_type": "display_data"
    }
   ],
   "source": [
    "import seaborn as sns\n",
    "import matplotlib.pyplot as plt\n",
    "\n",
    "plt.figure(figsize = (14,7))\n",
    "sns.heatmap(correlation, annot = True)"
   ]
  },
  {
   "cell_type": "markdown",
   "id": "2b4636e3",
   "metadata": {
    "papermill": {
     "duration": 0.030869,
     "end_time": "2024-12-09T16:07:09.687495",
     "exception": false,
     "start_time": "2024-12-09T16:07:09.656626",
     "status": "completed"
    },
    "tags": []
   },
   "source": [
    "#### Observations\n",
    "\n",
    "- `balance` and `previous` have a strong positive correlation (0.72), indicating that as the balance increases, the number of previous contacts also tends to increase.\n",
    "- `duration` and `previous` (0.68) as well as `balance` and `duration` (0.67) also show strong relationships, suggesting an association between account balance, call duration, and prior interactions.\n",
    "- `campaign` is moderately correlated with `balance` (0.67) and `duration` (0.63). This indicates that the number of calls in a campaign tends to align with these features.\n",
    "- `pdays` has moderate correlations with `balance` (0.56), `duration` (0.53), and `campaign` (0.52).\n",
    "- `age` shows weak correlations with all other variables, indicating it has less impact in direct relation to features like `balance`, `duration` and `pdays`.\n",
    "- The variables `balance`, `duration` and `previous` are closely interrelated, suggesting they might be important for modeling or decision-making.\n",
    "- Weak relationships with `age` indicate that it might not play a strong role in determining outcomes when paired with other variables."
   ]
  },
  {
   "cell_type": "markdown",
   "id": "18d7d581",
   "metadata": {
    "papermill": {
     "duration": 0.030571,
     "end_time": "2024-12-09T16:07:09.748867",
     "exception": false,
     "start_time": "2024-12-09T16:07:09.718296",
     "status": "completed"
    },
    "tags": []
   },
   "source": [
    "### Relationships"
   ]
  },
  {
   "cell_type": "code",
   "execution_count": 31,
   "id": "36e41c41",
   "metadata": {
    "execution": {
     "iopub.execute_input": "2024-12-09T16:07:09.812192Z",
     "iopub.status.busy": "2024-12-09T16:07:09.811674Z",
     "iopub.status.idle": "2024-12-09T16:07:21.121960Z",
     "shell.execute_reply": "2024-12-09T16:07:21.120904Z"
    },
    "papermill": {
     "duration": 11.344714,
     "end_time": "2024-12-09T16:07:21.124452",
     "exception": false,
     "start_time": "2024-12-09T16:07:09.779738",
     "status": "completed"
    },
    "tags": []
   },
   "outputs": [
    {
     "data": {
      "text/plain": [
       "array([[<Axes: xlabel='age', ylabel='age'>,\n",
       "        <Axes: xlabel='balance', ylabel='age'>,\n",
       "        <Axes: xlabel='duration', ylabel='age'>,\n",
       "        <Axes: xlabel='campaign', ylabel='age'>,\n",
       "        <Axes: xlabel='pdays', ylabel='age'>,\n",
       "        <Axes: xlabel='previous', ylabel='age'>],\n",
       "       [<Axes: xlabel='age', ylabel='balance'>,\n",
       "        <Axes: xlabel='balance', ylabel='balance'>,\n",
       "        <Axes: xlabel='duration', ylabel='balance'>,\n",
       "        <Axes: xlabel='campaign', ylabel='balance'>,\n",
       "        <Axes: xlabel='pdays', ylabel='balance'>,\n",
       "        <Axes: xlabel='previous', ylabel='balance'>],\n",
       "       [<Axes: xlabel='age', ylabel='duration'>,\n",
       "        <Axes: xlabel='balance', ylabel='duration'>,\n",
       "        <Axes: xlabel='duration', ylabel='duration'>,\n",
       "        <Axes: xlabel='campaign', ylabel='duration'>,\n",
       "        <Axes: xlabel='pdays', ylabel='duration'>,\n",
       "        <Axes: xlabel='previous', ylabel='duration'>],\n",
       "       [<Axes: xlabel='age', ylabel='campaign'>,\n",
       "        <Axes: xlabel='balance', ylabel='campaign'>,\n",
       "        <Axes: xlabel='duration', ylabel='campaign'>,\n",
       "        <Axes: xlabel='campaign', ylabel='campaign'>,\n",
       "        <Axes: xlabel='pdays', ylabel='campaign'>,\n",
       "        <Axes: xlabel='previous', ylabel='campaign'>],\n",
       "       [<Axes: xlabel='age', ylabel='pdays'>,\n",
       "        <Axes: xlabel='balance', ylabel='pdays'>,\n",
       "        <Axes: xlabel='duration', ylabel='pdays'>,\n",
       "        <Axes: xlabel='campaign', ylabel='pdays'>,\n",
       "        <Axes: xlabel='pdays', ylabel='pdays'>,\n",
       "        <Axes: xlabel='previous', ylabel='pdays'>],\n",
       "       [<Axes: xlabel='age', ylabel='previous'>,\n",
       "        <Axes: xlabel='balance', ylabel='previous'>,\n",
       "        <Axes: xlabel='duration', ylabel='previous'>,\n",
       "        <Axes: xlabel='campaign', ylabel='previous'>,\n",
       "        <Axes: xlabel='pdays', ylabel='previous'>,\n",
       "        <Axes: xlabel='previous', ylabel='previous'>]], dtype=object)"
      ]
     },
     "execution_count": 31,
     "metadata": {},
     "output_type": "execute_result"
    },
    {
     "data": {
      "image/png": "[encoded data removed]",
      "text/plain": [
       "<Figure size 640x480 with 36 Axes>"
      ]
     },
     "metadata": {},
     "output_type": "display_data"
    }
   ],
   "source": [
    "from pandas.plotting import scatter_matrix\n",
    "\n",
    "scatter_matrix(train_df_copy[numerical_attributes_list])"
   ]
  },
  {
   "cell_type": "markdown",
   "id": "3011275f",
   "metadata": {
    "papermill": {
     "duration": 0.032968,
     "end_time": "2024-12-09T16:07:21.190689",
     "exception": false,
     "start_time": "2024-12-09T16:07:21.157721",
     "status": "completed"
    },
    "tags": []
   },
   "source": [
    "#### Observations\n",
    "\n",
    "Diagonal: Histograms\n",
    "- **Age:** Skewed to the right, indicating most individuals are younger, with fewer older people.\n",
    "- **Balance:** Heavily right-skewed with many individuals having low or zero balances, and a few outliers with very high balances.\n",
    "- **Duration:** Also right-skewed, with most calls being short and a few significantly longer durations.\n",
    "- **Campaign:** The distribution is tightly packed around low values, with most individuals receiving fewer contacts during a campaign.\n",
    "- **Pdays and Previous:** Right-skewed, with most individuals having zero prior contact or days since the last contact.\n",
    "\n",
    "Pairwise Relationships: Scatter Plots\n",
    "- **Balance vs. Duration:** Displays a trend where higher balances correspond to longer durations of calls, consistent with the high correlation seen in the heatmap.\n",
    "- **Balance vs. Previous:** A clear upward trend exists, with higher previous contacts generally corresponding to higher balances.\n",
    "- **Pdays vs. Duration:** Some clustering near zero `pdays` indicates that many individuals were contacted for the first time during the campaign.\n",
    "- **Age with Other Variables:** No strong visible trend between `age` and other features, consistent with weak correlations observed earlier.\n",
    "\n",
    "Clusters or Outliers\n",
    "- **Outliers in Balance:** Some individuals with extremely high balances stand out.\n",
    "- **Duration:** A few very long call durations are noticeable as outliers.\n",
    "- **Pdays and Campaign:** Most data is concentrated near zero, with some sparse values far from the bulk of the distribution.\n",
    "\n",
    "General Insights\n",
    "- `balance`, `duration` and `previous` exhibit visible relationships and might be critical for analysis or predictive modeling.\n",
    "- `age` has no significant interaction patterns with other variables.\n",
    "- The presence of outliers in several variables (e.g., `balance` and `duration`) might need special handling during data preprocessing."
   ]
  },
  {
   "cell_type": "markdown",
   "id": "3c9bb108",
   "metadata": {
    "papermill": {
     "duration": 0.034379,
     "end_time": "2024-12-09T16:07:21.258080",
     "exception": false,
     "start_time": "2024-12-09T16:07:21.223701",
     "status": "completed"
    },
    "tags": []
   },
   "source": [
    "### Unique"
   ]
  },
  {
   "cell_type": "code",
   "execution_count": 32,
   "id": "0e234024",
   "metadata": {
    "execution": {
     "iopub.execute_input": "2024-12-09T16:07:21.326674Z",
     "iopub.status.busy": "2024-12-09T16:07:21.326281Z",
     "iopub.status.idle": "2024-12-09T16:07:21.357789Z",
     "shell.execute_reply": "2024-12-09T16:07:21.356747Z"
    },
    "papermill": {
     "duration": 0.068562,
     "end_time": "2024-12-09T16:07:21.360118",
     "exception": false,
     "start_time": "2024-12-09T16:07:21.291556",
     "status": "completed"
    },
    "tags": []
   },
   "outputs": [
    {
     "data": {
      "text/plain": [
       "last contact date    1013\n",
       "age                    78\n",
       "job                    11\n",
       "marital                 3\n",
       "education               3\n",
       "default                 2\n",
       "balance              9535\n",
       "housing                 2\n",
       "loan                    2\n",
       "contact                 2\n",
       "duration             3146\n",
       "campaign               63\n",
       "pdays                 865\n",
       "previous              276\n",
       "poutcome                3\n",
       "target                  2\n",
       "dtype: int64"
      ]
     },
     "execution_count": 32,
     "metadata": {},
     "output_type": "execute_result"
    }
   ],
   "source": [
    "train_df_copy.nunique()"
   ]
  },
  {
   "cell_type": "markdown",
   "id": "a503cfb4",
   "metadata": {
    "papermill": {
     "duration": 0.033385,
     "end_time": "2024-12-09T16:07:21.427566",
     "exception": false,
     "start_time": "2024-12-09T16:07:21.394181",
     "status": "completed"
    },
    "tags": []
   },
   "source": [
    "### Duplicates"
   ]
  },
  {
   "cell_type": "code",
   "execution_count": 33,
   "id": "e0933a68",
   "metadata": {
    "execution": {
     "iopub.execute_input": "2024-12-09T16:07:21.496536Z",
     "iopub.status.busy": "2024-12-09T16:07:21.496143Z",
     "iopub.status.idle": "2024-12-09T16:07:21.541081Z",
     "shell.execute_reply": "2024-12-09T16:07:21.539990Z"
    },
    "papermill": {
     "duration": 0.082008,
     "end_time": "2024-12-09T16:07:21.543291",
     "exception": false,
     "start_time": "2024-12-09T16:07:21.461283",
     "status": "completed"
    },
    "tags": []
   },
   "outputs": [
    {
     "data": {
      "text/plain": [
       "False    39211\n",
       "Name: count, dtype: int64"
      ]
     },
     "execution_count": 33,
     "metadata": {},
     "output_type": "execute_result"
    }
   ],
   "source": [
    "train_df_copy.duplicated().value_counts()"
   ]
  },
  {
   "cell_type": "markdown",
   "id": "7ffc9a58",
   "metadata": {
    "papermill": {
     "duration": 0.033272,
     "end_time": "2024-12-09T16:07:21.610202",
     "exception": false,
     "start_time": "2024-12-09T16:07:21.576930",
     "status": "completed"
    },
    "tags": []
   },
   "source": [
    "### Bootstrap Plot"
   ]
  },
  {
   "cell_type": "code",
   "execution_count": 34,
   "id": "8b0d7702",
   "metadata": {
    "execution": {
     "iopub.execute_input": "2024-12-09T16:07:21.679710Z",
     "iopub.status.busy": "2024-12-09T16:07:21.678788Z",
     "iopub.status.idle": "2024-12-09T16:07:23.163152Z",
     "shell.execute_reply": "2024-12-09T16:07:23.162127Z"
    },
    "papermill": {
     "duration": 1.52138,
     "end_time": "2024-12-09T16:07:23.165224",
     "exception": false,
     "start_time": "2024-12-09T16:07:21.643844",
     "status": "completed"
    },
    "tags": []
   },
   "outputs": [
    {
     "data": {
      "image/png": "[encoded data removed]",
      "text/plain": [
       "<Figure size 640x480 with 6 Axes>"
      ]
     },
     "execution_count": 34,
     "metadata": {},
     "output_type": "execute_result"
    },
    {
     "data": {
      "image/png": "[encoded data removed]",
      "text/plain": [
       "<Figure size 640x480 with 6 Axes>"
      ]
     },
     "metadata": {},
     "output_type": "display_data"
    }
   ],
   "source": [
    "from pandas.plotting import bootstrap_plot\n",
    "\n",
    "bootstrap_plot(train_df_copy['age'])"
   ]
  },
  {
   "cell_type": "markdown",
   "id": "a7b07c9c",
   "metadata": {
    "papermill": {
     "duration": 0.035554,
     "end_time": "2024-12-09T16:07:23.237955",
     "exception": false,
     "start_time": "2024-12-09T16:07:23.202401",
     "status": "completed"
    },
    "tags": []
   },
   "source": [
    "#### Observations\n",
    "\n",
    "- **Mean vs. Median:** The close alignment of the mean and median distributions suggests that the age column is not heavily skewed.\n",
    "- **Midrange Sensitivity:** The wider range of midrange values suggests that there are some extreme values (outliers) in the `age` column that impact the midrange more than the mean or median.\n",
    "- **Resampling Variability:** The sampling variability (shown by the range in the histograms and line plots) is relatively low, indicating that the `age` data is fairly robust across resampling iterations."
   ]
  },
  {
   "cell_type": "markdown",
   "id": "4177f514",
   "metadata": {
    "papermill": {
     "duration": 0.034648,
     "end_time": "2024-12-09T16:07:23.309228",
     "exception": false,
     "start_time": "2024-12-09T16:07:23.274580",
     "status": "completed"
    },
    "tags": []
   },
   "source": [
    "## Test Dataset"
   ]
  },
  {
   "cell_type": "code",
   "execution_count": 35,
   "id": "cac94aa7",
   "metadata": {
    "execution": {
     "iopub.execute_input": "2024-12-09T16:07:23.381839Z",
     "iopub.status.busy": "2024-12-09T16:07:23.381164Z",
     "iopub.status.idle": "2024-12-09T16:07:23.423831Z",
     "shell.execute_reply": "2024-12-09T16:07:23.422755Z"
    },
    "papermill": {
     "duration": 0.081718,
     "end_time": "2024-12-09T16:07:23.425877",
     "exception": false,
     "start_time": "2024-12-09T16:07:23.344159",
     "status": "completed"
    },
    "tags": []
   },
   "outputs": [
    {
     "data": {
      "text/html": [
       "<div>\n",
       "<style scoped>\n",
       "    .dataframe tbody tr th:only-of-type {\n",
       "        vertical-align: middle;\n",
       "    }\n",
       "\n",
       "    .dataframe tbody tr th {\n",
       "        vertical-align: top;\n",
       "    }\n",
       "\n",
       "    .dataframe thead th {\n",
       "        text-align: right;\n",
       "    }\n",
       "</style>\n",
       "<table border=\"1\" class=\"dataframe\">\n",
       "  <thead>\n",
       "    <tr style=\"text-align: right;\">\n",
       "      <th></th>\n",
       "      <th>last contact date</th>\n",
       "      <th>age</th>\n",
       "      <th>job</th>\n",
       "      <th>marital</th>\n",
       "      <th>education</th>\n",
       "      <th>default</th>\n",
       "      <th>balance</th>\n",
       "      <th>housing</th>\n",
       "      <th>loan</th>\n",
       "      <th>contact</th>\n",
       "      <th>duration</th>\n",
       "      <th>campaign</th>\n",
       "      <th>pdays</th>\n",
       "      <th>previous</th>\n",
       "      <th>poutcome</th>\n",
       "    </tr>\n",
       "  </thead>\n",
       "  <tbody>\n",
       "    <tr>\n",
       "      <th>0</th>\n",
       "      <td>2009-11-21</td>\n",
       "      <td>36</td>\n",
       "      <td>management</td>\n",
       "      <td>single</td>\n",
       "      <td>tertiary</td>\n",
       "      <td>no</td>\n",
       "      <td>7</td>\n",
       "      <td>no</td>\n",
       "      <td>no</td>\n",
       "      <td>NaN</td>\n",
       "      <td>20</td>\n",
       "      <td>1</td>\n",
       "      <td>-1</td>\n",
       "      <td>0</td>\n",
       "      <td>NaN</td>\n",
       "    </tr>\n",
       "    <tr>\n",
       "      <th>1</th>\n",
       "      <td>2010-02-04</td>\n",
       "      <td>30</td>\n",
       "      <td>unemployed</td>\n",
       "      <td>married</td>\n",
       "      <td>tertiary</td>\n",
       "      <td>no</td>\n",
       "      <td>1067</td>\n",
       "      <td>no</td>\n",
       "      <td>no</td>\n",
       "      <td>cellular</td>\n",
       "      <td>78</td>\n",
       "      <td>2</td>\n",
       "      <td>-1</td>\n",
       "      <td>0</td>\n",
       "      <td>NaN</td>\n",
       "    </tr>\n",
       "    <tr>\n",
       "      <th>2</th>\n",
       "      <td>2010-07-28</td>\n",
       "      <td>32</td>\n",
       "      <td>blue-collar</td>\n",
       "      <td>single</td>\n",
       "      <td>secondary</td>\n",
       "      <td>no</td>\n",
       "      <td>82</td>\n",
       "      <td>yes</td>\n",
       "      <td>no</td>\n",
       "      <td>cellular</td>\n",
       "      <td>86</td>\n",
       "      <td>4</td>\n",
       "      <td>-1</td>\n",
       "      <td>0</td>\n",
       "      <td>NaN</td>\n",
       "    </tr>\n",
       "    <tr>\n",
       "      <th>3</th>\n",
       "      <td>2010-06-09</td>\n",
       "      <td>38</td>\n",
       "      <td>admin.</td>\n",
       "      <td>married</td>\n",
       "      <td>primary</td>\n",
       "      <td>no</td>\n",
       "      <td>1487</td>\n",
       "      <td>no</td>\n",
       "      <td>no</td>\n",
       "      <td>NaN</td>\n",
       "      <td>332</td>\n",
       "      <td>2</td>\n",
       "      <td>-1</td>\n",
       "      <td>0</td>\n",
       "      <td>NaN</td>\n",
       "    </tr>\n",
       "    <tr>\n",
       "      <th>4</th>\n",
       "      <td>2008-03-02</td>\n",
       "      <td>59</td>\n",
       "      <td>management</td>\n",
       "      <td>married</td>\n",
       "      <td>tertiary</td>\n",
       "      <td>no</td>\n",
       "      <td>315</td>\n",
       "      <td>no</td>\n",
       "      <td>no</td>\n",
       "      <td>cellular</td>\n",
       "      <td>591</td>\n",
       "      <td>1</td>\n",
       "      <td>176</td>\n",
       "      <td>2</td>\n",
       "      <td>failure</td>\n",
       "    </tr>\n",
       "  </tbody>\n",
       "</table>\n",
       "</div>"
      ],
      "text/plain": [
       "  last contact date  age          job  marital  education default  balance  \\\n",
       "0        2009-11-21   36   management   single   tertiary      no        7   \n",
       "1        2010-02-04   30   unemployed  married   tertiary      no     1067   \n",
       "2        2010-07-28   32  blue-collar   single  secondary      no       82   \n",
       "3        2010-06-09   38       admin.  married    primary      no     1487   \n",
       "4        2008-03-02   59   management  married   tertiary      no      315   \n",
       "\n",
       "  housing loan   contact  duration  campaign  pdays  previous poutcome  \n",
       "0      no   no       NaN        20         1     -1         0      NaN  \n",
       "1      no   no  cellular        78         2     -1         0      NaN  \n",
       "2     yes   no  cellular        86         4     -1         0      NaN  \n",
       "3      no   no       NaN       332         2     -1         0      NaN  \n",
       "4      no   no  cellular       591         1    176         2  failure  "
      ]
     },
     "execution_count": 35,
     "metadata": {},
     "output_type": "execute_result"
    }
   ],
   "source": [
    "test_df = pd.read_csv(\"/kaggle/input/predict-the-success-of-bank-telemarketing/test.csv\")\n",
    "test_df.head()"
   ]
  },
  {
   "cell_type": "markdown",
   "id": "702914b1",
   "metadata": {
    "papermill": {
     "duration": 0.035246,
     "end_time": "2024-12-09T16:07:23.496397",
     "exception": false,
     "start_time": "2024-12-09T16:07:23.461151",
     "status": "completed"
    },
    "tags": []
   },
   "source": [
    "## Sample Submission File"
   ]
  },
  {
   "cell_type": "code",
   "execution_count": 36,
   "id": "265b91d7",
   "metadata": {
    "execution": {
     "iopub.execute_input": "2024-12-09T16:07:23.568715Z",
     "iopub.status.busy": "2024-12-09T16:07:23.567962Z",
     "iopub.status.idle": "2024-12-09T16:07:23.581920Z",
     "shell.execute_reply": "2024-12-09T16:07:23.580900Z"
    },
    "papermill": {
     "duration": 0.052688,
     "end_time": "2024-12-09T16:07:23.584129",
     "exception": false,
     "start_time": "2024-12-09T16:07:23.531441",
     "status": "completed"
    },
    "tags": []
   },
   "outputs": [
    {
     "data": {
      "text/plain": [
       "(10000, 2)"
      ]
     },
     "execution_count": 36,
     "metadata": {},
     "output_type": "execute_result"
    }
   ],
   "source": [
    "sample_submission_file_df = pd.read_csv(\"/kaggle/input/predict-the-success-of-bank-telemarketing/sample_submission.csv\")\n",
    "sample_submission_file_df.shape"
   ]
  },
  {
   "cell_type": "markdown",
   "id": "6d296a93",
   "metadata": {
    "papermill": {
     "duration": 0.036436,
     "end_time": "2024-12-09T16:07:23.655879",
     "exception": false,
     "start_time": "2024-12-09T16:07:23.619443",
     "status": "completed"
    },
    "tags": []
   },
   "source": [
    "## Data Preprocessing"
   ]
  },
  {
   "cell_type": "markdown",
   "id": "1e06339c",
   "metadata": {
    "papermill": {
     "duration": 0.0349,
     "end_time": "2024-12-09T16:07:23.725744",
     "exception": false,
     "start_time": "2024-12-09T16:07:23.690844",
     "status": "completed"
    },
    "tags": []
   },
   "source": [
    "Data preprocessing is the essential step of preparing raw data for analysis or machine learning models by cleaning, transforming, and organizing it.\n",
    "- **Train-test split** divides the data into separate sets for training and testing the model, ensuring unbiased evaluation.\n",
    "- **Simple Imputer** handles missing values by replacing them with a placeholder like the mean or median.\n",
    "- **Column Transformer** allows different preprocessing steps to be applied to specific columns, such as numerical or categorical ones.\n",
    "- **Pipeline** streamlines multiple preprocessing steps into a sequence for consistent and automated processing.\n",
    "- **Scalers** like **StandardScaler**, **RobustScaler**, and **MinMaxScaler** normalize numerical data to improve model performance by scaling features to a specific range or distribution.\n",
    "- **OneHotEncoder** and **OrdinalEncoder** transform categorical data into a format models can understand, either as binary vectors or numeric values based on order.\n",
    "- **BaseEstimator** provides a common interface for estimators.\n",
    "- **TransformerMixin** ensures custom transformers can integrate seamlessly into workflows.\n",
    "- **NumPy** is a foundational library for numerical operations, enabling efficient handling of arrays and matrices essential for preprocessing.\n",
    "\n",
    "Together, these tools create a well-prepared dataset for robust and accurate modeling."
   ]
  },
  {
   "cell_type": "code",
   "execution_count": 37,
   "id": "934c6aea",
   "metadata": {
    "execution": {
     "iopub.execute_input": "2024-12-09T16:07:23.798213Z",
     "iopub.status.busy": "2024-12-09T16:07:23.797270Z",
     "iopub.status.idle": "2024-12-09T16:07:23.824523Z",
     "shell.execute_reply": "2024-12-09T16:07:23.823513Z"
    },
    "papermill": {
     "duration": 0.065841,
     "end_time": "2024-12-09T16:07:23.826753",
     "exception": false,
     "start_time": "2024-12-09T16:07:23.760912",
     "status": "completed"
    },
    "tags": []
   },
   "outputs": [
    {
     "name": "stdout",
     "output_type": "stream",
     "text": [
      "(39211, 16)\n",
      "(31368, 15) (31368,)\n",
      "(7843, 15) (7843,)\n"
     ]
    }
   ],
   "source": [
    "from sklearn.model_selection import train_test_split\n",
    "\n",
    "X = train_df.drop(columns=['target'], inplace=False)\n",
    "y = train_df['target']\n",
    "\n",
    "X_train, X_test, y_train, y_test = train_test_split(X, y, test_size=0.2, shuffle=False, random_state=42)\n",
    "\n",
    "print(train_df.shape)\n",
    "print(X_train.shape, y_train.shape)\n",
    "print(X_test.shape, y_test.shape)"
   ]
  },
  {
   "cell_type": "code",
   "execution_count": 38,
   "id": "9ed2f203",
   "metadata": {
    "execution": {
     "iopub.execute_input": "2024-12-09T16:07:23.899794Z",
     "iopub.status.busy": "2024-12-09T16:07:23.899111Z",
     "iopub.status.idle": "2024-12-09T16:07:24.063743Z",
     "shell.execute_reply": "2024-12-09T16:07:24.062616Z"
    },
    "papermill": {
     "duration": 0.203757,
     "end_time": "2024-12-09T16:07:24.066115",
     "exception": false,
     "start_time": "2024-12-09T16:07:23.862358",
     "status": "completed"
    },
    "tags": []
   },
   "outputs": [],
   "source": [
    "from sklearn.impute import SimpleImputer\n",
    "from sklearn.compose import ColumnTransformer\n",
    "from sklearn.pipeline import Pipeline\n",
    "from sklearn.preprocessing import StandardScaler, RobustScaler, MinMaxScaler\n",
    "from sklearn.preprocessing import OneHotEncoder, OrdinalEncoder\n",
    "from sklearn.base import BaseEstimator, TransformerMixin\n",
    "import numpy as np\n",
    "\n",
    "class Date_Transformer(BaseEstimator, TransformerMixin):\n",
    "\n",
    "    def __init__(self, date_format='%Y-%m-%d'):\n",
    "        self.date_format = date_format\n",
    "    \n",
    "    def fit(self, X, y=None):\n",
    "        return self\n",
    "    \n",
    "    def transform(self, X):\n",
    "        if isinstance(X, pd.DataFrame):\n",
    "            X = X.iloc[:, 0]\n",
    "        \n",
    "        dates = pd.to_datetime(X, format=self.date_format)\n",
    "        \n",
    "        year = dates.dt.year.astype(int)\n",
    "        month = dates.dt.month.astype(int)\n",
    "        day = dates.dt.day.astype(int)\n",
    "                \n",
    "        return np.column_stack([year, month, day])\n",
    "\n",
    "preprocessing_pipe = ColumnTransformer(\n",
    "    transformers=[\n",
    "        ('drop_column', 'drop', ['poutcome']),\n",
    "        ('job_pipeline', Pipeline([\n",
    "            ('impute_unknown', SimpleImputer(strategy='constant', fill_value='unknown')),\n",
    "            ('onehot', OneHotEncoder(sparse_output=False))\n",
    "        ]), ['job']),\n",
    "        \n",
    "        ('education_pipeline', Pipeline([\n",
    "            ('impute_most_frequent', SimpleImputer(strategy='most_frequent')),\n",
    "            ('ordinal', OrdinalEncoder())\n",
    "        ]), ['education']),\n",
    "        \n",
    "        ('contact_pipeline', Pipeline([\n",
    "            ('impute_most_frequent', SimpleImputer(strategy='most_frequent')),\n",
    "            ('onehot', OneHotEncoder(sparse_output=False))\n",
    "        ]), ['contact']),\n",
    "        \n",
    "        ('binary_pipeline', OneHotEncoder(drop='if_binary'), ['default', 'housing', 'loan']),\n",
    "        \n",
    "        ('marital_pipeline', OneHotEncoder(sparse_output=False), ['marital']),\n",
    "        \n",
    "        ('age_scaler', StandardScaler(), ['age']),\n",
    "        ('balance_scaler', RobustScaler(), ['balance', 'pdays']),\n",
    "        ('duration_scaler', MinMaxScaler(), ['duration', 'campaign', 'previous']),\n",
    "\n",
    "        ('date_transformer', Date_Transformer(), ['last contact date'])\n",
    "    ]\n",
    ")"
   ]
  },
  {
   "cell_type": "markdown",
   "id": "4eee2d42",
   "metadata": {
    "papermill": {
     "duration": 0.034988,
     "end_time": "2024-12-09T16:07:24.136639",
     "exception": false,
     "start_time": "2024-12-09T16:07:24.101651",
     "status": "completed"
    },
    "tags": []
   },
   "source": [
    "## Feature Engineering"
   ]
  },
  {
   "cell_type": "markdown",
   "id": "1bcf2f0f",
   "metadata": {
    "papermill": {
     "duration": 0.035118,
     "end_time": "2024-12-09T16:07:24.206951",
     "exception": false,
     "start_time": "2024-12-09T16:07:24.171833",
     "status": "completed"
    },
    "tags": []
   },
   "source": [
    "Feature engineering is present in the pipeline as the process of transforming and enriching the raw dataset into a format better suited for predictive modeling.\n",
    "\n",
    "- **Drop_Column:** The column `poutcome` is explicitly dropped as it has a high number of missing values (`29451`).\n",
    "  \n",
    "- **SimpleImputer:** For the `job`, `education` and `contact` columns, missing values are imputed using strategies like `most_frequent` or `constant`, which helps preserve data integrity.\n",
    "\n",
    "- **OneHotEncoder:** Categorical variables `job`, `contact`,  `default`, `housing`, `loan`, `marital`, are converted into numerical representations suitable for machine learning models.\n",
    "\n",
    "- **OrdinalEncoder:** Used for `education`, due to an inherent order in categories (`primary < secondary < tertiary`).\n",
    "\n",
    "- **StandardScaler:** Normalizes the `age` feature to zero mean and unit variance, making it comparable across models.\n",
    "\n",
    "- **RobustScaler:** Scales `balance` and `pdays` robustly by reducing the influence of outliers.\n",
    "\n",
    "- **MinMaxScaler:** Scales `duration`, `campaign` and `previous` to a range of 0 to 1 for consistency.\n",
    "\n",
    "- **Breaking Down Date:** The custom transformer `Date_Transformer` extracts year, month, and day from a `last contact date` column, converting it into numerical components. This is a form of feature extraction that allows the model to learn patterns related to time."
   ]
  },
  {
   "cell_type": "code",
   "execution_count": 39,
   "id": "6c031c2b",
   "metadata": {
    "execution": {
     "iopub.execute_input": "2024-12-09T16:07:24.281599Z",
     "iopub.status.busy": "2024-12-09T16:07:24.280606Z",
     "iopub.status.idle": "2024-12-09T16:07:24.329958Z",
     "shell.execute_reply": "2024-12-09T16:07:24.328888Z"
    },
    "papermill": {
     "duration": 0.089521,
     "end_time": "2024-12-09T16:07:24.331951",
     "exception": false,
     "start_time": "2024-12-09T16:07:24.242430",
     "status": "completed"
    },
    "tags": []
   },
   "outputs": [
    {
     "data": {
      "text/html": [
       "<style>#sk-container-id-1 {color: black;background-color: white;}#sk-container-id-1 pre{padding: 0;}#sk-container-id-1 div.sk-toggleable {background-color: white;}#sk-container-id-1 label.sk-toggleable__label {cursor: pointer;display: block;width: 100%;margin-bottom: 0;padding: 0.3em;box-sizing: border-box;text-align: center;}#sk-container-id-1 label.sk-toggleable__label-arrow:before {content: \"▸\";float: left;margin-right: 0.25em;color: #696969;}#sk-container-id-1 label.sk-toggleable__label-arrow:hover:before {color: black;}#sk-container-id-1 div.sk-estimator:hover label.sk-toggleable__label-arrow:before {color: black;}#sk-container-id-1 div.sk-toggleable__content {max-height: 0;max-width: 0;overflow: hidden;text-align: left;background-color: #f0f8ff;}#sk-container-id-1 div.sk-toggleable__content pre {margin: 0.2em;color: black;border-radius: 0.25em;background-color: #f0f8ff;}#sk-container-id-1 input.sk-toggleable__control:checked~div.sk-toggleable__content {max-height: 200px;max-width: 100%;overflow: auto;}#sk-container-id-1 input.sk-toggleable__control:checked~label.sk-toggleable__label-arrow:before {content: \"▾\";}#sk-container-id-1 div.sk-estimator input.sk-toggleable__control:checked~label.sk-toggleable__label {background-color: #d4ebff;}#sk-container-id-1 div.sk-label input.sk-toggleable__control:checked~label.sk-toggleable__label {background-color: #d4ebff;}#sk-container-id-1 input.sk-hidden--visually {border: 0;clip: rect(1px 1px 1px 1px);clip: rect(1px, 1px, 1px, 1px);height: 1px;margin: -1px;overflow: hidden;padding: 0;position: absolute;width: 1px;}#sk-container-id-1 div.sk-estimator {font-family: monospace;background-color: #f0f8ff;border: 1px dotted black;border-radius: 0.25em;box-sizing: border-box;margin-bottom: 0.5em;}#sk-container-id-1 div.sk-estimator:hover {background-color: #d4ebff;}#sk-container-id-1 div.sk-parallel-item::after {content: \"\";width: 100%;border-bottom: 1px solid gray;flex-grow: 1;}#sk-container-id-1 div.sk-label:hover label.sk-toggleable__label {background-color: #d4ebff;}#sk-container-id-1 div.sk-serial::before {content: \"\";position: absolute;border-left: 1px solid gray;box-sizing: border-box;top: 0;bottom: 0;left: 50%;z-index: 0;}#sk-container-id-1 div.sk-serial {display: flex;flex-direction: column;align-items: center;background-color: white;padding-right: 0.2em;padding-left: 0.2em;position: relative;}#sk-container-id-1 div.sk-item {position: relative;z-index: 1;}#sk-container-id-1 div.sk-parallel {display: flex;align-items: stretch;justify-content: center;background-color: white;position: relative;}#sk-container-id-1 div.sk-item::before, #sk-container-id-1 div.sk-parallel-item::before {content: \"\";position: absolute;border-left: 1px solid gray;box-sizing: border-box;top: 0;bottom: 0;left: 50%;z-index: -1;}#sk-container-id-1 div.sk-parallel-item {display: flex;flex-direction: column;z-index: 1;position: relative;background-color: white;}#sk-container-id-1 div.sk-parallel-item:first-child::after {align-self: flex-end;width: 50%;}#sk-container-id-1 div.sk-parallel-item:last-child::after {align-self: flex-start;width: 50%;}#sk-container-id-1 div.sk-parallel-item:only-child::after {width: 0;}#sk-container-id-1 div.sk-dashed-wrapped {border: 1px dashed gray;margin: 0 0.4em 0.5em 0.4em;box-sizing: border-box;padding-bottom: 0.4em;background-color: white;}#sk-container-id-1 div.sk-label label {font-family: monospace;font-weight: bold;display: inline-block;line-height: 1.2em;}#sk-container-id-1 div.sk-label-container {text-align: center;}#sk-container-id-1 div.sk-container {/* jupyter's `normalize.less` sets `[hidden] { display: none; }` but bootstrap.min.css set `[hidden] { display: none !important; }` so we also need the `!important` here to be able to override the default hidden behavior on the sphinx rendered scikit-learn.org. See: https://github.com/scikit-learn/scikit-learn/issues/21755 */display: inline-block !important;position: relative;}#sk-container-id-1 div.sk-text-repr-fallback {display: none;}</style><div id=\"sk-container-id-1\" class=\"sk-top-container\"><div class=\"sk-text-repr-fallback\"><pre>ColumnTransformer(transformers=[(&#x27;drop_column&#x27;, &#x27;drop&#x27;, [&#x27;poutcome&#x27;]),\n",
       "                                (&#x27;job_pipeline&#x27;,\n",
       "                                 Pipeline(steps=[(&#x27;impute_unknown&#x27;,\n",
       "                                                  SimpleImputer(fill_value=&#x27;unknown&#x27;,\n",
       "                                                                strategy=&#x27;constant&#x27;)),\n",
       "                                                 (&#x27;onehot&#x27;,\n",
       "                                                  OneHotEncoder(sparse_output=False))]),\n",
       "                                 [&#x27;job&#x27;]),\n",
       "                                (&#x27;education_pipeline&#x27;,\n",
       "                                 Pipeline(steps=[(&#x27;impute_most_frequent&#x27;,\n",
       "                                                  SimpleImputer(strategy=&#x27;most_frequent&#x27;)),\n",
       "                                                 (&#x27;ordinal&#x27;,\n",
       "                                                  Ordi...\n",
       "                                 OneHotEncoder(drop=&#x27;if_binary&#x27;),\n",
       "                                 [&#x27;default&#x27;, &#x27;housing&#x27;, &#x27;loan&#x27;]),\n",
       "                                (&#x27;marital_pipeline&#x27;,\n",
       "                                 OneHotEncoder(sparse_output=False),\n",
       "                                 [&#x27;marital&#x27;]),\n",
       "                                (&#x27;age_scaler&#x27;, StandardScaler(), [&#x27;age&#x27;]),\n",
       "                                (&#x27;balance_scaler&#x27;, RobustScaler(),\n",
       "                                 [&#x27;balance&#x27;, &#x27;pdays&#x27;]),\n",
       "                                (&#x27;duration_scaler&#x27;, MinMaxScaler(),\n",
       "                                 [&#x27;duration&#x27;, &#x27;campaign&#x27;, &#x27;previous&#x27;]),\n",
       "                                (&#x27;date_transformer&#x27;, Date_Transformer(),\n",
       "                                 [&#x27;last contact date&#x27;])])</pre><b>In a Jupyter environment, please rerun this cell to show the HTML representation or trust the notebook. <br />On GitHub, the HTML representation is unable to render, please try loading this page with nbviewer.org.</b></div><div class=\"sk-container\" hidden><div class=\"sk-item sk-dashed-wrapped\"><div class=\"sk-label-container\"><div class=\"sk-label sk-toggleable\"><input class=\"sk-toggleable__control sk-hidden--visually\" id=\"sk-estimator-id-1\" type=\"checkbox\" ><label for=\"sk-estimator-id-1\" class=\"sk-toggleable__label sk-toggleable__label-arrow\">ColumnTransformer</label><div class=\"sk-toggleable__content\"><pre>ColumnTransformer(transformers=[(&#x27;drop_column&#x27;, &#x27;drop&#x27;, [&#x27;poutcome&#x27;]),\n",
       "                                (&#x27;job_pipeline&#x27;,\n",
       "                                 Pipeline(steps=[(&#x27;impute_unknown&#x27;,\n",
       "                                                  SimpleImputer(fill_value=&#x27;unknown&#x27;,\n",
       "                                                                strategy=&#x27;constant&#x27;)),\n",
       "                                                 (&#x27;onehot&#x27;,\n",
       "                                                  OneHotEncoder(sparse_output=False))]),\n",
       "                                 [&#x27;job&#x27;]),\n",
       "                                (&#x27;education_pipeline&#x27;,\n",
       "                                 Pipeline(steps=[(&#x27;impute_most_frequent&#x27;,\n",
       "                                                  SimpleImputer(strategy=&#x27;most_frequent&#x27;)),\n",
       "                                                 (&#x27;ordinal&#x27;,\n",
       "                                                  Ordi...\n",
       "                                 OneHotEncoder(drop=&#x27;if_binary&#x27;),\n",
       "                                 [&#x27;default&#x27;, &#x27;housing&#x27;, &#x27;loan&#x27;]),\n",
       "                                (&#x27;marital_pipeline&#x27;,\n",
       "                                 OneHotEncoder(sparse_output=False),\n",
       "                                 [&#x27;marital&#x27;]),\n",
       "                                (&#x27;age_scaler&#x27;, StandardScaler(), [&#x27;age&#x27;]),\n",
       "                                (&#x27;balance_scaler&#x27;, RobustScaler(),\n",
       "                                 [&#x27;balance&#x27;, &#x27;pdays&#x27;]),\n",
       "                                (&#x27;duration_scaler&#x27;, MinMaxScaler(),\n",
       "                                 [&#x27;duration&#x27;, &#x27;campaign&#x27;, &#x27;previous&#x27;]),\n",
       "                                (&#x27;date_transformer&#x27;, Date_Transformer(),\n",
       "                                 [&#x27;last contact date&#x27;])])</pre></div></div></div><div class=\"sk-parallel\"><div class=\"sk-parallel-item\"><div class=\"sk-item\"><div class=\"sk-label-container\"><div class=\"sk-label sk-toggleable\"><input class=\"sk-toggleable__control sk-hidden--visually\" id=\"sk-estimator-id-2\" type=\"checkbox\" ><label for=\"sk-estimator-id-2\" class=\"sk-toggleable__label sk-toggleable__label-arrow\">drop_column</label><div class=\"sk-toggleable__content\"><pre>[&#x27;poutcome&#x27;]</pre></div></div></div><div class=\"sk-serial\"><div class=\"sk-item\"><div class=\"sk-estimator sk-toggleable\"><input class=\"sk-toggleable__control sk-hidden--visually\" id=\"sk-estimator-id-3\" type=\"checkbox\" ><label for=\"sk-estimator-id-3\" class=\"sk-toggleable__label sk-toggleable__label-arrow\">drop</label><div class=\"sk-toggleable__content\"><pre>drop</pre></div></div></div></div></div></div><div class=\"sk-parallel-item\"><div class=\"sk-item\"><div class=\"sk-label-container\"><div class=\"sk-label sk-toggleable\"><input class=\"sk-toggleable__control sk-hidden--visually\" id=\"sk-estimator-id-4\" type=\"checkbox\" ><label for=\"sk-estimator-id-4\" class=\"sk-toggleable__label sk-toggleable__label-arrow\">job_pipeline</label><div class=\"sk-toggleable__content\"><pre>[&#x27;job&#x27;]</pre></div></div></div><div class=\"sk-serial\"><div class=\"sk-item\"><div class=\"sk-serial\"><div class=\"sk-item\"><div class=\"sk-estimator sk-toggleable\"><input class=\"sk-toggleable__control sk-hidden--visually\" id=\"sk-estimator-id-5\" type=\"checkbox\" ><label for=\"sk-estimator-id-5\" class=\"sk-toggleable__label sk-toggleable__label-arrow\">SimpleImputer</label><div class=\"sk-toggleable__content\"><pre>SimpleImputer(fill_value=&#x27;unknown&#x27;, strategy=&#x27;constant&#x27;)</pre></div></div></div><div class=\"sk-item\"><div class=\"sk-estimator sk-toggleable\"><input class=\"sk-toggleable__control sk-hidden--visually\" id=\"sk-estimator-id-6\" type=\"checkbox\" ><label for=\"sk-estimator-id-6\" class=\"sk-toggleable__label sk-toggleable__label-arrow\">OneHotEncoder</label><div class=\"sk-toggleable__content\"><pre>OneHotEncoder(sparse_output=False)</pre></div></div></div></div></div></div></div></div><div class=\"sk-parallel-item\"><div class=\"sk-item\"><div class=\"sk-label-container\"><div class=\"sk-label sk-toggleable\"><input class=\"sk-toggleable__control sk-hidden--visually\" id=\"sk-estimator-id-7\" type=\"checkbox\" ><label for=\"sk-estimator-id-7\" class=\"sk-toggleable__label sk-toggleable__label-arrow\">education_pipeline</label><div class=\"sk-toggleable__content\"><pre>[&#x27;education&#x27;]</pre></div></div></div><div class=\"sk-serial\"><div class=\"sk-item\"><div class=\"sk-serial\"><div class=\"sk-item\"><div class=\"sk-estimator sk-toggleable\"><input class=\"sk-toggleable__control sk-hidden--visually\" id=\"sk-estimator-id-8\" type=\"checkbox\" ><label for=\"sk-estimator-id-8\" class=\"sk-toggleable__label sk-toggleable__label-arrow\">SimpleImputer</label><div class=\"sk-toggleable__content\"><pre>SimpleImputer(strategy=&#x27;most_frequent&#x27;)</pre></div></div></div><div class=\"sk-item\"><div class=\"sk-estimator sk-toggleable\"><input class=\"sk-toggleable__control sk-hidden--visually\" id=\"sk-estimator-id-9\" type=\"checkbox\" ><label for=\"sk-estimator-id-9\" class=\"sk-toggleable__label sk-toggleable__label-arrow\">OrdinalEncoder</label><div class=\"sk-toggleable__content\"><pre>OrdinalEncoder()</pre></div></div></div></div></div></div></div></div><div class=\"sk-parallel-item\"><div class=\"sk-item\"><div class=\"sk-label-container\"><div class=\"sk-label sk-toggleable\"><input class=\"sk-toggleable__control sk-hidden--visually\" id=\"sk-estimator-id-10\" type=\"checkbox\" ><label for=\"sk-estimator-id-10\" class=\"sk-toggleable__label sk-toggleable__label-arrow\">contact_pipeline</label><div class=\"sk-toggleable__content\"><pre>[&#x27;contact&#x27;]</pre></div></div></div><div class=\"sk-serial\"><div class=\"sk-item\"><div class=\"sk-serial\"><div class=\"sk-item\"><div class=\"sk-estimator sk-toggleable\"><input class=\"sk-toggleable__control sk-hidden--visually\" id=\"sk-estimator-id-11\" type=\"checkbox\" ><label for=\"sk-estimator-id-11\" class=\"sk-toggleable__label sk-toggleable__label-arrow\">SimpleImputer</label><div class=\"sk-toggleable__content\"><pre>SimpleImputer(strategy=&#x27;most_frequent&#x27;)</pre></div></div></div><div class=\"sk-item\"><div class=\"sk-estimator sk-toggleable\"><input class=\"sk-toggleable__control sk-hidden--visually\" id=\"sk-estimator-id-12\" type=\"checkbox\" ><label for=\"sk-estimator-id-12\" class=\"sk-toggleable__label sk-toggleable__label-arrow\">OneHotEncoder</label><div class=\"sk-toggleable__content\"><pre>OneHotEncoder(sparse_output=False)</pre></div></div></div></div></div></div></div></div><div class=\"sk-parallel-item\"><div class=\"sk-item\"><div class=\"sk-label-container\"><div class=\"sk-label sk-toggleable\"><input class=\"sk-toggleable__control sk-hidden--visually\" id=\"sk-estimator-id-13\" type=\"checkbox\" ><label for=\"sk-estimator-id-13\" class=\"sk-toggleable__label sk-toggleable__label-arrow\">binary_pipeline</label><div class=\"sk-toggleable__content\"><pre>[&#x27;default&#x27;, &#x27;housing&#x27;, &#x27;loan&#x27;]</pre></div></div></div><div class=\"sk-serial\"><div class=\"sk-item\"><div class=\"sk-estimator sk-toggleable\"><input class=\"sk-toggleable__control sk-hidden--visually\" id=\"sk-estimator-id-14\" type=\"checkbox\" ><label for=\"sk-estimator-id-14\" class=\"sk-toggleable__label sk-toggleable__label-arrow\">OneHotEncoder</label><div class=\"sk-toggleable__content\"><pre>OneHotEncoder(drop=&#x27;if_binary&#x27;)</pre></div></div></div></div></div></div><div class=\"sk-parallel-item\"><div class=\"sk-item\"><div class=\"sk-label-container\"><div class=\"sk-label sk-toggleable\"><input class=\"sk-toggleable__control sk-hidden--visually\" id=\"sk-estimator-id-15\" type=\"checkbox\" ><label for=\"sk-estimator-id-15\" class=\"sk-toggleable__label sk-toggleable__label-arrow\">marital_pipeline</label><div class=\"sk-toggleable__content\"><pre>[&#x27;marital&#x27;]</pre></div></div></div><div class=\"sk-serial\"><div class=\"sk-item\"><div class=\"sk-estimator sk-toggleable\"><input class=\"sk-toggleable__control sk-hidden--visually\" id=\"sk-estimator-id-16\" type=\"checkbox\" ><label for=\"sk-estimator-id-16\" class=\"sk-toggleable__label sk-toggleable__label-arrow\">OneHotEncoder</label><div class=\"sk-toggleable__content\"><pre>OneHotEncoder(sparse_output=False)</pre></div></div></div></div></div></div><div class=\"sk-parallel-item\"><div class=\"sk-item\"><div class=\"sk-label-container\"><div class=\"sk-label sk-toggleable\"><input class=\"sk-toggleable__control sk-hidden--visually\" id=\"sk-estimator-id-17\" type=\"checkbox\" ><label for=\"sk-estimator-id-17\" class=\"sk-toggleable__label sk-toggleable__label-arrow\">age_scaler</label><div class=\"sk-toggleable__content\"><pre>[&#x27;age&#x27;]</pre></div></div></div><div class=\"sk-serial\"><div class=\"sk-item\"><div class=\"sk-estimator sk-toggleable\"><input class=\"sk-toggleable__control sk-hidden--visually\" id=\"sk-estimator-id-18\" type=\"checkbox\" ><label for=\"sk-estimator-id-18\" class=\"sk-toggleable__label sk-toggleable__label-arrow\">StandardScaler</label><div class=\"sk-toggleable__content\"><pre>StandardScaler()</pre></div></div></div></div></div></div><div class=\"sk-parallel-item\"><div class=\"sk-item\"><div class=\"sk-label-container\"><div class=\"sk-label sk-toggleable\"><input class=\"sk-toggleable__control sk-hidden--visually\" id=\"sk-estimator-id-19\" type=\"checkbox\" ><label for=\"sk-estimator-id-19\" class=\"sk-toggleable__label sk-toggleable__label-arrow\">balance_scaler</label><div class=\"sk-toggleable__content\"><pre>[&#x27;balance&#x27;, &#x27;pdays&#x27;]</pre></div></div></div><div class=\"sk-serial\"><div class=\"sk-item\"><div class=\"sk-estimator sk-toggleable\"><input class=\"sk-toggleable__control sk-hidden--visually\" id=\"sk-estimator-id-20\" type=\"checkbox\" ><label for=\"sk-estimator-id-20\" class=\"sk-toggleable__label sk-toggleable__label-arrow\">RobustScaler</label><div class=\"sk-toggleable__content\"><pre>RobustScaler()</pre></div></div></div></div></div></div><div class=\"sk-parallel-item\"><div class=\"sk-item\"><div class=\"sk-label-container\"><div class=\"sk-label sk-toggleable\"><input class=\"sk-toggleable__control sk-hidden--visually\" id=\"sk-estimator-id-21\" type=\"checkbox\" ><label for=\"sk-estimator-id-21\" class=\"sk-toggleable__label sk-toggleable__label-arrow\">duration_scaler</label><div class=\"sk-toggleable__content\"><pre>[&#x27;duration&#x27;, &#x27;campaign&#x27;, &#x27;previous&#x27;]</pre></div></div></div><div class=\"sk-serial\"><div class=\"sk-item\"><div class=\"sk-estimator sk-toggleable\"><input class=\"sk-toggleable__control sk-hidden--visually\" id=\"sk-estimator-id-22\" type=\"checkbox\" ><label for=\"sk-estimator-id-22\" class=\"sk-toggleable__label sk-toggleable__label-arrow\">MinMaxScaler</label><div class=\"sk-toggleable__content\"><pre>MinMaxScaler()</pre></div></div></div></div></div></div><div class=\"sk-parallel-item\"><div class=\"sk-item\"><div class=\"sk-label-container\"><div class=\"sk-label sk-toggleable\"><input class=\"sk-toggleable__control sk-hidden--visually\" id=\"sk-estimator-id-23\" type=\"checkbox\" ><label for=\"sk-estimator-id-23\" class=\"sk-toggleable__label sk-toggleable__label-arrow\">date_transformer</label><div class=\"sk-toggleable__content\"><pre>[&#x27;last contact date&#x27;]</pre></div></div></div><div class=\"sk-serial\"><div class=\"sk-item\"><div class=\"sk-estimator sk-toggleable\"><input class=\"sk-toggleable__control sk-hidden--visually\" id=\"sk-estimator-id-24\" type=\"checkbox\" ><label for=\"sk-estimator-id-24\" class=\"sk-toggleable__label sk-toggleable__label-arrow\">Date_Transformer</label><div class=\"sk-toggleable__content\"><pre>Date_Transformer()</pre></div></div></div></div></div></div></div></div></div></div>"
      ],
      "text/plain": [
       "ColumnTransformer(transformers=[('drop_column', 'drop', ['poutcome']),\n",
       "                                ('job_pipeline',\n",
       "                                 Pipeline(steps=[('impute_unknown',\n",
       "                                                  SimpleImputer(fill_value='unknown',\n",
       "                                                                strategy='constant')),\n",
       "                                                 ('onehot',\n",
       "                                                  OneHotEncoder(sparse_output=False))]),\n",
       "                                 ['job']),\n",
       "                                ('education_pipeline',\n",
       "                                 Pipeline(steps=[('impute_most_frequent',\n",
       "                                                  SimpleImputer(strategy='most_frequent')),\n",
       "                                                 ('ordinal',\n",
       "                                                  Ordi...\n",
       "                                 OneHotEncoder(drop='if_binary'),\n",
       "                                 ['default', 'housing', 'loan']),\n",
       "                                ('marital_pipeline',\n",
       "                                 OneHotEncoder(sparse_output=False),\n",
       "                                 ['marital']),\n",
       "                                ('age_scaler', StandardScaler(), ['age']),\n",
       "                                ('balance_scaler', RobustScaler(),\n",
       "                                 ['balance', 'pdays']),\n",
       "                                ('duration_scaler', MinMaxScaler(),\n",
       "                                 ['duration', 'campaign', 'previous']),\n",
       "                                ('date_transformer', Date_Transformer(),\n",
       "                                 ['last contact date'])])"
      ]
     },
     "execution_count": 39,
     "metadata": {},
     "output_type": "execute_result"
    }
   ],
   "source": [
    "from sklearn import set_config\n",
    "\n",
    "set_config(display='diagram')\n",
    "preprocessing_pipe"
   ]
  },
  {
   "cell_type": "code",
   "execution_count": 40,
   "id": "2d928537",
   "metadata": {
    "execution": {
     "iopub.execute_input": "2024-12-09T16:07:24.404762Z",
     "iopub.status.busy": "2024-12-09T16:07:24.404379Z",
     "iopub.status.idle": "2024-12-09T16:07:24.533480Z",
     "shell.execute_reply": "2024-12-09T16:07:24.532365Z"
    },
    "papermill": {
     "duration": 0.167894,
     "end_time": "2024-12-09T16:07:24.535447",
     "exception": false,
     "start_time": "2024-12-09T16:07:24.367553",
     "status": "completed"
    },
    "tags": []
   },
   "outputs": [
    {
     "data": {
      "text/plain": [
       "30"
      ]
     },
     "execution_count": 40,
     "metadata": {},
     "output_type": "execute_result"
    }
   ],
   "source": [
    "X_train_preprocess = preprocessing_pipe.fit_transform(X_train)\n",
    "len(X_train_preprocess[0])"
   ]
  },
  {
   "cell_type": "markdown",
   "id": "8b40656e",
   "metadata": {
    "papermill": {
     "duration": 0.035523,
     "end_time": "2024-12-09T16:07:24.606763",
     "exception": false,
     "start_time": "2024-12-09T16:07:24.571240",
     "status": "completed"
    },
    "tags": []
   },
   "source": [
    "## Model 1: Logistic Regression"
   ]
  },
  {
   "cell_type": "markdown",
   "id": "d60aec02",
   "metadata": {
    "papermill": {
     "duration": 0.035556,
     "end_time": "2024-12-09T16:07:24.678123",
     "exception": false,
     "start_time": "2024-12-09T16:07:24.642567",
     "status": "completed"
    },
    "tags": []
   },
   "source": [
    "Logistic Regression is a statistical model used for binary or multi-class classification problems, predicting probabilities of categories based on input features. In Python, the **LogisticRegression** class provides a way to fit this model to data, allowing for options like regularization to prevent overfitting."
   ]
  },
  {
   "cell_type": "code",
   "execution_count": 41,
   "id": "0fccd748",
   "metadata": {
    "execution": {
     "iopub.execute_input": "2024-12-09T16:07:24.752346Z",
     "iopub.status.busy": "2024-12-09T16:07:24.751590Z",
     "iopub.status.idle": "2024-12-09T16:07:24.756746Z",
     "shell.execute_reply": "2024-12-09T16:07:24.755784Z"
    },
    "papermill": {
     "duration": 0.044452,
     "end_time": "2024-12-09T16:07:24.758715",
     "exception": false,
     "start_time": "2024-12-09T16:07:24.714263",
     "status": "completed"
    },
    "tags": []
   },
   "outputs": [],
   "source": [
    "from sklearn.linear_model import LogisticRegression\n",
    "\n",
    "model_pipe_lr = Pipeline([\n",
    "    ('preprocess', preprocessing_pipe),\n",
    "    ('lr_model', LogisticRegression(random_state=42, solver='liblinear', max_iter=2000))\n",
    "])"
   ]
  },
  {
   "cell_type": "code",
   "execution_count": 42,
   "id": "6351ced0",
   "metadata": {
    "execution": {
     "iopub.execute_input": "2024-12-09T16:07:24.832657Z",
     "iopub.status.busy": "2024-12-09T16:07:24.832001Z",
     "iopub.status.idle": "2024-12-09T16:07:25.236520Z",
     "shell.execute_reply": "2024-12-09T16:07:25.235236Z"
    },
    "papermill": {
     "duration": 0.445018,
     "end_time": "2024-12-09T16:07:25.239728",
     "exception": false,
     "start_time": "2024-12-09T16:07:24.794710",
     "status": "completed"
    },
    "tags": []
   },
   "outputs": [],
   "source": [
    "lr_model = model_pipe_lr.fit(X_train, y_train)\n",
    "lr_y_pred = lr_model.predict(X_test)"
   ]
  },
  {
   "cell_type": "code",
   "execution_count": 43,
   "id": "54bf0260",
   "metadata": {
    "execution": {
     "iopub.execute_input": "2024-12-09T16:07:25.393121Z",
     "iopub.status.busy": "2024-12-09T16:07:25.392568Z",
     "iopub.status.idle": "2024-12-09T16:07:25.468700Z",
     "shell.execute_reply": "2024-12-09T16:07:25.467731Z"
    },
    "papermill": {
     "duration": 0.148354,
     "end_time": "2024-12-09T16:07:25.470697",
     "exception": false,
     "start_time": "2024-12-09T16:07:25.322343",
     "status": "completed"
    },
    "tags": []
   },
   "outputs": [
    {
     "data": {
      "text/plain": [
       "0.5702014678354299"
      ]
     },
     "execution_count": 43,
     "metadata": {},
     "output_type": "execute_result"
    }
   ],
   "source": [
    "f1_score(y_test, lr_y_pred, average='macro')"
   ]
  },
  {
   "cell_type": "markdown",
   "id": "8411cb64",
   "metadata": {
    "papermill": {
     "duration": 0.035741,
     "end_time": "2024-12-09T16:07:25.542612",
     "exception": false,
     "start_time": "2024-12-09T16:07:25.506871",
     "status": "completed"
    },
    "tags": []
   },
   "source": [
    "F1 Score = `0.5702014678354299`"
   ]
  },
  {
   "cell_type": "markdown",
   "id": "b85b01be",
   "metadata": {
    "papermill": {
     "duration": 0.03571,
     "end_time": "2024-12-09T16:07:25.614195",
     "exception": false,
     "start_time": "2024-12-09T16:07:25.578485",
     "status": "completed"
    },
    "tags": []
   },
   "source": [
    "### Hyperparameter Tuning using LogisticRegressionCV"
   ]
  },
  {
   "cell_type": "markdown",
   "id": "b71490c8",
   "metadata": {
    "papermill": {
     "duration": 0.035973,
     "end_time": "2024-12-09T16:07:25.686149",
     "exception": false,
     "start_time": "2024-12-09T16:07:25.650176",
     "status": "completed"
    },
    "tags": []
   },
   "source": [
    "For improving model performance, **LogisticRegressionCV** automates hyperparameter tuning by using cross-validation to find the best values for parameters. This ensures that the model generalizes well to unseen data, making it a powerful tool for classification tasks."
   ]
  },
  {
   "cell_type": "code",
   "execution_count": 44,
   "id": "12e828cc",
   "metadata": {
    "execution": {
     "iopub.execute_input": "2024-12-09T16:07:25.759859Z",
     "iopub.status.busy": "2024-12-09T16:07:25.759477Z",
     "iopub.status.idle": "2024-12-09T16:07:25.764891Z",
     "shell.execute_reply": "2024-12-09T16:07:25.763922Z"
    },
    "papermill": {
     "duration": 0.044637,
     "end_time": "2024-12-09T16:07:25.766860",
     "exception": false,
     "start_time": "2024-12-09T16:07:25.722223",
     "status": "completed"
    },
    "tags": []
   },
   "outputs": [],
   "source": [
    "from sklearn.linear_model import LogisticRegressionCV\n",
    "\n",
    "model_pipe_logistic = Pipeline([\n",
    "    ('preprocess', preprocessing_pipe),\n",
    "    ('logistic_model', LogisticRegressionCV(\n",
    "        Cs=[0.01, 0.1, 1, 10, 100],\n",
    "        cv=5,                       \n",
    "        penalty='l2',\n",
    "        scoring='f1_macro',\n",
    "        max_iter=2000,\n",
    "        random_state=42 \n",
    "    ))\n",
    "])"
   ]
  },
  {
   "cell_type": "code",
   "execution_count": 45,
   "id": "e0b5419f",
   "metadata": {
    "execution": {
     "iopub.execute_input": "2024-12-09T16:07:25.840820Z",
     "iopub.status.busy": "2024-12-09T16:07:25.840162Z",
     "iopub.status.idle": "2024-12-09T16:07:39.531399Z",
     "shell.execute_reply": "2024-12-09T16:07:39.530216Z"
    },
    "papermill": {
     "duration": 13.731931,
     "end_time": "2024-12-09T16:07:39.534855",
     "exception": false,
     "start_time": "2024-12-09T16:07:25.802924",
     "status": "completed"
    },
    "tags": []
   },
   "outputs": [],
   "source": [
    "lr_cv_model = model_pipe_logistic.fit(X_train, y_train)\n",
    "lr_cv_y_pred = lr_cv_model.predict(X_test)"
   ]
  },
  {
   "cell_type": "code",
   "execution_count": 46,
   "id": "fd4039a0",
   "metadata": {
    "execution": {
     "iopub.execute_input": "2024-12-09T16:07:39.663322Z",
     "iopub.status.busy": "2024-12-09T16:07:39.662347Z",
     "iopub.status.idle": "2024-12-09T16:07:39.735998Z",
     "shell.execute_reply": "2024-12-09T16:07:39.735001Z"
    },
    "papermill": {
     "duration": 0.136015,
     "end_time": "2024-12-09T16:07:39.738289",
     "exception": false,
     "start_time": "2024-12-09T16:07:39.602274",
     "status": "completed"
    },
    "tags": []
   },
   "outputs": [
    {
     "data": {
      "text/plain": [
       "0.571717512040596"
      ]
     },
     "execution_count": 46,
     "metadata": {},
     "output_type": "execute_result"
    }
   ],
   "source": [
    "f1_score(y_test, lr_cv_y_pred, average='macro')"
   ]
  },
  {
   "cell_type": "markdown",
   "id": "13d6e234",
   "metadata": {
    "papermill": {
     "duration": 0.036838,
     "end_time": "2024-12-09T16:07:39.811622",
     "exception": false,
     "start_time": "2024-12-09T16:07:39.774784",
     "status": "completed"
    },
    "tags": []
   },
   "source": [
    "F1 Score = `0.571717512040596`"
   ]
  },
  {
   "cell_type": "markdown",
   "id": "9cd1c469",
   "metadata": {
    "papermill": {
     "duration": 0.03687,
     "end_time": "2024-12-09T16:07:39.886066",
     "exception": false,
     "start_time": "2024-12-09T16:07:39.849196",
     "status": "completed"
    },
    "tags": []
   },
   "source": [
    "#### Observations\n",
    "\n",
    "- **Baseline F1-Score:** `0.5702` (Logistic Regression)\n",
    "  \n",
    "- **Hyperparameter-Tuned F1-Score:** `0.5717` (LogisticRegressionCV)\n",
    "\n",
    "- **Improvement:** Marginal increase of `+0.0015` in F1-Score.\n",
    "\n",
    "- **Hyperparameter Tuning:** Explored regularization strengths (`C`s) with cross-validation (`cv=5`), but gains were minimal.\n",
    "\n",
    "- **Bias-Variance Tradeoff:** The baseline model already had a reasonable tradeoff; tuning didn’t significantly help.\n",
    "\n",
    "- **Regularization Insights:** Optimal `C` was likely close to the default (`C=1`), suggesting minimal over/underfitting issues."
   ]
  },
  {
   "cell_type": "markdown",
   "id": "5212690a",
   "metadata": {
    "papermill": {
     "duration": 0.037468,
     "end_time": "2024-12-09T16:07:39.961019",
     "exception": false,
     "start_time": "2024-12-09T16:07:39.923551",
     "status": "completed"
    },
    "tags": []
   },
   "source": [
    "## Model 2: K-Nearest Neighbours"
   ]
  },
  {
   "cell_type": "markdown",
   "id": "4a848d8a",
   "metadata": {
    "papermill": {
     "duration": 0.037499,
     "end_time": "2024-12-09T16:07:40.035340",
     "exception": false,
     "start_time": "2024-12-09T16:07:39.997841",
     "status": "completed"
    },
    "tags": []
   },
   "source": [
    "K-Nearest Neighbors (KNN) is a simple, non-parametric algorithm used for classification and regression. It works by identifying the 'k' nearest data points to a query point and assigning the most common class among them. The **KNeighborsClassifier** in Python implements this algorithm for classification tasks."
   ]
  },
  {
   "cell_type": "code",
   "execution_count": 47,
   "id": "4dd680f1",
   "metadata": {
    "execution": {
     "iopub.execute_input": "2024-12-09T16:07:40.110025Z",
     "iopub.status.busy": "2024-12-09T16:07:40.109609Z",
     "iopub.status.idle": "2024-12-09T16:07:40.114629Z",
     "shell.execute_reply": "2024-12-09T16:07:40.113690Z"
    },
    "papermill": {
     "duration": 0.044767,
     "end_time": "2024-12-09T16:07:40.116467",
     "exception": false,
     "start_time": "2024-12-09T16:07:40.071700",
     "status": "completed"
    },
    "tags": []
   },
   "outputs": [],
   "source": [
    "from sklearn.neighbors import KNeighborsClassifier\n",
    "\n",
    "knn_model_pipe = Pipeline([\n",
    "    ('preprocess', preprocessing_pipe),\n",
    "    ('knn_model', KNeighborsClassifier())\n",
    "])"
   ]
  },
  {
   "cell_type": "code",
   "execution_count": 48,
   "id": "cb99d7a2",
   "metadata": {
    "execution": {
     "iopub.execute_input": "2024-12-09T16:07:40.190747Z",
     "iopub.status.busy": "2024-12-09T16:07:40.190364Z",
     "iopub.status.idle": "2024-12-09T16:07:41.358683Z",
     "shell.execute_reply": "2024-12-09T16:07:41.357588Z"
    },
    "papermill": {
     "duration": 1.208317,
     "end_time": "2024-12-09T16:07:41.361153",
     "exception": false,
     "start_time": "2024-12-09T16:07:40.152836",
     "status": "completed"
    },
    "tags": []
   },
   "outputs": [],
   "source": [
    "knn_model = knn_model_pipe.fit(X_train, y_train)\n",
    "knn_y_pred = knn_model.predict(X_test)"
   ]
  },
  {
   "cell_type": "code",
   "execution_count": 49,
   "id": "8df99c55",
   "metadata": {
    "execution": {
     "iopub.execute_input": "2024-12-09T16:07:41.436099Z",
     "iopub.status.busy": "2024-12-09T16:07:41.435674Z",
     "iopub.status.idle": "2024-12-09T16:07:41.509898Z",
     "shell.execute_reply": "2024-12-09T16:07:41.508905Z"
    },
    "papermill": {
     "duration": 0.114053,
     "end_time": "2024-12-09T16:07:41.511897",
     "exception": false,
     "start_time": "2024-12-09T16:07:41.397844",
     "status": "completed"
    },
    "tags": []
   },
   "outputs": [
    {
     "data": {
      "text/plain": [
       "0.63788367289247"
      ]
     },
     "execution_count": 49,
     "metadata": {},
     "output_type": "execute_result"
    }
   ],
   "source": [
    "f1_score(y_test, knn_y_pred, average='macro')"
   ]
  },
  {
   "cell_type": "markdown",
   "id": "e823604f",
   "metadata": {
    "papermill": {
     "duration": 0.035968,
     "end_time": "2024-12-09T16:07:41.584170",
     "exception": false,
     "start_time": "2024-12-09T16:07:41.548202",
     "status": "completed"
    },
    "tags": []
   },
   "source": [
    "F1 Score = `0.63788367289247`"
   ]
  },
  {
   "cell_type": "markdown",
   "id": "0fe23b5e",
   "metadata": {
    "papermill": {
     "duration": 0.038502,
     "end_time": "2024-12-09T16:07:41.659182",
     "exception": false,
     "start_time": "2024-12-09T16:07:41.620680",
     "status": "completed"
    },
    "tags": []
   },
   "source": [
    "### Hyperparameter Tuning"
   ]
  },
  {
   "cell_type": "markdown",
   "id": "14a242b5",
   "metadata": {
    "papermill": {
     "duration": 0.036185,
     "end_time": "2024-12-09T16:07:41.732462",
     "exception": false,
     "start_time": "2024-12-09T16:07:41.696277",
     "status": "completed"
    },
    "tags": []
   },
   "source": [
    "To optimize KNN's performance, **GridSearchCV** can be used for hyperparameter tuning, such as finding the best value of 'k' or distance metrics."
   ]
  },
  {
   "cell_type": "code",
   "execution_count": 50,
   "id": "d0498e55",
   "metadata": {
    "execution": {
     "iopub.execute_input": "2024-12-09T16:07:41.807148Z",
     "iopub.status.busy": "2024-12-09T16:07:41.806731Z",
     "iopub.status.idle": "2024-12-09T16:07:41.811574Z",
     "shell.execute_reply": "2024-12-09T16:07:41.810609Z"
    },
    "papermill": {
     "duration": 0.044942,
     "end_time": "2024-12-09T16:07:41.813892",
     "exception": false,
     "start_time": "2024-12-09T16:07:41.768950",
     "status": "completed"
    },
    "tags": []
   },
   "outputs": [],
   "source": [
    "knn_param_grid = {\n",
    "    'knn_model__n_neighbors': [3, 5, 7],\n",
    "    'knn_model__weights': ['uniform', 'distance'],\n",
    "}"
   ]
  },
  {
   "cell_type": "code",
   "execution_count": 51,
   "id": "4a79d49f",
   "metadata": {
    "execution": {
     "iopub.execute_input": "2024-12-09T16:07:41.889446Z",
     "iopub.status.busy": "2024-12-09T16:07:41.889050Z",
     "iopub.status.idle": "2024-12-09T16:07:41.895145Z",
     "shell.execute_reply": "2024-12-09T16:07:41.893852Z"
    },
    "papermill": {
     "duration": 0.046401,
     "end_time": "2024-12-09T16:07:41.897260",
     "exception": false,
     "start_time": "2024-12-09T16:07:41.850859",
     "status": "completed"
    },
    "tags": []
   },
   "outputs": [],
   "source": [
    "from sklearn.model_selection import GridSearchCV\n",
    "\n",
    "# commented out\n",
    "\n",
    "# knn_grid_search = GridSearchCV(knn_model_pipe, knn_param_grid, scoring='f1_macro', cv=5, n_jobs=-1, verbose=1)\n",
    "# knn_grid_search.fit(X_train, y_train)\n",
    "\n",
    "# print(knn_grid_search.best_estimator_)\n",
    "# print(knn_grid_search.best_params_)\n",
    "# print(knn_grid_search.best_score_)\n",
    "\n",
    "# Fitting 5 folds for each of 6 candidates, totalling 30 fits\n",
    "# Pipeline(steps=[('preprocess',\n",
    "#                  ColumnTransformer(transformers=[('drop_column', 'drop',\n",
    "#                                                   ['poutcome']),\n",
    "#                                                  ('job_pipeline',\n",
    "#                                                   Pipeline(steps=[('impute_unknown',\n",
    "#                                                                    SimpleImputer(fill_value='unknown',\n",
    "#                                                                                  strategy='constant')),\n",
    "#                                                                   ('onehot',\n",
    "#                                                                    OneHotEncoder(sparse_output=False))]),\n",
    "#                                                   ['job']),\n",
    "#                                                  ('education_pipeline',\n",
    "#                                                   Pipeline(steps=[('impute_most_frequent',\n",
    "#                                                                    SimpleImputer(strategy='mo...\n",
    "#                                                    'loan']),\n",
    "#                                                  ('marital_pipeline',\n",
    "#                                                   OneHotEncoder(sparse_output=False),\n",
    "#                                                   ['marital']),\n",
    "#                                                  ('age_scaler',\n",
    "#                                                   StandardScaler(), ['age']),\n",
    "#                                                  ('balance_scaler',\n",
    "#                                                   RobustScaler(),\n",
    "#                                                   ['balance', 'pdays']),\n",
    "#                                                  ('duration_scaler',\n",
    "#                                                   MinMaxScaler(),\n",
    "#                                                   ['duration', 'campaign',\n",
    "#                                                    'previous']),\n",
    "#                                                  ('date_transformer',\n",
    "#                                                   DateTransformer(),\n",
    "#                                                   ['last contact date'])])),\n",
    "#                 ('knn_model', KNeighborsClassifier(n_neighbors=3))])"
   ]
  },
  {
   "cell_type": "code",
   "execution_count": 52,
   "id": "80b5c16e",
   "metadata": {
    "execution": {
     "iopub.execute_input": "2024-12-09T16:07:41.971868Z",
     "iopub.status.busy": "2024-12-09T16:07:41.970911Z",
     "iopub.status.idle": "2024-12-09T16:07:41.975788Z",
     "shell.execute_reply": "2024-12-09T16:07:41.974944Z"
    },
    "papermill": {
     "duration": 0.044158,
     "end_time": "2024-12-09T16:07:41.977627",
     "exception": false,
     "start_time": "2024-12-09T16:07:41.933469",
     "status": "completed"
    },
    "tags": []
   },
   "outputs": [],
   "source": [
    "gridcv_knn_model_pipe = Pipeline([\n",
    "    ('preprocess', preprocessing_pipe),\n",
    "    ('knn_model', KNeighborsClassifier(n_neighbors=3))\n",
    "])"
   ]
  },
  {
   "cell_type": "code",
   "execution_count": 53,
   "id": "11a825a9",
   "metadata": {
    "execution": {
     "iopub.execute_input": "2024-12-09T16:07:42.053489Z",
     "iopub.status.busy": "2024-12-09T16:07:42.052587Z",
     "iopub.status.idle": "2024-12-09T16:07:43.173600Z",
     "shell.execute_reply": "2024-12-09T16:07:43.172461Z"
    },
    "papermill": {
     "duration": 1.161522,
     "end_time": "2024-12-09T16:07:43.176083",
     "exception": false,
     "start_time": "2024-12-09T16:07:42.014561",
     "status": "completed"
    },
    "tags": []
   },
   "outputs": [],
   "source": [
    "gridcv_knn_model = gridcv_knn_model_pipe.fit(X_train, y_train)\n",
    "gridcv_knn_y_pred = gridcv_knn_model.predict(X_test)"
   ]
  },
  {
   "cell_type": "code",
   "execution_count": 54,
   "id": "107aa87d",
   "metadata": {
    "execution": {
     "iopub.execute_input": "2024-12-09T16:07:43.250417Z",
     "iopub.status.busy": "2024-12-09T16:07:43.249998Z",
     "iopub.status.idle": "2024-12-09T16:07:43.322841Z",
     "shell.execute_reply": "2024-12-09T16:07:43.321859Z"
    },
    "papermill": {
     "duration": 0.112386,
     "end_time": "2024-12-09T16:07:43.324822",
     "exception": false,
     "start_time": "2024-12-09T16:07:43.212436",
     "status": "completed"
    },
    "tags": []
   },
   "outputs": [
    {
     "data": {
      "text/plain": [
       "0.6386156845062445"
      ]
     },
     "execution_count": 54,
     "metadata": {},
     "output_type": "execute_result"
    }
   ],
   "source": [
    "f1_score(y_test, gridcv_knn_y_pred, average='macro')"
   ]
  },
  {
   "cell_type": "markdown",
   "id": "fac9ba9c",
   "metadata": {
    "papermill": {
     "duration": 0.035798,
     "end_time": "2024-12-09T16:07:43.398398",
     "exception": false,
     "start_time": "2024-12-09T16:07:43.362600",
     "status": "completed"
    },
    "tags": []
   },
   "source": [
    "F1 Score = `0.6386156845062445`"
   ]
  },
  {
   "cell_type": "markdown",
   "id": "6ce66ed8",
   "metadata": {
    "papermill": {
     "duration": 0.035841,
     "end_time": "2024-12-09T16:07:43.470387",
     "exception": false,
     "start_time": "2024-12-09T16:07:43.434546",
     "status": "completed"
    },
    "tags": []
   },
   "source": [
    "#### Observations\n",
    "\n",
    "- **Baseline F1-Score:** `0.6379` (KNeighborsClassifier with default settings).\n",
    "\n",
    "- **Hyperparameter-Tuned F1-Score:** `0.6386` (KNeighborsClassifier with `n_neighbors=3` and `weights='uniform'`).\n",
    "\n",
    "- **Improvement:** Marginal increase of `+0.0007` in F1-Score.\n",
    "\n",
    "- **Hyperparameter Tuning:** Explored `n_neighbors` (3, 5, 7) and `weights` (`uniform`, `distance`), but gains were minimal.\n",
    "\n",
    "- **Effect of `n_neighbors`:** Reducing neighbors to 3 improved local decision boundaries slightly, indicating a better fit for the data.\n",
    "\n",
    "- **Computational Complexity:** Tuning added overhead due to GridSearchCV’s 30 fits, though results didn’t justify the added cost.\n",
    "\n",
    "- **Bias-Variance Tradeoff:** Default settings already balanced bias and variance well; tuning slightly reduced bias.\n",
    "\n",
    "- **Local Sensitivity:** Smaller `n_neighbors` made the model more sensitive to local data structures, marginally improving performance."
   ]
  },
  {
   "cell_type": "markdown",
   "id": "9f16814d",
   "metadata": {
    "papermill": {
     "duration": 0.036052,
     "end_time": "2024-12-09T16:07:43.543203",
     "exception": false,
     "start_time": "2024-12-09T16:07:43.507151",
     "status": "completed"
    },
    "tags": []
   },
   "source": [
    "### Evaluating the model"
   ]
  },
  {
   "cell_type": "markdown",
   "id": "86d8642d",
   "metadata": {
    "papermill": {
     "duration": 0.036554,
     "end_time": "2024-12-09T16:07:43.616013",
     "exception": false,
     "start_time": "2024-12-09T16:07:43.579459",
     "status": "completed"
    },
    "tags": []
   },
   "source": [
    "After training, the model is evaluated using tools like the **confusion_matrix**, which shows the counts of true positives, false positives, true negatives, and false negatives. The **ConfusionMatrixDisplay** provides a visual representation, while the **classification_report** summarizes precision, recall, F1-score, and accuracy for each class, helping to assess the model's effectiveness comprehensively."
   ]
  },
  {
   "cell_type": "code",
   "execution_count": 55,
   "id": "ce8f9425",
   "metadata": {
    "execution": {
     "iopub.execute_input": "2024-12-09T16:07:43.690564Z",
     "iopub.status.busy": "2024-12-09T16:07:43.690206Z",
     "iopub.status.idle": "2024-12-09T16:07:43.894427Z",
     "shell.execute_reply": "2024-12-09T16:07:43.893507Z"
    },
    "papermill": {
     "duration": 0.245232,
     "end_time": "2024-12-09T16:07:43.897504",
     "exception": false,
     "start_time": "2024-12-09T16:07:43.652272",
     "status": "completed"
    },
    "tags": []
   },
   "outputs": [
    {
     "data": {
      "image/png": "[encoded data removed]",
      "text/plain": [
       "<Figure size 640x480 with 2 Axes>"
      ]
     },
     "metadata": {},
     "output_type": "display_data"
    }
   ],
   "source": [
    "from sklearn.metrics import confusion_matrix, ConfusionMatrixDisplay\n",
    "\n",
    "cm = confusion_matrix(y_test, gridcv_knn_y_pred)\n",
    "disp = ConfusionMatrixDisplay(cm)\n",
    "disp.plot()\n",
    "plt.show()"
   ]
  },
  {
   "cell_type": "code",
   "execution_count": 56,
   "id": "16b9f631",
   "metadata": {
    "execution": {
     "iopub.execute_input": "2024-12-09T16:07:43.980127Z",
     "iopub.status.busy": "2024-12-09T16:07:43.979224Z",
     "iopub.status.idle": "2024-12-09T16:07:44.272158Z",
     "shell.execute_reply": "2024-12-09T16:07:44.271180Z"
    },
    "papermill": {
     "duration": 0.333615,
     "end_time": "2024-12-09T16:07:44.274416",
     "exception": false,
     "start_time": "2024-12-09T16:07:43.940801",
     "status": "completed"
    },
    "tags": []
   },
   "outputs": [
    {
     "name": "stdout",
     "output_type": "stream",
     "text": [
      "              precision    recall  f1-score   support\n",
      "\n",
      "          no       0.89      0.94      0.91      6701\n",
      "         yes       0.47      0.30      0.36      1142\n",
      "\n",
      "    accuracy                           0.85      7843\n",
      "   macro avg       0.68      0.62      0.64      7843\n",
      "weighted avg       0.83      0.85      0.83      7843\n",
      "\n"
     ]
    }
   ],
   "source": [
    "from sklearn.metrics import classification_report\n",
    "\n",
    "print(classification_report(y_test, gridcv_knn_y_pred))"
   ]
  },
  {
   "cell_type": "markdown",
   "id": "3f38e256",
   "metadata": {
    "papermill": {
     "duration": 0.037539,
     "end_time": "2024-12-09T16:07:44.348749",
     "exception": false,
     "start_time": "2024-12-09T16:07:44.311210",
     "status": "completed"
    },
    "tags": []
   },
   "source": [
    "## Model 3: Random Forest Classifier"
   ]
  },
  {
   "cell_type": "markdown",
   "id": "4c188454",
   "metadata": {
    "papermill": {
     "duration": 0.036701,
     "end_time": "2024-12-09T16:07:44.422104",
     "exception": false,
     "start_time": "2024-12-09T16:07:44.385403",
     "status": "completed"
    },
    "tags": []
   },
   "source": [
    "The Random Forest Classifier is a robust ensemble learning method that combines multiple decision trees to improve classification accuracy and prevent overfitting. The **RandomForestClassifier** in Python implements this algorithm, offering flexibility through various hyperparameters."
   ]
  },
  {
   "cell_type": "code",
   "execution_count": 57,
   "id": "22fe1b4a",
   "metadata": {
    "execution": {
     "iopub.execute_input": "2024-12-09T16:07:44.497642Z",
     "iopub.status.busy": "2024-12-09T16:07:44.497247Z",
     "iopub.status.idle": "2024-12-09T16:07:44.595273Z",
     "shell.execute_reply": "2024-12-09T16:07:44.594360Z"
    },
    "papermill": {
     "duration": 0.138695,
     "end_time": "2024-12-09T16:07:44.597545",
     "exception": false,
     "start_time": "2024-12-09T16:07:44.458850",
     "status": "completed"
    },
    "tags": []
   },
   "outputs": [],
   "source": [
    "from sklearn.ensemble import RandomForestClassifier\n",
    "\n",
    "rf_model_pipe = Pipeline([\n",
    "    ('preprocess', preprocessing_pipe),\n",
    "    ('rf_model', RandomForestClassifier())\n",
    "])"
   ]
  },
  {
   "cell_type": "code",
   "execution_count": 58,
   "id": "90927ae2",
   "metadata": {
    "execution": {
     "iopub.execute_input": "2024-12-09T16:07:44.675761Z",
     "iopub.status.busy": "2024-12-09T16:07:44.675276Z",
     "iopub.status.idle": "2024-12-09T16:07:48.982834Z",
     "shell.execute_reply": "2024-12-09T16:07:48.981685Z"
    },
    "papermill": {
     "duration": 4.350403,
     "end_time": "2024-12-09T16:07:48.985237",
     "exception": false,
     "start_time": "2024-12-09T16:07:44.634834",
     "status": "completed"
    },
    "tags": []
   },
   "outputs": [],
   "source": [
    "rf_model = rf_model_pipe.fit(X_train, y_train)\n",
    "rf_y_pred = rf_model.predict(X_test)"
   ]
  },
  {
   "cell_type": "code",
   "execution_count": 59,
   "id": "49a81aa0",
   "metadata": {
    "execution": {
     "iopub.execute_input": "2024-12-09T16:07:49.062266Z",
     "iopub.status.busy": "2024-12-09T16:07:49.061720Z",
     "iopub.status.idle": "2024-12-09T16:07:49.136343Z",
     "shell.execute_reply": "2024-12-09T16:07:49.135232Z"
    },
    "papermill": {
     "duration": 0.115603,
     "end_time": "2024-12-09T16:07:49.138424",
     "exception": false,
     "start_time": "2024-12-09T16:07:49.022821",
     "status": "completed"
    },
    "tags": []
   },
   "outputs": [
    {
     "data": {
      "text/plain": [
       "0.6923649391538081"
      ]
     },
     "execution_count": 59,
     "metadata": {},
     "output_type": "execute_result"
    }
   ],
   "source": [
    "f1_score(y_test, rf_y_pred, average='macro')"
   ]
  },
  {
   "cell_type": "markdown",
   "id": "835f3e6c",
   "metadata": {
    "papermill": {
     "duration": 0.037054,
     "end_time": "2024-12-09T16:07:49.213019",
     "exception": false,
     "start_time": "2024-12-09T16:07:49.175965",
     "status": "completed"
    },
    "tags": []
   },
   "source": [
    "F1 Score = `0.692068025198163`"
   ]
  },
  {
   "cell_type": "markdown",
   "id": "101b9cef",
   "metadata": {
    "papermill": {
     "duration": 0.036826,
     "end_time": "2024-12-09T16:07:49.287326",
     "exception": false,
     "start_time": "2024-12-09T16:07:49.250500",
     "status": "completed"
    },
    "tags": []
   },
   "source": [
    "### Hyperparameter Tuning"
   ]
  },
  {
   "cell_type": "markdown",
   "id": "a5da39c1",
   "metadata": {
    "papermill": {
     "duration": 0.038237,
     "end_time": "2024-12-09T16:07:49.362701",
     "exception": false,
     "start_time": "2024-12-09T16:07:49.324464",
     "status": "completed"
    },
    "tags": []
   },
   "source": [
    " **RandomizedSearchCV** is commonly used to tune hyperparameters like the number of trees, maximum depth, and split criteria, helping to optimize performance."
   ]
  },
  {
   "cell_type": "code",
   "execution_count": 60,
   "id": "4c386eb3",
   "metadata": {
    "execution": {
     "iopub.execute_input": "2024-12-09T16:07:49.439132Z",
     "iopub.status.busy": "2024-12-09T16:07:49.438684Z",
     "iopub.status.idle": "2024-12-09T16:07:49.443905Z",
     "shell.execute_reply": "2024-12-09T16:07:49.442976Z"
    },
    "papermill": {
     "duration": 0.045898,
     "end_time": "2024-12-09T16:07:49.445853",
     "exception": false,
     "start_time": "2024-12-09T16:07:49.399955",
     "status": "completed"
    },
    "tags": []
   },
   "outputs": [],
   "source": [
    "rf_param_grid = {\n",
    "    'rf_model__n_estimators': [100, 200, 300],\n",
    "    'rf_model__max_depth': [None, 10, 20, 30],        \n",
    "    'rf_model__min_samples_split': [2, 5, 10],        \n",
    "    'rf_model__min_samples_leaf': [1, 2, 4],          \n",
    "    'rf_model__max_features': ['sqrt', 'log2', None]  \n",
    "}"
   ]
  },
  {
   "cell_type": "markdown",
   "id": "bc3ca32e",
   "metadata": {
    "papermill": {
     "duration": 0.037515,
     "end_time": "2024-12-09T16:07:49.520419",
     "exception": false,
     "start_time": "2024-12-09T16:07:49.482904",
     "status": "completed"
    },
    "tags": []
   },
   "source": [
    "### RandomizedSearchCV"
   ]
  },
  {
   "cell_type": "code",
   "execution_count": 61,
   "id": "488321eb",
   "metadata": {
    "execution": {
     "iopub.execute_input": "2024-12-09T16:07:49.596442Z",
     "iopub.status.busy": "2024-12-09T16:07:49.596028Z",
     "iopub.status.idle": "2024-12-09T16:07:49.600577Z",
     "shell.execute_reply": "2024-12-09T16:07:49.599593Z"
    },
    "papermill": {
     "duration": 0.045127,
     "end_time": "2024-12-09T16:07:49.602657",
     "exception": false,
     "start_time": "2024-12-09T16:07:49.557530",
     "status": "completed"
    },
    "tags": []
   },
   "outputs": [],
   "source": [
    "# commented out\n",
    "\n",
    "from sklearn.model_selection import RandomizedSearchCV\n",
    "\n",
    "# rf_grid_search = RandomizedSearchCV(rf_model_pipe, rf_param_grid, scoring='f1_macro', cv=5, n_jobs=-1, verbose=1, n_iter=50)\n",
    "# rf_grid_search.fit(X_train, y_train)\n",
    "\n",
    "# print(rf_grid_search.best_estimator_)\n",
    "# print(rf_grid_search.best_params_)"
   ]
  },
  {
   "cell_type": "code",
   "execution_count": 62,
   "id": "0b2445cf",
   "metadata": {
    "execution": {
     "iopub.execute_input": "2024-12-09T16:07:49.680772Z",
     "iopub.status.busy": "2024-12-09T16:07:49.680379Z",
     "iopub.status.idle": "2024-12-09T16:07:49.684878Z",
     "shell.execute_reply": "2024-12-09T16:07:49.683829Z"
    },
    "papermill": {
     "duration": 0.047058,
     "end_time": "2024-12-09T16:07:49.686877",
     "exception": false,
     "start_time": "2024-12-09T16:07:49.639819",
     "status": "completed"
    },
    "tags": []
   },
   "outputs": [],
   "source": [
    "# commented out\n",
    "\n",
    "# randomcv_best_model = rf_random_search_pipe[-1].best_estimator_\n",
    "# randomcv_rf_model = randomcv_best_model.fit(X_train, y_train)\n",
    "# randomcv_rf_model"
   ]
  },
  {
   "cell_type": "code",
   "execution_count": 63,
   "id": "e828f34a",
   "metadata": {
    "execution": {
     "iopub.execute_input": "2024-12-09T16:07:49.763022Z",
     "iopub.status.busy": "2024-12-09T16:07:49.762627Z",
     "iopub.status.idle": "2024-12-09T16:08:36.770927Z",
     "shell.execute_reply": "2024-12-09T16:08:36.769886Z"
    },
    "papermill": {
     "duration": 47.087697,
     "end_time": "2024-12-09T16:08:36.811715",
     "exception": false,
     "start_time": "2024-12-09T16:07:49.724018",
     "status": "completed"
    },
    "tags": []
   },
   "outputs": [
    {
     "data": {
      "text/html": [
       "<style>#sk-container-id-2 {color: black;background-color: white;}#sk-container-id-2 pre{padding: 0;}#sk-container-id-2 div.sk-toggleable {background-color: white;}#sk-container-id-2 label.sk-toggleable__label {cursor: pointer;display: block;width: 100%;margin-bottom: 0;padding: 0.3em;box-sizing: border-box;text-align: center;}#sk-container-id-2 label.sk-toggleable__label-arrow:before {content: \"▸\";float: left;margin-right: 0.25em;color: #696969;}#sk-container-id-2 label.sk-toggleable__label-arrow:hover:before {color: black;}#sk-container-id-2 div.sk-estimator:hover label.sk-toggleable__label-arrow:before {color: black;}#sk-container-id-2 div.sk-toggleable__content {max-height: 0;max-width: 0;overflow: hidden;text-align: left;background-color: #f0f8ff;}#sk-container-id-2 div.sk-toggleable__content pre {margin: 0.2em;color: black;border-radius: 0.25em;background-color: #f0f8ff;}#sk-container-id-2 input.sk-toggleable__control:checked~div.sk-toggleable__content {max-height: 200px;max-width: 100%;overflow: auto;}#sk-container-id-2 input.sk-toggleable__control:checked~label.sk-toggleable__label-arrow:before {content: \"▾\";}#sk-container-id-2 div.sk-estimator input.sk-toggleable__control:checked~label.sk-toggleable__label {background-color: #d4ebff;}#sk-container-id-2 div.sk-label input.sk-toggleable__control:checked~label.sk-toggleable__label {background-color: #d4ebff;}#sk-container-id-2 input.sk-hidden--visually {border: 0;clip: rect(1px 1px 1px 1px);clip: rect(1px, 1px, 1px, 1px);height: 1px;margin: -1px;overflow: hidden;padding: 0;position: absolute;width: 1px;}#sk-container-id-2 div.sk-estimator {font-family: monospace;background-color: #f0f8ff;border: 1px dotted black;border-radius: 0.25em;box-sizing: border-box;margin-bottom: 0.5em;}#sk-container-id-2 div.sk-estimator:hover {background-color: #d4ebff;}#sk-container-id-2 div.sk-parallel-item::after {content: \"\";width: 100%;border-bottom: 1px solid gray;flex-grow: 1;}#sk-container-id-2 div.sk-label:hover label.sk-toggleable__label {background-color: #d4ebff;}#sk-container-id-2 div.sk-serial::before {content: \"\";position: absolute;border-left: 1px solid gray;box-sizing: border-box;top: 0;bottom: 0;left: 50%;z-index: 0;}#sk-container-id-2 div.sk-serial {display: flex;flex-direction: column;align-items: center;background-color: white;padding-right: 0.2em;padding-left: 0.2em;position: relative;}#sk-container-id-2 div.sk-item {position: relative;z-index: 1;}#sk-container-id-2 div.sk-parallel {display: flex;align-items: stretch;justify-content: center;background-color: white;position: relative;}#sk-container-id-2 div.sk-item::before, #sk-container-id-2 div.sk-parallel-item::before {content: \"\";position: absolute;border-left: 1px solid gray;box-sizing: border-box;top: 0;bottom: 0;left: 50%;z-index: -1;}#sk-container-id-2 div.sk-parallel-item {display: flex;flex-direction: column;z-index: 1;position: relative;background-color: white;}#sk-container-id-2 div.sk-parallel-item:first-child::after {align-self: flex-end;width: 50%;}#sk-container-id-2 div.sk-parallel-item:last-child::after {align-self: flex-start;width: 50%;}#sk-container-id-2 div.sk-parallel-item:only-child::after {width: 0;}#sk-container-id-2 div.sk-dashed-wrapped {border: 1px dashed gray;margin: 0 0.4em 0.5em 0.4em;box-sizing: border-box;padding-bottom: 0.4em;background-color: white;}#sk-container-id-2 div.sk-label label {font-family: monospace;font-weight: bold;display: inline-block;line-height: 1.2em;}#sk-container-id-2 div.sk-label-container {text-align: center;}#sk-container-id-2 div.sk-container {/* jupyter's `normalize.less` sets `[hidden] { display: none; }` but bootstrap.min.css set `[hidden] { display: none !important; }` so we also need the `!important` here to be able to override the default hidden behavior on the sphinx rendered scikit-learn.org. See: https://github.com/scikit-learn/scikit-learn/issues/21755 */display: inline-block !important;position: relative;}#sk-container-id-2 div.sk-text-repr-fallback {display: none;}</style><div id=\"sk-container-id-2\" class=\"sk-top-container\"><div class=\"sk-text-repr-fallback\"><pre>Pipeline(steps=[(&#x27;preprocess&#x27;,\n",
       "                 ColumnTransformer(transformers=[(&#x27;drop_column&#x27;, &#x27;drop&#x27;,\n",
       "                                                  [&#x27;poutcome&#x27;]),\n",
       "                                                 (&#x27;job_pipeline&#x27;,\n",
       "                                                  Pipeline(steps=[(&#x27;impute_unknown&#x27;,\n",
       "                                                                   SimpleImputer(fill_value=&#x27;unknown&#x27;,\n",
       "                                                                                 strategy=&#x27;constant&#x27;)),\n",
       "                                                                  (&#x27;onehot&#x27;,\n",
       "                                                                   OneHotEncoder(sparse_output=False))]),\n",
       "                                                  [&#x27;job&#x27;]),\n",
       "                                                 (&#x27;education_pipeline&#x27;,\n",
       "                                                  Pipeline(steps=[(&#x27;impute_most_frequent&#x27;,\n",
       "                                                                   SimpleImputer(strategy=&#x27;mo...\n",
       "                                                  StandardScaler(), [&#x27;age&#x27;]),\n",
       "                                                 (&#x27;balance_scaler&#x27;,\n",
       "                                                  RobustScaler(),\n",
       "                                                  [&#x27;balance&#x27;, &#x27;pdays&#x27;]),\n",
       "                                                 (&#x27;duration_scaler&#x27;,\n",
       "                                                  MinMaxScaler(),\n",
       "                                                  [&#x27;duration&#x27;, &#x27;campaign&#x27;,\n",
       "                                                   &#x27;previous&#x27;]),\n",
       "                                                 (&#x27;date_transformer&#x27;,\n",
       "                                                  Date_Transformer(),\n",
       "                                                  [&#x27;last contact date&#x27;])])),\n",
       "                (&#x27;rf_model_randomcv&#x27;,\n",
       "                 RandomForestClassifier(class_weight=&#x27;balanced&#x27;, max_depth=20,\n",
       "                                        max_features=None, min_samples_leaf=2,\n",
       "                                        n_estimators=300))])</pre><b>In a Jupyter environment, please rerun this cell to show the HTML representation or trust the notebook. <br />On GitHub, the HTML representation is unable to render, please try loading this page with nbviewer.org.</b></div><div class=\"sk-container\" hidden><div class=\"sk-item sk-dashed-wrapped\"><div class=\"sk-label-container\"><div class=\"sk-label sk-toggleable\"><input class=\"sk-toggleable__control sk-hidden--visually\" id=\"sk-estimator-id-25\" type=\"checkbox\" ><label for=\"sk-estimator-id-25\" class=\"sk-toggleable__label sk-toggleable__label-arrow\">Pipeline</label><div class=\"sk-toggleable__content\"><pre>Pipeline(steps=[(&#x27;preprocess&#x27;,\n",
       "                 ColumnTransformer(transformers=[(&#x27;drop_column&#x27;, &#x27;drop&#x27;,\n",
       "                                                  [&#x27;poutcome&#x27;]),\n",
       "                                                 (&#x27;job_pipeline&#x27;,\n",
       "                                                  Pipeline(steps=[(&#x27;impute_unknown&#x27;,\n",
       "                                                                   SimpleImputer(fill_value=&#x27;unknown&#x27;,\n",
       "                                                                                 strategy=&#x27;constant&#x27;)),\n",
       "                                                                  (&#x27;onehot&#x27;,\n",
       "                                                                   OneHotEncoder(sparse_output=False))]),\n",
       "                                                  [&#x27;job&#x27;]),\n",
       "                                                 (&#x27;education_pipeline&#x27;,\n",
       "                                                  Pipeline(steps=[(&#x27;impute_most_frequent&#x27;,\n",
       "                                                                   SimpleImputer(strategy=&#x27;mo...\n",
       "                                                  StandardScaler(), [&#x27;age&#x27;]),\n",
       "                                                 (&#x27;balance_scaler&#x27;,\n",
       "                                                  RobustScaler(),\n",
       "                                                  [&#x27;balance&#x27;, &#x27;pdays&#x27;]),\n",
       "                                                 (&#x27;duration_scaler&#x27;,\n",
       "                                                  MinMaxScaler(),\n",
       "                                                  [&#x27;duration&#x27;, &#x27;campaign&#x27;,\n",
       "                                                   &#x27;previous&#x27;]),\n",
       "                                                 (&#x27;date_transformer&#x27;,\n",
       "                                                  Date_Transformer(),\n",
       "                                                  [&#x27;last contact date&#x27;])])),\n",
       "                (&#x27;rf_model_randomcv&#x27;,\n",
       "                 RandomForestClassifier(class_weight=&#x27;balanced&#x27;, max_depth=20,\n",
       "                                        max_features=None, min_samples_leaf=2,\n",
       "                                        n_estimators=300))])</pre></div></div></div><div class=\"sk-serial\"><div class=\"sk-item sk-dashed-wrapped\"><div class=\"sk-label-container\"><div class=\"sk-label sk-toggleable\"><input class=\"sk-toggleable__control sk-hidden--visually\" id=\"sk-estimator-id-26\" type=\"checkbox\" ><label for=\"sk-estimator-id-26\" class=\"sk-toggleable__label sk-toggleable__label-arrow\">preprocess: ColumnTransformer</label><div class=\"sk-toggleable__content\"><pre>ColumnTransformer(transformers=[(&#x27;drop_column&#x27;, &#x27;drop&#x27;, [&#x27;poutcome&#x27;]),\n",
       "                                (&#x27;job_pipeline&#x27;,\n",
       "                                 Pipeline(steps=[(&#x27;impute_unknown&#x27;,\n",
       "                                                  SimpleImputer(fill_value=&#x27;unknown&#x27;,\n",
       "                                                                strategy=&#x27;constant&#x27;)),\n",
       "                                                 (&#x27;onehot&#x27;,\n",
       "                                                  OneHotEncoder(sparse_output=False))]),\n",
       "                                 [&#x27;job&#x27;]),\n",
       "                                (&#x27;education_pipeline&#x27;,\n",
       "                                 Pipeline(steps=[(&#x27;impute_most_frequent&#x27;,\n",
       "                                                  SimpleImputer(strategy=&#x27;most_frequent&#x27;)),\n",
       "                                                 (&#x27;ordinal&#x27;,\n",
       "                                                  Ordi...\n",
       "                                 OneHotEncoder(drop=&#x27;if_binary&#x27;),\n",
       "                                 [&#x27;default&#x27;, &#x27;housing&#x27;, &#x27;loan&#x27;]),\n",
       "                                (&#x27;marital_pipeline&#x27;,\n",
       "                                 OneHotEncoder(sparse_output=False),\n",
       "                                 [&#x27;marital&#x27;]),\n",
       "                                (&#x27;age_scaler&#x27;, StandardScaler(), [&#x27;age&#x27;]),\n",
       "                                (&#x27;balance_scaler&#x27;, RobustScaler(),\n",
       "                                 [&#x27;balance&#x27;, &#x27;pdays&#x27;]),\n",
       "                                (&#x27;duration_scaler&#x27;, MinMaxScaler(),\n",
       "                                 [&#x27;duration&#x27;, &#x27;campaign&#x27;, &#x27;previous&#x27;]),\n",
       "                                (&#x27;date_transformer&#x27;, Date_Transformer(),\n",
       "                                 [&#x27;last contact date&#x27;])])</pre></div></div></div><div class=\"sk-parallel\"><div class=\"sk-parallel-item\"><div class=\"sk-item\"><div class=\"sk-label-container\"><div class=\"sk-label sk-toggleable\"><input class=\"sk-toggleable__control sk-hidden--visually\" id=\"sk-estimator-id-27\" type=\"checkbox\" ><label for=\"sk-estimator-id-27\" class=\"sk-toggleable__label sk-toggleable__label-arrow\">drop_column</label><div class=\"sk-toggleable__content\"><pre>[&#x27;poutcome&#x27;]</pre></div></div></div><div class=\"sk-serial\"><div class=\"sk-item\"><div class=\"sk-estimator sk-toggleable\"><input class=\"sk-toggleable__control sk-hidden--visually\" id=\"sk-estimator-id-28\" type=\"checkbox\" ><label for=\"sk-estimator-id-28\" class=\"sk-toggleable__label sk-toggleable__label-arrow\">drop</label><div class=\"sk-toggleable__content\"><pre>drop</pre></div></div></div></div></div></div><div class=\"sk-parallel-item\"><div class=\"sk-item\"><div class=\"sk-label-container\"><div class=\"sk-label sk-toggleable\"><input class=\"sk-toggleable__control sk-hidden--visually\" id=\"sk-estimator-id-29\" type=\"checkbox\" ><label for=\"sk-estimator-id-29\" class=\"sk-toggleable__label sk-toggleable__label-arrow\">job_pipeline</label><div class=\"sk-toggleable__content\"><pre>[&#x27;job&#x27;]</pre></div></div></div><div class=\"sk-serial\"><div class=\"sk-item\"><div class=\"sk-serial\"><div class=\"sk-item\"><div class=\"sk-estimator sk-toggleable\"><input class=\"sk-toggleable__control sk-hidden--visually\" id=\"sk-estimator-id-30\" type=\"checkbox\" ><label for=\"sk-estimator-id-30\" class=\"sk-toggleable__label sk-toggleable__label-arrow\">SimpleImputer</label><div class=\"sk-toggleable__content\"><pre>SimpleImputer(fill_value=&#x27;unknown&#x27;, strategy=&#x27;constant&#x27;)</pre></div></div></div><div class=\"sk-item\"><div class=\"sk-estimator sk-toggleable\"><input class=\"sk-toggleable__control sk-hidden--visually\" id=\"sk-estimator-id-31\" type=\"checkbox\" ><label for=\"sk-estimator-id-31\" class=\"sk-toggleable__label sk-toggleable__label-arrow\">OneHotEncoder</label><div class=\"sk-toggleable__content\"><pre>OneHotEncoder(sparse_output=False)</pre></div></div></div></div></div></div></div></div><div class=\"sk-parallel-item\"><div class=\"sk-item\"><div class=\"sk-label-container\"><div class=\"sk-label sk-toggleable\"><input class=\"sk-toggleable__control sk-hidden--visually\" id=\"sk-estimator-id-32\" type=\"checkbox\" ><label for=\"sk-estimator-id-32\" class=\"sk-toggleable__label sk-toggleable__label-arrow\">education_pipeline</label><div class=\"sk-toggleable__content\"><pre>[&#x27;education&#x27;]</pre></div></div></div><div class=\"sk-serial\"><div class=\"sk-item\"><div class=\"sk-serial\"><div class=\"sk-item\"><div class=\"sk-estimator sk-toggleable\"><input class=\"sk-toggleable__control sk-hidden--visually\" id=\"sk-estimator-id-33\" type=\"checkbox\" ><label for=\"sk-estimator-id-33\" class=\"sk-toggleable__label sk-toggleable__label-arrow\">SimpleImputer</label><div class=\"sk-toggleable__content\"><pre>SimpleImputer(strategy=&#x27;most_frequent&#x27;)</pre></div></div></div><div class=\"sk-item\"><div class=\"sk-estimator sk-toggleable\"><input class=\"sk-toggleable__control sk-hidden--visually\" id=\"sk-estimator-id-34\" type=\"checkbox\" ><label for=\"sk-estimator-id-34\" class=\"sk-toggleable__label sk-toggleable__label-arrow\">OrdinalEncoder</label><div class=\"sk-toggleable__content\"><pre>OrdinalEncoder()</pre></div></div></div></div></div></div></div></div><div class=\"sk-parallel-item\"><div class=\"sk-item\"><div class=\"sk-label-container\"><div class=\"sk-label sk-toggleable\"><input class=\"sk-toggleable__control sk-hidden--visually\" id=\"sk-estimator-id-35\" type=\"checkbox\" ><label for=\"sk-estimator-id-35\" class=\"sk-toggleable__label sk-toggleable__label-arrow\">contact_pipeline</label><div class=\"sk-toggleable__content\"><pre>[&#x27;contact&#x27;]</pre></div></div></div><div class=\"sk-serial\"><div class=\"sk-item\"><div class=\"sk-serial\"><div class=\"sk-item\"><div class=\"sk-estimator sk-toggleable\"><input class=\"sk-toggleable__control sk-hidden--visually\" id=\"sk-estimator-id-36\" type=\"checkbox\" ><label for=\"sk-estimator-id-36\" class=\"sk-toggleable__label sk-toggleable__label-arrow\">SimpleImputer</label><div class=\"sk-toggleable__content\"><pre>SimpleImputer(strategy=&#x27;most_frequent&#x27;)</pre></div></div></div><div class=\"sk-item\"><div class=\"sk-estimator sk-toggleable\"><input class=\"sk-toggleable__control sk-hidden--visually\" id=\"sk-estimator-id-37\" type=\"checkbox\" ><label for=\"sk-estimator-id-37\" class=\"sk-toggleable__label sk-toggleable__label-arrow\">OneHotEncoder</label><div class=\"sk-toggleable__content\"><pre>OneHotEncoder(sparse_output=False)</pre></div></div></div></div></div></div></div></div><div class=\"sk-parallel-item\"><div class=\"sk-item\"><div class=\"sk-label-container\"><div class=\"sk-label sk-toggleable\"><input class=\"sk-toggleable__control sk-hidden--visually\" id=\"sk-estimator-id-38\" type=\"checkbox\" ><label for=\"sk-estimator-id-38\" class=\"sk-toggleable__label sk-toggleable__label-arrow\">binary_pipeline</label><div class=\"sk-toggleable__content\"><pre>[&#x27;default&#x27;, &#x27;housing&#x27;, &#x27;loan&#x27;]</pre></div></div></div><div class=\"sk-serial\"><div class=\"sk-item\"><div class=\"sk-estimator sk-toggleable\"><input class=\"sk-toggleable__control sk-hidden--visually\" id=\"sk-estimator-id-39\" type=\"checkbox\" ><label for=\"sk-estimator-id-39\" class=\"sk-toggleable__label sk-toggleable__label-arrow\">OneHotEncoder</label><div class=\"sk-toggleable__content\"><pre>OneHotEncoder(drop=&#x27;if_binary&#x27;)</pre></div></div></div></div></div></div><div class=\"sk-parallel-item\"><div class=\"sk-item\"><div class=\"sk-label-container\"><div class=\"sk-label sk-toggleable\"><input class=\"sk-toggleable__control sk-hidden--visually\" id=\"sk-estimator-id-40\" type=\"checkbox\" ><label for=\"sk-estimator-id-40\" class=\"sk-toggleable__label sk-toggleable__label-arrow\">marital_pipeline</label><div class=\"sk-toggleable__content\"><pre>[&#x27;marital&#x27;]</pre></div></div></div><div class=\"sk-serial\"><div class=\"sk-item\"><div class=\"sk-estimator sk-toggleable\"><input class=\"sk-toggleable__control sk-hidden--visually\" id=\"sk-estimator-id-41\" type=\"checkbox\" ><label for=\"sk-estimator-id-41\" class=\"sk-toggleable__label sk-toggleable__label-arrow\">OneHotEncoder</label><div class=\"sk-toggleable__content\"><pre>OneHotEncoder(sparse_output=False)</pre></div></div></div></div></div></div><div class=\"sk-parallel-item\"><div class=\"sk-item\"><div class=\"sk-label-container\"><div class=\"sk-label sk-toggleable\"><input class=\"sk-toggleable__control sk-hidden--visually\" id=\"sk-estimator-id-42\" type=\"checkbox\" ><label for=\"sk-estimator-id-42\" class=\"sk-toggleable__label sk-toggleable__label-arrow\">age_scaler</label><div class=\"sk-toggleable__content\"><pre>[&#x27;age&#x27;]</pre></div></div></div><div class=\"sk-serial\"><div class=\"sk-item\"><div class=\"sk-estimator sk-toggleable\"><input class=\"sk-toggleable__control sk-hidden--visually\" id=\"sk-estimator-id-43\" type=\"checkbox\" ><label for=\"sk-estimator-id-43\" class=\"sk-toggleable__label sk-toggleable__label-arrow\">StandardScaler</label><div class=\"sk-toggleable__content\"><pre>StandardScaler()</pre></div></div></div></div></div></div><div class=\"sk-parallel-item\"><div class=\"sk-item\"><div class=\"sk-label-container\"><div class=\"sk-label sk-toggleable\"><input class=\"sk-toggleable__control sk-hidden--visually\" id=\"sk-estimator-id-44\" type=\"checkbox\" ><label for=\"sk-estimator-id-44\" class=\"sk-toggleable__label sk-toggleable__label-arrow\">balance_scaler</label><div class=\"sk-toggleable__content\"><pre>[&#x27;balance&#x27;, &#x27;pdays&#x27;]</pre></div></div></div><div class=\"sk-serial\"><div class=\"sk-item\"><div class=\"sk-estimator sk-toggleable\"><input class=\"sk-toggleable__control sk-hidden--visually\" id=\"sk-estimator-id-45\" type=\"checkbox\" ><label for=\"sk-estimator-id-45\" class=\"sk-toggleable__label sk-toggleable__label-arrow\">RobustScaler</label><div class=\"sk-toggleable__content\"><pre>RobustScaler()</pre></div></div></div></div></div></div><div class=\"sk-parallel-item\"><div class=\"sk-item\"><div class=\"sk-label-container\"><div class=\"sk-label sk-toggleable\"><input class=\"sk-toggleable__control sk-hidden--visually\" id=\"sk-estimator-id-46\" type=\"checkbox\" ><label for=\"sk-estimator-id-46\" class=\"sk-toggleable__label sk-toggleable__label-arrow\">duration_scaler</label><div class=\"sk-toggleable__content\"><pre>[&#x27;duration&#x27;, &#x27;campaign&#x27;, &#x27;previous&#x27;]</pre></div></div></div><div class=\"sk-serial\"><div class=\"sk-item\"><div class=\"sk-estimator sk-toggleable\"><input class=\"sk-toggleable__control sk-hidden--visually\" id=\"sk-estimator-id-47\" type=\"checkbox\" ><label for=\"sk-estimator-id-47\" class=\"sk-toggleable__label sk-toggleable__label-arrow\">MinMaxScaler</label><div class=\"sk-toggleable__content\"><pre>MinMaxScaler()</pre></div></div></div></div></div></div><div class=\"sk-parallel-item\"><div class=\"sk-item\"><div class=\"sk-label-container\"><div class=\"sk-label sk-toggleable\"><input class=\"sk-toggleable__control sk-hidden--visually\" id=\"sk-estimator-id-48\" type=\"checkbox\" ><label for=\"sk-estimator-id-48\" class=\"sk-toggleable__label sk-toggleable__label-arrow\">date_transformer</label><div class=\"sk-toggleable__content\"><pre>[&#x27;last contact date&#x27;]</pre></div></div></div><div class=\"sk-serial\"><div class=\"sk-item\"><div class=\"sk-estimator sk-toggleable\"><input class=\"sk-toggleable__control sk-hidden--visually\" id=\"sk-estimator-id-49\" type=\"checkbox\" ><label for=\"sk-estimator-id-49\" class=\"sk-toggleable__label sk-toggleable__label-arrow\">Date_Transformer</label><div class=\"sk-toggleable__content\"><pre>Date_Transformer()</pre></div></div></div></div></div></div></div></div><div class=\"sk-item\"><div class=\"sk-estimator sk-toggleable\"><input class=\"sk-toggleable__control sk-hidden--visually\" id=\"sk-estimator-id-50\" type=\"checkbox\" ><label for=\"sk-estimator-id-50\" class=\"sk-toggleable__label sk-toggleable__label-arrow\">RandomForestClassifier</label><div class=\"sk-toggleable__content\"><pre>RandomForestClassifier(class_weight=&#x27;balanced&#x27;, max_depth=20, max_features=None,\n",
       "                       min_samples_leaf=2, n_estimators=300)</pre></div></div></div></div></div></div></div>"
      ],
      "text/plain": [
       "Pipeline(steps=[('preprocess',\n",
       "                 ColumnTransformer(transformers=[('drop_column', 'drop',\n",
       "                                                  ['poutcome']),\n",
       "                                                 ('job_pipeline',\n",
       "                                                  Pipeline(steps=[('impute_unknown',\n",
       "                                                                   SimpleImputer(fill_value='unknown',\n",
       "                                                                                 strategy='constant')),\n",
       "                                                                  ('onehot',\n",
       "                                                                   OneHotEncoder(sparse_output=False))]),\n",
       "                                                  ['job']),\n",
       "                                                 ('education_pipeline',\n",
       "                                                  Pipeline(steps=[('impute_most_frequent',\n",
       "                                                                   SimpleImputer(strategy='mo...\n",
       "                                                  StandardScaler(), ['age']),\n",
       "                                                 ('balance_scaler',\n",
       "                                                  RobustScaler(),\n",
       "                                                  ['balance', 'pdays']),\n",
       "                                                 ('duration_scaler',\n",
       "                                                  MinMaxScaler(),\n",
       "                                                  ['duration', 'campaign',\n",
       "                                                   'previous']),\n",
       "                                                 ('date_transformer',\n",
       "                                                  Date_Transformer(),\n",
       "                                                  ['last contact date'])])),\n",
       "                ('rf_model_randomcv',\n",
       "                 RandomForestClassifier(class_weight='balanced', max_depth=20,\n",
       "                                        max_features=None, min_samples_leaf=2,\n",
       "                                        n_estimators=300))])"
      ]
     },
     "execution_count": 63,
     "metadata": {},
     "output_type": "execute_result"
    }
   ],
   "source": [
    "# used randomcv to get best hyperparameters using it directly\n",
    "randomcv_model_pipe = Pipeline([\n",
    "    ('preprocess', preprocessing_pipe),\n",
    "    ('rf_model_randomcv', RandomForestClassifier(\n",
    "                                        max_depth=20, \n",
    "                                        max_features=None,\n",
    "                                        min_samples_leaf=2,\n",
    "                                        n_estimators=300,\n",
    "                                        class_weight='balanced')\n",
    "    )\n",
    "])\n",
    "randomcv_rf_model = randomcv_model_pipe.fit(X_train, y_train)\n",
    "randomcv_rf_model"
   ]
  },
  {
   "cell_type": "code",
   "execution_count": 64,
   "id": "6df3b08b",
   "metadata": {
    "execution": {
     "iopub.execute_input": "2024-12-09T16:08:36.888522Z",
     "iopub.status.busy": "2024-12-09T16:08:36.888022Z",
     "iopub.status.idle": "2024-12-09T16:08:37.368956Z",
     "shell.execute_reply": "2024-12-09T16:08:37.367889Z"
    },
    "papermill": {
     "duration": 0.52204,
     "end_time": "2024-12-09T16:08:37.371203",
     "exception": false,
     "start_time": "2024-12-09T16:08:36.849163",
     "status": "completed"
    },
    "tags": []
   },
   "outputs": [
    {
     "data": {
      "text/plain": [
       "0.7530479476560181"
      ]
     },
     "execution_count": 64,
     "metadata": {},
     "output_type": "execute_result"
    }
   ],
   "source": [
    "randomcv_rf_y_pred = randomcv_rf_model.predict(X_test)\n",
    "f1_score(y_test, randomcv_rf_y_pred, average='macro')"
   ]
  },
  {
   "cell_type": "markdown",
   "id": "98c1c1dc",
   "metadata": {
    "papermill": {
     "duration": 0.037403,
     "end_time": "2024-12-09T16:08:37.446706",
     "exception": false,
     "start_time": "2024-12-09T16:08:37.409303",
     "status": "completed"
    },
    "tags": []
   },
   "source": [
    "F1 Score = `0.7522489896432369`"
   ]
  },
  {
   "cell_type": "markdown",
   "id": "f596f6dc",
   "metadata": {
    "papermill": {
     "duration": 0.037474,
     "end_time": "2024-12-09T16:08:37.523505",
     "exception": false,
     "start_time": "2024-12-09T16:08:37.486031",
     "status": "completed"
    },
    "tags": []
   },
   "source": [
    "#### Observations\n",
    "\n",
    "- **Baseline F1-Score:** `0.6941` (RandomForestClassifier with default parameters).\n",
    "\n",
    "- **Hyperparameter-Tuned F1-Score:** `0.7532` (RandomForestClassifier with `n_estimators=300`, `max_depth=20`, `max_features=None`, `min_samples_leaf=2` and `class_weight='balanced'`).\n",
    "\n",
    "- **Improvement:** Significant increase of `+0.0591` in F1-Score after hyperparameter tuning.\n",
    "\n",
    "- **Key Hyperparameters Tuned:** Increased `n_estimators` to 300 for better averaging and stability, restricted `max_depth` to 20 to prevent overfitting, used `min_samples_leaf=2` to ensure splits result in meaningful subsets, set `class_weight='balanced'` to handle class imbalance effectively,\n",
    "\n",
    "- **Impact of Class Weighting:** Balancing the classes improved predictions for minority classes, contributing to higher F1-Score.\n",
    "\n",
    "- **Bias-Variance Tradeoff:** Baseline model had lower bias but higher variance. Tuning parameters reduced variance while maintaining good bias control.\n",
    "\n",
    "- **Model Stability:** Increasing the number of trees (`n_estimators`) made predictions more robust across folds and datasets."
   ]
  },
  {
   "cell_type": "markdown",
   "id": "cc9f1f81",
   "metadata": {
    "papermill": {
     "duration": 0.037325,
     "end_time": "2024-12-09T16:08:37.598348",
     "exception": false,
     "start_time": "2024-12-09T16:08:37.561023",
     "status": "completed"
    },
    "tags": []
   },
   "source": [
    "### Dimensionality Reduction"
   ]
  },
  {
   "cell_type": "markdown",
   "id": "7324298c",
   "metadata": {
    "papermill": {
     "duration": 0.037796,
     "end_time": "2024-12-09T16:08:37.673907",
     "exception": false,
     "start_time": "2024-12-09T16:08:37.636111",
     "status": "completed"
    },
    "tags": []
   },
   "source": [
    "**PCA** (Principal Component Analysis) is used for dimensionality reduction to simplify data while retaining significant variance."
   ]
  },
  {
   "cell_type": "code",
   "execution_count": 65,
   "id": "4e62d336",
   "metadata": {
    "execution": {
     "iopub.execute_input": "2024-12-09T16:08:37.752417Z",
     "iopub.status.busy": "2024-12-09T16:08:37.751477Z",
     "iopub.status.idle": "2024-12-09T16:08:54.481061Z",
     "shell.execute_reply": "2024-12-09T16:08:54.479830Z"
    },
    "papermill": {
     "duration": 16.772116,
     "end_time": "2024-12-09T16:08:54.483650",
     "exception": false,
     "start_time": "2024-12-09T16:08:37.711534",
     "status": "completed"
    },
    "tags": []
   },
   "outputs": [
    {
     "data": {
      "text/html": [
       "<style>#sk-container-id-3 {color: black;background-color: white;}#sk-container-id-3 pre{padding: 0;}#sk-container-id-3 div.sk-toggleable {background-color: white;}#sk-container-id-3 label.sk-toggleable__label {cursor: pointer;display: block;width: 100%;margin-bottom: 0;padding: 0.3em;box-sizing: border-box;text-align: center;}#sk-container-id-3 label.sk-toggleable__label-arrow:before {content: \"▸\";float: left;margin-right: 0.25em;color: #696969;}#sk-container-id-3 label.sk-toggleable__label-arrow:hover:before {color: black;}#sk-container-id-3 div.sk-estimator:hover label.sk-toggleable__label-arrow:before {color: black;}#sk-container-id-3 div.sk-toggleable__content {max-height: 0;max-width: 0;overflow: hidden;text-align: left;background-color: #f0f8ff;}#sk-container-id-3 div.sk-toggleable__content pre {margin: 0.2em;color: black;border-radius: 0.25em;background-color: #f0f8ff;}#sk-container-id-3 input.sk-toggleable__control:checked~div.sk-toggleable__content {max-height: 200px;max-width: 100%;overflow: auto;}#sk-container-id-3 input.sk-toggleable__control:checked~label.sk-toggleable__label-arrow:before {content: \"▾\";}#sk-container-id-3 div.sk-estimator input.sk-toggleable__control:checked~label.sk-toggleable__label {background-color: #d4ebff;}#sk-container-id-3 div.sk-label input.sk-toggleable__control:checked~label.sk-toggleable__label {background-color: #d4ebff;}#sk-container-id-3 input.sk-hidden--visually {border: 0;clip: rect(1px 1px 1px 1px);clip: rect(1px, 1px, 1px, 1px);height: 1px;margin: -1px;overflow: hidden;padding: 0;position: absolute;width: 1px;}#sk-container-id-3 div.sk-estimator {font-family: monospace;background-color: #f0f8ff;border: 1px dotted black;border-radius: 0.25em;box-sizing: border-box;margin-bottom: 0.5em;}#sk-container-id-3 div.sk-estimator:hover {background-color: #d4ebff;}#sk-container-id-3 div.sk-parallel-item::after {content: \"\";width: 100%;border-bottom: 1px solid gray;flex-grow: 1;}#sk-container-id-3 div.sk-label:hover label.sk-toggleable__label {background-color: #d4ebff;}#sk-container-id-3 div.sk-serial::before {content: \"\";position: absolute;border-left: 1px solid gray;box-sizing: border-box;top: 0;bottom: 0;left: 50%;z-index: 0;}#sk-container-id-3 div.sk-serial {display: flex;flex-direction: column;align-items: center;background-color: white;padding-right: 0.2em;padding-left: 0.2em;position: relative;}#sk-container-id-3 div.sk-item {position: relative;z-index: 1;}#sk-container-id-3 div.sk-parallel {display: flex;align-items: stretch;justify-content: center;background-color: white;position: relative;}#sk-container-id-3 div.sk-item::before, #sk-container-id-3 div.sk-parallel-item::before {content: \"\";position: absolute;border-left: 1px solid gray;box-sizing: border-box;top: 0;bottom: 0;left: 50%;z-index: -1;}#sk-container-id-3 div.sk-parallel-item {display: flex;flex-direction: column;z-index: 1;position: relative;background-color: white;}#sk-container-id-3 div.sk-parallel-item:first-child::after {align-self: flex-end;width: 50%;}#sk-container-id-3 div.sk-parallel-item:last-child::after {align-self: flex-start;width: 50%;}#sk-container-id-3 div.sk-parallel-item:only-child::after {width: 0;}#sk-container-id-3 div.sk-dashed-wrapped {border: 1px dashed gray;margin: 0 0.4em 0.5em 0.4em;box-sizing: border-box;padding-bottom: 0.4em;background-color: white;}#sk-container-id-3 div.sk-label label {font-family: monospace;font-weight: bold;display: inline-block;line-height: 1.2em;}#sk-container-id-3 div.sk-label-container {text-align: center;}#sk-container-id-3 div.sk-container {/* jupyter's `normalize.less` sets `[hidden] { display: none; }` but bootstrap.min.css set `[hidden] { display: none !important; }` so we also need the `!important` here to be able to override the default hidden behavior on the sphinx rendered scikit-learn.org. See: https://github.com/scikit-learn/scikit-learn/issues/21755 */display: inline-block !important;position: relative;}#sk-container-id-3 div.sk-text-repr-fallback {display: none;}</style><div id=\"sk-container-id-3\" class=\"sk-top-container\"><div class=\"sk-text-repr-fallback\"><pre>Pipeline(steps=[(&#x27;preprocess&#x27;,\n",
       "                 ColumnTransformer(transformers=[(&#x27;drop_column&#x27;, &#x27;drop&#x27;,\n",
       "                                                  [&#x27;poutcome&#x27;]),\n",
       "                                                 (&#x27;job_pipeline&#x27;,\n",
       "                                                  Pipeline(steps=[(&#x27;impute_unknown&#x27;,\n",
       "                                                                   SimpleImputer(fill_value=&#x27;unknown&#x27;,\n",
       "                                                                                 strategy=&#x27;constant&#x27;)),\n",
       "                                                                  (&#x27;onehot&#x27;,\n",
       "                                                                   OneHotEncoder(sparse_output=False))]),\n",
       "                                                  [&#x27;job&#x27;]),\n",
       "                                                 (&#x27;education_pipeline&#x27;,\n",
       "                                                  Pipeline(steps=[(&#x27;impute_most_frequent&#x27;,\n",
       "                                                                   SimpleImputer(strategy=&#x27;mo...\n",
       "                                                  StandardScaler(), [&#x27;age&#x27;]),\n",
       "                                                 (&#x27;balance_scaler&#x27;,\n",
       "                                                  RobustScaler(),\n",
       "                                                  [&#x27;balance&#x27;, &#x27;pdays&#x27;]),\n",
       "                                                 (&#x27;duration_scaler&#x27;,\n",
       "                                                  MinMaxScaler(),\n",
       "                                                  [&#x27;duration&#x27;, &#x27;campaign&#x27;,\n",
       "                                                   &#x27;previous&#x27;]),\n",
       "                                                 (&#x27;date_transformer&#x27;,\n",
       "                                                  Date_Transformer(),\n",
       "                                                  [&#x27;last contact date&#x27;])])),\n",
       "                (&#x27;pca&#x27;, PCA(n_components=0.95)),\n",
       "                (&#x27;rf_model&#x27;,\n",
       "                 RandomForestClassifier(class_weight=&#x27;balanced&#x27;, max_depth=20,\n",
       "                                        max_features=None, min_samples_leaf=2,\n",
       "                                        n_estimators=300))])</pre><b>In a Jupyter environment, please rerun this cell to show the HTML representation or trust the notebook. <br />On GitHub, the HTML representation is unable to render, please try loading this page with nbviewer.org.</b></div><div class=\"sk-container\" hidden><div class=\"sk-item sk-dashed-wrapped\"><div class=\"sk-label-container\"><div class=\"sk-label sk-toggleable\"><input class=\"sk-toggleable__control sk-hidden--visually\" id=\"sk-estimator-id-51\" type=\"checkbox\" ><label for=\"sk-estimator-id-51\" class=\"sk-toggleable__label sk-toggleable__label-arrow\">Pipeline</label><div class=\"sk-toggleable__content\"><pre>Pipeline(steps=[(&#x27;preprocess&#x27;,\n",
       "                 ColumnTransformer(transformers=[(&#x27;drop_column&#x27;, &#x27;drop&#x27;,\n",
       "                                                  [&#x27;poutcome&#x27;]),\n",
       "                                                 (&#x27;job_pipeline&#x27;,\n",
       "                                                  Pipeline(steps=[(&#x27;impute_unknown&#x27;,\n",
       "                                                                   SimpleImputer(fill_value=&#x27;unknown&#x27;,\n",
       "                                                                                 strategy=&#x27;constant&#x27;)),\n",
       "                                                                  (&#x27;onehot&#x27;,\n",
       "                                                                   OneHotEncoder(sparse_output=False))]),\n",
       "                                                  [&#x27;job&#x27;]),\n",
       "                                                 (&#x27;education_pipeline&#x27;,\n",
       "                                                  Pipeline(steps=[(&#x27;impute_most_frequent&#x27;,\n",
       "                                                                   SimpleImputer(strategy=&#x27;mo...\n",
       "                                                  StandardScaler(), [&#x27;age&#x27;]),\n",
       "                                                 (&#x27;balance_scaler&#x27;,\n",
       "                                                  RobustScaler(),\n",
       "                                                  [&#x27;balance&#x27;, &#x27;pdays&#x27;]),\n",
       "                                                 (&#x27;duration_scaler&#x27;,\n",
       "                                                  MinMaxScaler(),\n",
       "                                                  [&#x27;duration&#x27;, &#x27;campaign&#x27;,\n",
       "                                                   &#x27;previous&#x27;]),\n",
       "                                                 (&#x27;date_transformer&#x27;,\n",
       "                                                  Date_Transformer(),\n",
       "                                                  [&#x27;last contact date&#x27;])])),\n",
       "                (&#x27;pca&#x27;, PCA(n_components=0.95)),\n",
       "                (&#x27;rf_model&#x27;,\n",
       "                 RandomForestClassifier(class_weight=&#x27;balanced&#x27;, max_depth=20,\n",
       "                                        max_features=None, min_samples_leaf=2,\n",
       "                                        n_estimators=300))])</pre></div></div></div><div class=\"sk-serial\"><div class=\"sk-item sk-dashed-wrapped\"><div class=\"sk-label-container\"><div class=\"sk-label sk-toggleable\"><input class=\"sk-toggleable__control sk-hidden--visually\" id=\"sk-estimator-id-52\" type=\"checkbox\" ><label for=\"sk-estimator-id-52\" class=\"sk-toggleable__label sk-toggleable__label-arrow\">preprocess: ColumnTransformer</label><div class=\"sk-toggleable__content\"><pre>ColumnTransformer(transformers=[(&#x27;drop_column&#x27;, &#x27;drop&#x27;, [&#x27;poutcome&#x27;]),\n",
       "                                (&#x27;job_pipeline&#x27;,\n",
       "                                 Pipeline(steps=[(&#x27;impute_unknown&#x27;,\n",
       "                                                  SimpleImputer(fill_value=&#x27;unknown&#x27;,\n",
       "                                                                strategy=&#x27;constant&#x27;)),\n",
       "                                                 (&#x27;onehot&#x27;,\n",
       "                                                  OneHotEncoder(sparse_output=False))]),\n",
       "                                 [&#x27;job&#x27;]),\n",
       "                                (&#x27;education_pipeline&#x27;,\n",
       "                                 Pipeline(steps=[(&#x27;impute_most_frequent&#x27;,\n",
       "                                                  SimpleImputer(strategy=&#x27;most_frequent&#x27;)),\n",
       "                                                 (&#x27;ordinal&#x27;,\n",
       "                                                  Ordi...\n",
       "                                 OneHotEncoder(drop=&#x27;if_binary&#x27;),\n",
       "                                 [&#x27;default&#x27;, &#x27;housing&#x27;, &#x27;loan&#x27;]),\n",
       "                                (&#x27;marital_pipeline&#x27;,\n",
       "                                 OneHotEncoder(sparse_output=False),\n",
       "                                 [&#x27;marital&#x27;]),\n",
       "                                (&#x27;age_scaler&#x27;, StandardScaler(), [&#x27;age&#x27;]),\n",
       "                                (&#x27;balance_scaler&#x27;, RobustScaler(),\n",
       "                                 [&#x27;balance&#x27;, &#x27;pdays&#x27;]),\n",
       "                                (&#x27;duration_scaler&#x27;, MinMaxScaler(),\n",
       "                                 [&#x27;duration&#x27;, &#x27;campaign&#x27;, &#x27;previous&#x27;]),\n",
       "                                (&#x27;date_transformer&#x27;, Date_Transformer(),\n",
       "                                 [&#x27;last contact date&#x27;])])</pre></div></div></div><div class=\"sk-parallel\"><div class=\"sk-parallel-item\"><div class=\"sk-item\"><div class=\"sk-label-container\"><div class=\"sk-label sk-toggleable\"><input class=\"sk-toggleable__control sk-hidden--visually\" id=\"sk-estimator-id-53\" type=\"checkbox\" ><label for=\"sk-estimator-id-53\" class=\"sk-toggleable__label sk-toggleable__label-arrow\">drop_column</label><div class=\"sk-toggleable__content\"><pre>[&#x27;poutcome&#x27;]</pre></div></div></div><div class=\"sk-serial\"><div class=\"sk-item\"><div class=\"sk-estimator sk-toggleable\"><input class=\"sk-toggleable__control sk-hidden--visually\" id=\"sk-estimator-id-54\" type=\"checkbox\" ><label for=\"sk-estimator-id-54\" class=\"sk-toggleable__label sk-toggleable__label-arrow\">drop</label><div class=\"sk-toggleable__content\"><pre>drop</pre></div></div></div></div></div></div><div class=\"sk-parallel-item\"><div class=\"sk-item\"><div class=\"sk-label-container\"><div class=\"sk-label sk-toggleable\"><input class=\"sk-toggleable__control sk-hidden--visually\" id=\"sk-estimator-id-55\" type=\"checkbox\" ><label for=\"sk-estimator-id-55\" class=\"sk-toggleable__label sk-toggleable__label-arrow\">job_pipeline</label><div class=\"sk-toggleable__content\"><pre>[&#x27;job&#x27;]</pre></div></div></div><div class=\"sk-serial\"><div class=\"sk-item\"><div class=\"sk-serial\"><div class=\"sk-item\"><div class=\"sk-estimator sk-toggleable\"><input class=\"sk-toggleable__control sk-hidden--visually\" id=\"sk-estimator-id-56\" type=\"checkbox\" ><label for=\"sk-estimator-id-56\" class=\"sk-toggleable__label sk-toggleable__label-arrow\">SimpleImputer</label><div class=\"sk-toggleable__content\"><pre>SimpleImputer(fill_value=&#x27;unknown&#x27;, strategy=&#x27;constant&#x27;)</pre></div></div></div><div class=\"sk-item\"><div class=\"sk-estimator sk-toggleable\"><input class=\"sk-toggleable__control sk-hidden--visually\" id=\"sk-estimator-id-57\" type=\"checkbox\" ><label for=\"sk-estimator-id-57\" class=\"sk-toggleable__label sk-toggleable__label-arrow\">OneHotEncoder</label><div class=\"sk-toggleable__content\"><pre>OneHotEncoder(sparse_output=False)</pre></div></div></div></div></div></div></div></div><div class=\"sk-parallel-item\"><div class=\"sk-item\"><div class=\"sk-label-container\"><div class=\"sk-label sk-toggleable\"><input class=\"sk-toggleable__control sk-hidden--visually\" id=\"sk-estimator-id-58\" type=\"checkbox\" ><label for=\"sk-estimator-id-58\" class=\"sk-toggleable__label sk-toggleable__label-arrow\">education_pipeline</label><div class=\"sk-toggleable__content\"><pre>[&#x27;education&#x27;]</pre></div></div></div><div class=\"sk-serial\"><div class=\"sk-item\"><div class=\"sk-serial\"><div class=\"sk-item\"><div class=\"sk-estimator sk-toggleable\"><input class=\"sk-toggleable__control sk-hidden--visually\" id=\"sk-estimator-id-59\" type=\"checkbox\" ><label for=\"sk-estimator-id-59\" class=\"sk-toggleable__label sk-toggleable__label-arrow\">SimpleImputer</label><div class=\"sk-toggleable__content\"><pre>SimpleImputer(strategy=&#x27;most_frequent&#x27;)</pre></div></div></div><div class=\"sk-item\"><div class=\"sk-estimator sk-toggleable\"><input class=\"sk-toggleable__control sk-hidden--visually\" id=\"sk-estimator-id-60\" type=\"checkbox\" ><label for=\"sk-estimator-id-60\" class=\"sk-toggleable__label sk-toggleable__label-arrow\">OrdinalEncoder</label><div class=\"sk-toggleable__content\"><pre>OrdinalEncoder()</pre></div></div></div></div></div></div></div></div><div class=\"sk-parallel-item\"><div class=\"sk-item\"><div class=\"sk-label-container\"><div class=\"sk-label sk-toggleable\"><input class=\"sk-toggleable__control sk-hidden--visually\" id=\"sk-estimator-id-61\" type=\"checkbox\" ><label for=\"sk-estimator-id-61\" class=\"sk-toggleable__label sk-toggleable__label-arrow\">contact_pipeline</label><div class=\"sk-toggleable__content\"><pre>[&#x27;contact&#x27;]</pre></div></div></div><div class=\"sk-serial\"><div class=\"sk-item\"><div class=\"sk-serial\"><div class=\"sk-item\"><div class=\"sk-estimator sk-toggleable\"><input class=\"sk-toggleable__control sk-hidden--visually\" id=\"sk-estimator-id-62\" type=\"checkbox\" ><label for=\"sk-estimator-id-62\" class=\"sk-toggleable__label sk-toggleable__label-arrow\">SimpleImputer</label><div class=\"sk-toggleable__content\"><pre>SimpleImputer(strategy=&#x27;most_frequent&#x27;)</pre></div></div></div><div class=\"sk-item\"><div class=\"sk-estimator sk-toggleable\"><input class=\"sk-toggleable__control sk-hidden--visually\" id=\"sk-estimator-id-63\" type=\"checkbox\" ><label for=\"sk-estimator-id-63\" class=\"sk-toggleable__label sk-toggleable__label-arrow\">OneHotEncoder</label><div class=\"sk-toggleable__content\"><pre>OneHotEncoder(sparse_output=False)</pre></div></div></div></div></div></div></div></div><div class=\"sk-parallel-item\"><div class=\"sk-item\"><div class=\"sk-label-container\"><div class=\"sk-label sk-toggleable\"><input class=\"sk-toggleable__control sk-hidden--visually\" id=\"sk-estimator-id-64\" type=\"checkbox\" ><label for=\"sk-estimator-id-64\" class=\"sk-toggleable__label sk-toggleable__label-arrow\">binary_pipeline</label><div class=\"sk-toggleable__content\"><pre>[&#x27;default&#x27;, &#x27;housing&#x27;, &#x27;loan&#x27;]</pre></div></div></div><div class=\"sk-serial\"><div class=\"sk-item\"><div class=\"sk-estimator sk-toggleable\"><input class=\"sk-toggleable__control sk-hidden--visually\" id=\"sk-estimator-id-65\" type=\"checkbox\" ><label for=\"sk-estimator-id-65\" class=\"sk-toggleable__label sk-toggleable__label-arrow\">OneHotEncoder</label><div class=\"sk-toggleable__content\"><pre>OneHotEncoder(drop=&#x27;if_binary&#x27;)</pre></div></div></div></div></div></div><div class=\"sk-parallel-item\"><div class=\"sk-item\"><div class=\"sk-label-container\"><div class=\"sk-label sk-toggleable\"><input class=\"sk-toggleable__control sk-hidden--visually\" id=\"sk-estimator-id-66\" type=\"checkbox\" ><label for=\"sk-estimator-id-66\" class=\"sk-toggleable__label sk-toggleable__label-arrow\">marital_pipeline</label><div class=\"sk-toggleable__content\"><pre>[&#x27;marital&#x27;]</pre></div></div></div><div class=\"sk-serial\"><div class=\"sk-item\"><div class=\"sk-estimator sk-toggleable\"><input class=\"sk-toggleable__control sk-hidden--visually\" id=\"sk-estimator-id-67\" type=\"checkbox\" ><label for=\"sk-estimator-id-67\" class=\"sk-toggleable__label sk-toggleable__label-arrow\">OneHotEncoder</label><div class=\"sk-toggleable__content\"><pre>OneHotEncoder(sparse_output=False)</pre></div></div></div></div></div></div><div class=\"sk-parallel-item\"><div class=\"sk-item\"><div class=\"sk-label-container\"><div class=\"sk-label sk-toggleable\"><input class=\"sk-toggleable__control sk-hidden--visually\" id=\"sk-estimator-id-68\" type=\"checkbox\" ><label for=\"sk-estimator-id-68\" class=\"sk-toggleable__label sk-toggleable__label-arrow\">age_scaler</label><div class=\"sk-toggleable__content\"><pre>[&#x27;age&#x27;]</pre></div></div></div><div class=\"sk-serial\"><div class=\"sk-item\"><div class=\"sk-estimator sk-toggleable\"><input class=\"sk-toggleable__control sk-hidden--visually\" id=\"sk-estimator-id-69\" type=\"checkbox\" ><label for=\"sk-estimator-id-69\" class=\"sk-toggleable__label sk-toggleable__label-arrow\">StandardScaler</label><div class=\"sk-toggleable__content\"><pre>StandardScaler()</pre></div></div></div></div></div></div><div class=\"sk-parallel-item\"><div class=\"sk-item\"><div class=\"sk-label-container\"><div class=\"sk-label sk-toggleable\"><input class=\"sk-toggleable__control sk-hidden--visually\" id=\"sk-estimator-id-70\" type=\"checkbox\" ><label for=\"sk-estimator-id-70\" class=\"sk-toggleable__label sk-toggleable__label-arrow\">balance_scaler</label><div class=\"sk-toggleable__content\"><pre>[&#x27;balance&#x27;, &#x27;pdays&#x27;]</pre></div></div></div><div class=\"sk-serial\"><div class=\"sk-item\"><div class=\"sk-estimator sk-toggleable\"><input class=\"sk-toggleable__control sk-hidden--visually\" id=\"sk-estimator-id-71\" type=\"checkbox\" ><label for=\"sk-estimator-id-71\" class=\"sk-toggleable__label sk-toggleable__label-arrow\">RobustScaler</label><div class=\"sk-toggleable__content\"><pre>RobustScaler()</pre></div></div></div></div></div></div><div class=\"sk-parallel-item\"><div class=\"sk-item\"><div class=\"sk-label-container\"><div class=\"sk-label sk-toggleable\"><input class=\"sk-toggleable__control sk-hidden--visually\" id=\"sk-estimator-id-72\" type=\"checkbox\" ><label for=\"sk-estimator-id-72\" class=\"sk-toggleable__label sk-toggleable__label-arrow\">duration_scaler</label><div class=\"sk-toggleable__content\"><pre>[&#x27;duration&#x27;, &#x27;campaign&#x27;, &#x27;previous&#x27;]</pre></div></div></div><div class=\"sk-serial\"><div class=\"sk-item\"><div class=\"sk-estimator sk-toggleable\"><input class=\"sk-toggleable__control sk-hidden--visually\" id=\"sk-estimator-id-73\" type=\"checkbox\" ><label for=\"sk-estimator-id-73\" class=\"sk-toggleable__label sk-toggleable__label-arrow\">MinMaxScaler</label><div class=\"sk-toggleable__content\"><pre>MinMaxScaler()</pre></div></div></div></div></div></div><div class=\"sk-parallel-item\"><div class=\"sk-item\"><div class=\"sk-label-container\"><div class=\"sk-label sk-toggleable\"><input class=\"sk-toggleable__control sk-hidden--visually\" id=\"sk-estimator-id-74\" type=\"checkbox\" ><label for=\"sk-estimator-id-74\" class=\"sk-toggleable__label sk-toggleable__label-arrow\">date_transformer</label><div class=\"sk-toggleable__content\"><pre>[&#x27;last contact date&#x27;]</pre></div></div></div><div class=\"sk-serial\"><div class=\"sk-item\"><div class=\"sk-estimator sk-toggleable\"><input class=\"sk-toggleable__control sk-hidden--visually\" id=\"sk-estimator-id-75\" type=\"checkbox\" ><label for=\"sk-estimator-id-75\" class=\"sk-toggleable__label sk-toggleable__label-arrow\">Date_Transformer</label><div class=\"sk-toggleable__content\"><pre>Date_Transformer()</pre></div></div></div></div></div></div></div></div><div class=\"sk-item\"><div class=\"sk-estimator sk-toggleable\"><input class=\"sk-toggleable__control sk-hidden--visually\" id=\"sk-estimator-id-76\" type=\"checkbox\" ><label for=\"sk-estimator-id-76\" class=\"sk-toggleable__label sk-toggleable__label-arrow\">PCA</label><div class=\"sk-toggleable__content\"><pre>PCA(n_components=0.95)</pre></div></div></div><div class=\"sk-item\"><div class=\"sk-estimator sk-toggleable\"><input class=\"sk-toggleable__control sk-hidden--visually\" id=\"sk-estimator-id-77\" type=\"checkbox\" ><label for=\"sk-estimator-id-77\" class=\"sk-toggleable__label sk-toggleable__label-arrow\">RandomForestClassifier</label><div class=\"sk-toggleable__content\"><pre>RandomForestClassifier(class_weight=&#x27;balanced&#x27;, max_depth=20, max_features=None,\n",
       "                       min_samples_leaf=2, n_estimators=300)</pre></div></div></div></div></div></div></div>"
      ],
      "text/plain": [
       "Pipeline(steps=[('preprocess',\n",
       "                 ColumnTransformer(transformers=[('drop_column', 'drop',\n",
       "                                                  ['poutcome']),\n",
       "                                                 ('job_pipeline',\n",
       "                                                  Pipeline(steps=[('impute_unknown',\n",
       "                                                                   SimpleImputer(fill_value='unknown',\n",
       "                                                                                 strategy='constant')),\n",
       "                                                                  ('onehot',\n",
       "                                                                   OneHotEncoder(sparse_output=False))]),\n",
       "                                                  ['job']),\n",
       "                                                 ('education_pipeline',\n",
       "                                                  Pipeline(steps=[('impute_most_frequent',\n",
       "                                                                   SimpleImputer(strategy='mo...\n",
       "                                                  StandardScaler(), ['age']),\n",
       "                                                 ('balance_scaler',\n",
       "                                                  RobustScaler(),\n",
       "                                                  ['balance', 'pdays']),\n",
       "                                                 ('duration_scaler',\n",
       "                                                  MinMaxScaler(),\n",
       "                                                  ['duration', 'campaign',\n",
       "                                                   'previous']),\n",
       "                                                 ('date_transformer',\n",
       "                                                  Date_Transformer(),\n",
       "                                                  ['last contact date'])])),\n",
       "                ('pca', PCA(n_components=0.95)),\n",
       "                ('rf_model',\n",
       "                 RandomForestClassifier(class_weight='balanced', max_depth=20,\n",
       "                                        max_features=None, min_samples_leaf=2,\n",
       "                                        n_estimators=300))])"
      ]
     },
     "execution_count": 65,
     "metadata": {},
     "output_type": "execute_result"
    }
   ],
   "source": [
    "from sklearn.decomposition import PCA\n",
    "\n",
    "rf_model_pipe_with_pca = Pipeline([\n",
    "    ('preprocess', preprocessing_pipe),\n",
    "    ('pca', PCA(n_components=0.95)),\n",
    "    ('rf_model', RandomForestClassifier(\n",
    "        max_depth=20, \n",
    "        max_features=None,\n",
    "        min_samples_leaf=2,\n",
    "        n_estimators=300,\n",
    "        class_weight='balanced'\n",
    "    ))\n",
    "])\n",
    "\n",
    "pca = rf_model_pipe_with_pca.fit(X_train, y_train)\n",
    "pca"
   ]
  },
  {
   "cell_type": "code",
   "execution_count": 66,
   "id": "8290f9b0",
   "metadata": {
    "execution": {
     "iopub.execute_input": "2024-12-09T16:08:54.569601Z",
     "iopub.status.busy": "2024-12-09T16:08:54.569207Z",
     "iopub.status.idle": "2024-12-09T16:08:55.104478Z",
     "shell.execute_reply": "2024-12-09T16:08:55.103397Z"
    },
    "papermill": {
     "duration": 0.57778,
     "end_time": "2024-12-09T16:08:55.106572",
     "exception": false,
     "start_time": "2024-12-09T16:08:54.528792",
     "status": "completed"
    },
    "tags": []
   },
   "outputs": [
    {
     "data": {
      "text/plain": [
       "0.6331046996618971"
      ]
     },
     "execution_count": 66,
     "metadata": {},
     "output_type": "execute_result"
    }
   ],
   "source": [
    "pca_y_pred = pca.predict(X_test)\n",
    "f1_score(y_test, pca_y_pred, average='macro')"
   ]
  },
  {
   "cell_type": "markdown",
   "id": "88ce373a",
   "metadata": {
    "papermill": {
     "duration": 0.044334,
     "end_time": "2024-12-09T16:08:55.188983",
     "exception": false,
     "start_time": "2024-12-09T16:08:55.144649",
     "status": "completed"
    },
    "tags": []
   },
   "source": [
    "F1 Score = `0.632687854233173`"
   ]
  },
  {
   "cell_type": "markdown",
   "id": "4817feb2",
   "metadata": {
    "papermill": {
     "duration": 0.038407,
     "end_time": "2024-12-09T16:08:55.266117",
     "exception": false,
     "start_time": "2024-12-09T16:08:55.227710",
     "status": "completed"
    },
    "tags": []
   },
   "source": [
    "#### Observations\n",
    "\n",
    "While **PCA** can be helpful for speeding up training and reducing noise, it can also discard useful information that might be critical for models like **Random Forest Classifier**. In this case, the model's predictive power suffered because the dimensionality reduction removed features or interactions that were essential for making accurate predictions."
   ]
  },
  {
   "cell_type": "markdown",
   "id": "3c0dac69",
   "metadata": {
    "papermill": {
     "duration": 0.05127,
     "end_time": "2024-12-09T16:08:55.365392",
     "exception": false,
     "start_time": "2024-12-09T16:08:55.314122",
     "status": "completed"
    },
    "tags": []
   },
   "source": [
    "### Evaluating the model"
   ]
  },
  {
   "cell_type": "markdown",
   "id": "303c3d5b",
   "metadata": {
    "papermill": {
     "duration": 0.037846,
     "end_time": "2024-12-09T16:08:55.441833",
     "exception": false,
     "start_time": "2024-12-09T16:08:55.403987",
     "status": "completed"
    },
    "tags": []
   },
   "source": [
    "Model evaluation involves tools like the **confusion_matrix** for understanding prediction errors, the **ConfusionMatrixDisplay** for a visual summary, and the **classification_report** for precision, recall, F1-score, and overall performance metrics, enabling a comprehensive assessment of the model's effectiveness."
   ]
  },
  {
   "cell_type": "code",
   "execution_count": 67,
   "id": "2d8cf7d7",
   "metadata": {
    "execution": {
     "iopub.execute_input": "2024-12-09T16:08:55.520762Z",
     "iopub.status.busy": "2024-12-09T16:08:55.520366Z",
     "iopub.status.idle": "2024-12-09T16:08:55.774582Z",
     "shell.execute_reply": "2024-12-09T16:08:55.773526Z"
    },
    "papermill": {
     "duration": 0.297017,
     "end_time": "2024-12-09T16:08:55.777129",
     "exception": false,
     "start_time": "2024-12-09T16:08:55.480112",
     "status": "completed"
    },
    "tags": []
   },
   "outputs": [
    {
     "data": {
      "image/png": "[encoded data removed]",
      "text/plain": [
       "<Figure size 640x480 with 2 Axes>"
      ]
     },
     "metadata": {},
     "output_type": "display_data"
    }
   ],
   "source": [
    "cm = confusion_matrix(y_test, randomcv_rf_y_pred)\n",
    "disp = ConfusionMatrixDisplay(cm)\n",
    "disp.plot()\n",
    "plt.show()"
   ]
  },
  {
   "cell_type": "code",
   "execution_count": 68,
   "id": "2a926b44",
   "metadata": {
    "execution": {
     "iopub.execute_input": "2024-12-09T16:08:55.858589Z",
     "iopub.status.busy": "2024-12-09T16:08:55.857655Z",
     "iopub.status.idle": "2024-12-09T16:08:56.156569Z",
     "shell.execute_reply": "2024-12-09T16:08:56.155378Z"
    },
    "papermill": {
     "duration": 0.341622,
     "end_time": "2024-12-09T16:08:56.158776",
     "exception": false,
     "start_time": "2024-12-09T16:08:55.817154",
     "status": "completed"
    },
    "tags": []
   },
   "outputs": [
    {
     "name": "stdout",
     "output_type": "stream",
     "text": [
      "              precision    recall  f1-score   support\n",
      "\n",
      "          no       0.94      0.91      0.92      6701\n",
      "         yes       0.54      0.64      0.59      1142\n",
      "\n",
      "    accuracy                           0.87      7843\n",
      "   macro avg       0.74      0.77      0.75      7843\n",
      "weighted avg       0.88      0.87      0.87      7843\n",
      "\n"
     ]
    }
   ],
   "source": [
    "print(classification_report(y_test, randomcv_rf_y_pred))"
   ]
  },
  {
   "cell_type": "markdown",
   "id": "e58ab1cb",
   "metadata": {
    "papermill": {
     "duration": 0.040086,
     "end_time": "2024-12-09T16:08:56.237600",
     "exception": false,
     "start_time": "2024-12-09T16:08:56.197514",
     "status": "completed"
    },
    "tags": []
   },
   "source": [
    "## Model 4: HistGradientBoostingClassifier"
   ]
  },
  {
   "cell_type": "markdown",
   "id": "472df532",
   "metadata": {
    "papermill": {
     "duration": 0.038472,
     "end_time": "2024-12-09T16:08:56.314550",
     "exception": false,
     "start_time": "2024-12-09T16:08:56.276078",
     "status": "completed"
    },
    "tags": []
   },
   "source": [
    "The **HistGradientBoostingClassifier** is a high-performance implementation of gradient boosting, designed for faster training on large datasets by binning continuous features into discrete bins. It builds decision trees sequentially, where each tree corrects the errors of the previous ones, making it effective for complex datasets."
   ]
  },
  {
   "cell_type": "code",
   "execution_count": 69,
   "id": "afec4c8b",
   "metadata": {
    "execution": {
     "iopub.execute_input": "2024-12-09T16:08:56.396829Z",
     "iopub.status.busy": "2024-12-09T16:08:56.396392Z",
     "iopub.status.idle": "2024-12-09T16:08:56.401793Z",
     "shell.execute_reply": "2024-12-09T16:08:56.400753Z"
    },
    "papermill": {
     "duration": 0.049058,
     "end_time": "2024-12-09T16:08:56.403902",
     "exception": false,
     "start_time": "2024-12-09T16:08:56.354844",
     "status": "completed"
    },
    "tags": []
   },
   "outputs": [],
   "source": [
    "from sklearn.ensemble import HistGradientBoostingClassifier\n",
    "\n",
    "hgbc_model_pipe = Pipeline([\n",
    "    ('preprocess', preprocessing_pipe),\n",
    "    ('hgbc_model', HistGradientBoostingClassifier(class_weight='balanced'))\n",
    "])"
   ]
  },
  {
   "cell_type": "code",
   "execution_count": 70,
   "id": "826ab92f",
   "metadata": {
    "execution": {
     "iopub.execute_input": "2024-12-09T16:08:56.484685Z",
     "iopub.status.busy": "2024-12-09T16:08:56.483759Z",
     "iopub.status.idle": "2024-12-09T16:08:57.507812Z",
     "shell.execute_reply": "2024-12-09T16:08:57.506869Z"
    },
    "papermill": {
     "duration": 1.067337,
     "end_time": "2024-12-09T16:08:57.510620",
     "exception": false,
     "start_time": "2024-12-09T16:08:56.443283",
     "status": "completed"
    },
    "tags": []
   },
   "outputs": [],
   "source": [
    "hgbc_model = hgbc_model_pipe.fit(X_train, y_train)\n",
    "hgbc_y_pred = hgbc_model.predict(X_test)"
   ]
  },
  {
   "cell_type": "code",
   "execution_count": 71,
   "id": "7911111a",
   "metadata": {
    "execution": {
     "iopub.execute_input": "2024-12-09T16:08:57.592791Z",
     "iopub.status.busy": "2024-12-09T16:08:57.591813Z",
     "iopub.status.idle": "2024-12-09T16:08:57.668228Z",
     "shell.execute_reply": "2024-12-09T16:08:57.667116Z"
    },
    "papermill": {
     "duration": 0.119076,
     "end_time": "2024-12-09T16:08:57.670542",
     "exception": false,
     "start_time": "2024-12-09T16:08:57.551466",
     "status": "completed"
    },
    "tags": []
   },
   "outputs": [
    {
     "data": {
      "text/plain": [
       "0.7494458012193335"
      ]
     },
     "execution_count": 71,
     "metadata": {},
     "output_type": "execute_result"
    }
   ],
   "source": [
    "f1_score(y_test, hgbc_y_pred, average='macro')"
   ]
  },
  {
   "cell_type": "markdown",
   "id": "7c466c86",
   "metadata": {
    "papermill": {
     "duration": 0.03916,
     "end_time": "2024-12-09T16:08:57.748773",
     "exception": false,
     "start_time": "2024-12-09T16:08:57.709613",
     "status": "completed"
    },
    "tags": []
   },
   "source": [
    "F1 Score = `0.7504407226774947`"
   ]
  },
  {
   "cell_type": "markdown",
   "id": "21a15d1a",
   "metadata": {
    "papermill": {
     "duration": 0.038568,
     "end_time": "2024-12-09T16:08:57.826347",
     "exception": false,
     "start_time": "2024-12-09T16:08:57.787779",
     "status": "completed"
    },
    "tags": []
   },
   "source": [
    "### Hyperparameter Tuning using GridSearchCV"
   ]
  },
  {
   "cell_type": "markdown",
   "id": "547cc94d",
   "metadata": {
    "papermill": {
     "duration": 0.038368,
     "end_time": "2024-12-09T16:08:57.904153",
     "exception": false,
     "start_time": "2024-12-09T16:08:57.865785",
     "status": "completed"
    },
    "tags": []
   },
   "source": [
    "Hyperparameter tuning with **GridSearchCV** allows for systematic exploration of parameters like the number of iterations, learning rate, maximum tree depth, and the number of bins, ensuring the model is optimized for the specific dataset. This classifier is particularly efficient in handling numerical and categorical data, and its scalability makes it a popular choice for structured data classification tasks."
   ]
  },
  {
   "cell_type": "code",
   "execution_count": 72,
   "id": "714753ce",
   "metadata": {
    "execution": {
     "iopub.execute_input": "2024-12-09T16:08:57.984363Z",
     "iopub.status.busy": "2024-12-09T16:08:57.983980Z",
     "iopub.status.idle": "2024-12-09T16:08:57.989468Z",
     "shell.execute_reply": "2024-12-09T16:08:57.988354Z"
    },
    "papermill": {
     "duration": 0.048721,
     "end_time": "2024-12-09T16:08:57.991862",
     "exception": false,
     "start_time": "2024-12-09T16:08:57.943141",
     "status": "completed"
    },
    "tags": []
   },
   "outputs": [],
   "source": [
    "hgbc_param_grid = {\n",
    "    'hgbc_model__learning_rate': [0.05, 0.1],\n",
    "    'hgbc_model__max_iter': [100, 200],\n",
    "    'hgbc_model__max_depth': [5, 10],\n",
    "    'hgbc_model__min_samples_leaf': [10, 20],\n",
    "}"
   ]
  },
  {
   "cell_type": "code",
   "execution_count": 73,
   "id": "119e9bb9",
   "metadata": {
    "execution": {
     "iopub.execute_input": "2024-12-09T16:08:58.072592Z",
     "iopub.status.busy": "2024-12-09T16:08:58.072190Z",
     "iopub.status.idle": "2024-12-09T16:08:58.078098Z",
     "shell.execute_reply": "2024-12-09T16:08:58.077139Z"
    },
    "papermill": {
     "duration": 0.048331,
     "end_time": "2024-12-09T16:08:58.080073",
     "exception": false,
     "start_time": "2024-12-09T16:08:58.031742",
     "status": "completed"
    },
    "tags": []
   },
   "outputs": [],
   "source": [
    "# hgbc_grid_search = GridSearchCV(hgbc_model_pipe, hgbc_param_grid, scoring='f1_macro', cv=5, n_jobs=-1, verbose=1)\n",
    "# hgbc_grid_search.fit(X_train, y_train)\n",
    "\n",
    "# print(hgbc_grid_search.best_estimator_)\n",
    "# print(hgbc_grid_search.best_params_)\n",
    "# print(hgbc_grid_search.best_score_)\n",
    "\n",
    "# Fitting 5 folds for each of 16 candidates, totalling 80 fits\n",
    "# Pipeline(steps=[('preprocess',\n",
    "#                  ColumnTransformer(transformers=[('drop_column', 'drop',\n",
    "#                                                   ['poutcome']),\n",
    "#                                                  ('job_pipeline',\n",
    "#                                                   Pipeline(steps=[('impute_unknown',\n",
    "#                                                                    SimpleImputer(fill_value='unknown',\n",
    "#                                                                                  strategy='constant')),\n",
    "#                                                                   ('onehot',\n",
    "#                                                                    OneHotEncoder(sparse_output=False))]),\n",
    "#                                                   ['job']),\n",
    "#                                                  ('education_pipeline',\n",
    "#                                                   Pipeline(steps=[('impute_most_frequent',\n",
    "#                                                                    SimpleImputer(strategy='mo...\n",
    "#                                                   OneHotEncoder(sparse_output=False),\n",
    "#                                                   ['marital']),\n",
    "#                                                  ('age_scaler',\n",
    "#                                                   StandardScaler(), ['age']),\n",
    "#                                                  ('balance_scaler',\n",
    "#                                                   RobustScaler(),\n",
    "#                                                   ['balance', 'pdays']),\n",
    "#                                                  ('duration_scaler',\n",
    "#                                                   MinMaxScaler(),\n",
    "#                                                   ['duration', 'campaign',\n",
    "#                                                    'previous']),\n",
    "#                                                  ('date_transformer',\n",
    "#                                                   DateTransformer(),\n",
    "#                                                   ['last contact date'])])),\n",
    "#                 ('hgbc_model',\n",
    "#                  HistGradientBoostingClassifier(class_weight='balanced',\n",
    "#                                                 max_depth=10,\n",
    "#                                                 min_samples_leaf=10))])\n",
    "# {'hgbc_model__learning_rate': 0.1, 'hgbc_model__max_depth': 10, 'hgbc_model__max_iter': 100, 'hgbc_model__min_samples_leaf': 10}"
   ]
  },
  {
   "cell_type": "code",
   "execution_count": 74,
   "id": "7b5473dc",
   "metadata": {
    "execution": {
     "iopub.execute_input": "2024-12-09T16:08:58.159928Z",
     "iopub.status.busy": "2024-12-09T16:08:58.159535Z",
     "iopub.status.idle": "2024-12-09T16:08:58.164468Z",
     "shell.execute_reply": "2024-12-09T16:08:58.163483Z"
    },
    "papermill": {
     "duration": 0.047339,
     "end_time": "2024-12-09T16:08:58.166560",
     "exception": false,
     "start_time": "2024-12-09T16:08:58.119221",
     "status": "completed"
    },
    "tags": []
   },
   "outputs": [],
   "source": [
    "gridcv_hgbc_model_pipe = Pipeline([\n",
    "    ('preprocess', preprocessing_pipe),\n",
    "    ('gridcv_hgbc_model', HistGradientBoostingClassifier(class_weight='balanced', max_depth=10, min_samples_leaf=10))\n",
    "])"
   ]
  },
  {
   "cell_type": "code",
   "execution_count": 75,
   "id": "7bcd9b52",
   "metadata": {
    "execution": {
     "iopub.execute_input": "2024-12-09T16:08:58.246614Z",
     "iopub.status.busy": "2024-12-09T16:08:58.246205Z",
     "iopub.status.idle": "2024-12-09T16:08:59.222843Z",
     "shell.execute_reply": "2024-12-09T16:08:59.222021Z"
    },
    "papermill": {
     "duration": 1.020226,
     "end_time": "2024-12-09T16:08:59.225696",
     "exception": false,
     "start_time": "2024-12-09T16:08:58.205470",
     "status": "completed"
    },
    "tags": []
   },
   "outputs": [],
   "source": [
    "gridcv_hgbc_model = gridcv_hgbc_model_pipe.fit(X_train, y_train)\n",
    "gridcv_hgbc_y_pred = gridcv_hgbc_model.predict(X_test)"
   ]
  },
  {
   "cell_type": "code",
   "execution_count": 76,
   "id": "f269d216",
   "metadata": {
    "execution": {
     "iopub.execute_input": "2024-12-09T16:08:59.305922Z",
     "iopub.status.busy": "2024-12-09T16:08:59.305208Z",
     "iopub.status.idle": "2024-12-09T16:08:59.380160Z",
     "shell.execute_reply": "2024-12-09T16:08:59.379143Z"
    },
    "papermill": {
     "duration": 0.117338,
     "end_time": "2024-12-09T16:08:59.382362",
     "exception": false,
     "start_time": "2024-12-09T16:08:59.265024",
     "status": "completed"
    },
    "tags": []
   },
   "outputs": [
    {
     "data": {
      "text/plain": [
       "0.7490719894588529"
      ]
     },
     "execution_count": 76,
     "metadata": {},
     "output_type": "execute_result"
    }
   ],
   "source": [
    "f1_score(y_test, gridcv_hgbc_y_pred, average='macro')"
   ]
  },
  {
   "cell_type": "markdown",
   "id": "e2e6751b",
   "metadata": {
    "papermill": {
     "duration": 0.038613,
     "end_time": "2024-12-09T16:08:59.460097",
     "exception": false,
     "start_time": "2024-12-09T16:08:59.421484",
     "status": "completed"
    },
    "tags": []
   },
   "source": [
    "F1 Score = `0.7484462956913771`"
   ]
  },
  {
   "cell_type": "markdown",
   "id": "72058fc5",
   "metadata": {
    "papermill": {
     "duration": 0.041088,
     "end_time": "2024-12-09T16:08:59.540228",
     "exception": false,
     "start_time": "2024-12-09T16:08:59.499140",
     "status": "completed"
    },
    "tags": []
   },
   "source": [
    "#### Observations\n",
    "\n",
    "- **Baseline F1-Score:** `0.7509` (HistGradientBoostingClassifier with default settings).\n",
    "\n",
    "- **Hyperparameter-Tuned F1-Score:** `0.7495` (HistGradientBoostingClassifier with `max_depth=10`, `min_samples_leaf=10`).\n",
    "\n",
    "- **Improvement:** Marginal decrease of `-0.0015` in F1-Score.\n",
    "\n",
    "- **Hyperparameter Tuning:** Explored `learning_rate`, `max_iter`, `max_depth` and `min_samples_leaf`, but gains were minimal.\n",
    "\n",
    "- **Effect of Tuning:** The tuned parameters did not significantly outperform the baseline, indicating the model was already near optimal.\n",
    "\n",
    "- **Model Complexity:** Increased complexity (higher `max_depth`) did not lead to better generalization, possibly due to overfitting.\n",
    "\n",
    "- **Class Weight:** Both models used `class_weight='balanced'`, which effectively handled class imbalance."
   ]
  },
  {
   "cell_type": "markdown",
   "id": "b3f325a9",
   "metadata": {
    "papermill": {
     "duration": 0.038574,
     "end_time": "2024-12-09T16:08:59.618357",
     "exception": false,
     "start_time": "2024-12-09T16:08:59.579783",
     "status": "completed"
    },
    "tags": []
   },
   "source": [
    "## Choosing the Best Model"
   ]
  },
  {
   "cell_type": "code",
   "execution_count": 77,
   "id": "e8cb63f5",
   "metadata": {
    "execution": {
     "iopub.execute_input": "2024-12-09T16:08:59.697705Z",
     "iopub.status.busy": "2024-12-09T16:08:59.697328Z",
     "iopub.status.idle": "2024-12-09T16:08:59.710509Z",
     "shell.execute_reply": "2024-12-09T16:08:59.709510Z"
    },
    "papermill": {
     "duration": 0.055347,
     "end_time": "2024-12-09T16:08:59.712610",
     "exception": false,
     "start_time": "2024-12-09T16:08:59.657263",
     "status": "completed"
    },
    "tags": []
   },
   "outputs": [
    {
     "data": {
      "text/html": [
       "<div>\n",
       "<style scoped>\n",
       "    .dataframe tbody tr th:only-of-type {\n",
       "        vertical-align: middle;\n",
       "    }\n",
       "\n",
       "    .dataframe tbody tr th {\n",
       "        vertical-align: top;\n",
       "    }\n",
       "\n",
       "    .dataframe thead th {\n",
       "        text-align: right;\n",
       "    }\n",
       "</style>\n",
       "<table border=\"1\" class=\"dataframe\">\n",
       "  <thead>\n",
       "    <tr style=\"text-align: right;\">\n",
       "      <th></th>\n",
       "      <th>Model</th>\n",
       "      <th>F1 Score</th>\n",
       "    </tr>\n",
       "  </thead>\n",
       "  <tbody>\n",
       "    <tr>\n",
       "      <th>0</th>\n",
       "      <td>LogisticRegression</td>\n",
       "      <td>0.571718</td>\n",
       "    </tr>\n",
       "    <tr>\n",
       "      <th>1</th>\n",
       "      <td>KNearestNeighbours</td>\n",
       "      <td>0.638616</td>\n",
       "    </tr>\n",
       "    <tr>\n",
       "      <th>2</th>\n",
       "      <td>RandomForestClassifier</td>\n",
       "      <td>0.752249</td>\n",
       "    </tr>\n",
       "    <tr>\n",
       "      <th>3</th>\n",
       "      <td>HistGradientBoostingClassifier</td>\n",
       "      <td>0.748446</td>\n",
       "    </tr>\n",
       "  </tbody>\n",
       "</table>\n",
       "</div>"
      ],
      "text/plain": [
       "                            Model  F1 Score\n",
       "0              LogisticRegression  0.571718\n",
       "1              KNearestNeighbours  0.638616\n",
       "2          RandomForestClassifier  0.752249\n",
       "3  HistGradientBoostingClassifier  0.748446"
      ]
     },
     "execution_count": 77,
     "metadata": {},
     "output_type": "execute_result"
    }
   ],
   "source": [
    "# Constructing a dictionary to store model names as keys and their corresponding F1 scores obtained after hyperparameter tuning as values\n",
    "\n",
    "models_dict = {'LogisticRegression': 0.571717512040596,\n",
    "             'KNearestNeighbours': 0.6386156845062445, \n",
    "             'RandomForestClassifier': 0.7522489896432369,\n",
    "             'HistGradientBoostingClassifier': 0.7484462956913771}\n",
    "models_df = pd.DataFrame()\n",
    "models_df['Model'] = models_dict.keys()\n",
    "models_df['F1 Score'] = models_dict.values()\n",
    "models_df"
   ]
  },
  {
   "cell_type": "code",
   "execution_count": 78,
   "id": "a5b1f87d",
   "metadata": {
    "execution": {
     "iopub.execute_input": "2024-12-09T16:08:59.793128Z",
     "iopub.status.busy": "2024-12-09T16:08:59.792347Z",
     "iopub.status.idle": "2024-12-09T16:09:00.167378Z",
     "shell.execute_reply": "2024-12-09T16:09:00.166246Z"
    },
    "papermill": {
     "duration": 0.41793,
     "end_time": "2024-12-09T16:09:00.169627",
     "exception": false,
     "start_time": "2024-12-09T16:08:59.751697",
     "status": "completed"
    },
    "tags": []
   },
   "outputs": [
    {
     "data": {
      "image/png": "[encoded data removed]",
      "text/plain": [
       "<Figure size 640x480 with 1 Axes>"
      ]
     },
     "metadata": {},
     "output_type": "display_data"
    }
   ],
   "source": [
    "ax = sns.barplot(data=models_df, x='F1 Score', y='Model')\n",
    "ax.bar_label(ax.containers[0], fontsize=10, label_type='center')\n",
    "plt.show()"
   ]
  },
  {
   "cell_type": "markdown",
   "id": "40551449",
   "metadata": {
    "papermill": {
     "duration": 0.03995,
     "end_time": "2024-12-09T16:09:00.251027",
     "exception": false,
     "start_time": "2024-12-09T16:09:00.211077",
     "status": "completed"
    },
    "tags": []
   },
   "source": [
    "Based on the F1 score, **RandomForestClassifier** with hyperparameters tuned using **RandomizedSearchCV** is chosen for the final submission."
   ]
  },
  {
   "cell_type": "markdown",
   "id": "665455f4",
   "metadata": {
    "papermill": {
     "duration": 0.039608,
     "end_time": "2024-12-09T16:09:00.330537",
     "exception": false,
     "start_time": "2024-12-09T16:09:00.290929",
     "status": "completed"
    },
    "tags": []
   },
   "source": [
    "## Final Submission"
   ]
  },
  {
   "cell_type": "code",
   "execution_count": 79,
   "id": "629903b8",
   "metadata": {
    "execution": {
     "iopub.execute_input": "2024-12-09T16:09:00.414028Z",
     "iopub.status.busy": "2024-12-09T16:09:00.413234Z",
     "iopub.status.idle": "2024-12-09T16:09:00.949551Z",
     "shell.execute_reply": "2024-12-09T16:09:00.948361Z"
    },
    "papermill": {
     "duration": 0.581467,
     "end_time": "2024-12-09T16:09:00.951912",
     "exception": false,
     "start_time": "2024-12-09T16:09:00.370445",
     "status": "completed"
    },
    "tags": []
   },
   "outputs": [
    {
     "name": "stdout",
     "output_type": "stream",
     "text": [
      "   id target\n",
      "0   0     no\n",
      "1   1     no\n",
      "2   2     no\n",
      "3   3     no\n",
      "4   4    yes\n"
     ]
    }
   ],
   "source": [
    "# Generating submission.csv file for final submission\n",
    "\n",
    "submission_file_generator(randomcv_rf_model)"
   ]
  }
 ],
 "metadata": {
  "kaggle": {
   "accelerator": "none",
   "dataSources": [
    {
     "databundleVersionId": 9578279,
     "sourceId": 85062,
     "sourceType": "competition"
    }
   ],
   "dockerImageVersionId": 30761,
   "isGpuEnabled": false,
   "isInternetEnabled": false,
   "language": "python",
   "sourceType": "notebook"
  },
  "kernelspec": {
   "display_name": "Python 3",
   "language": "python",
   "name": "python3"
  },
  "language_info": {
   "codemirror_mode": {
    "name": "ipython",
    "version": 3
   },
   "file_extension": ".py",
   "mimetype": "text/x-python",
   "name": "python",
   "nbconvert_exporter": "python",
   "pygments_lexer": "ipython3",
   "version": "3.10.14"
  },
  "papermill": {
   "default_parameters": {},
   "duration": 125.390107,
   "end_time": "2024-12-09T16:09:01.815257",
   "environment_variables": {},
   "exception": null,
   "input_path": "__notebook__.ipynb",
   "output_path": "__notebook__.ipynb",
   "parameters": {},
   "start_time": "2024-12-09T16:06:56.425150",
   "version": "2.6.0"
  }
 },
 "nbformat": 4,
 "nbformat_minor": 5
}
